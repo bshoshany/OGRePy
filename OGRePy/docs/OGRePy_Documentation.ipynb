{
 "cells": [
  {
   "cell_type": "markdown",
   "id": "c384999f",
   "metadata": {},
   "source": [
    "\n",
    "\n",
    "# OGRePy: An Object-Oriented General Relativity Package for Python\n",
    "\n",
    "By **Barak Shoshany**\\\n",
    "Email: <baraksh@gmail.com>\\\n",
    "Website: <https://baraksh.com/>\\\n",
    "GitHub: <https://github.com/bshoshany>\n",
    "\n",
    "GitHub repository: <https://github.com/bshoshany/OGRePy>\\\n",
    "PyPi project: <https://pypi.org/project/OGRePy/>\n",
    "\n",
    "This is the complete documentation for **v1.3.0** of the package, released on **2025-02-04**.\n",
    "\n",
    "\n",
    "\n",
    "* [Introduction](#introduction)\n",
    "    * [Summary](#summary)\n",
    "    * [Features](#features)\n",
    "    * [The object-oriented design philosophy](#the-object-oriented-design-philosophy)\n",
    "* [Installing and loading the package](#installing-and-loading-the-package)\n",
    "    * [Global installation](#global-installation)\n",
    "    * [Installing in a virtual environment](#installing-in-a-virtual-environment)\n",
    "    * [Creating a Jupyter notebook](#creating-a-jupyter-notebook)\n",
    "    * [Importing the package](#importing-the-package)\n",
    "    * [Getting help](#getting-help)\n",
    "* [Creating and displaying tensor objects](#creating-and-displaying-tensor-objects)\n",
    "    * [Defining coordinates](#defining-coordinates)\n",
    "    * [Error checking](#error-checking)\n",
    "    * [Defining metrics](#defining-metrics)\n",
    "    * [Displaying tensors](#displaying-tensors)\n",
    "    * [Changing the output style](#changing-the-output-style)\n",
    "    * [Line and volume elements](#line-and-volume-elements)\n",
    "    * [Choosing index letters](#choosing-index-letters)\n",
    "    * [Creating tensors in a given manifold](#creating-tensors-in-a-given-manifold)\n",
    "* [Operations on single tensors](#operations-on-single-tensors)\n",
    "    * [Changing a tensor's symbol](#changing-a-tensors-symbol)\n",
    "    * [Raising and lowering indices](#raising-and-lowering-indices)\n",
    "    * [Coordinate transformations](#coordinate-transformations)\n",
    "    * [Replacing symbols in the tensor components](#replacing-symbols-in-the-tensor-components)\n",
    "    * [Customizing the simplification function](#customizing-the-simplification-function)\n",
    "    * [Getting information about tensors](#getting-information-about-tensors)\n",
    "    * [Getting the components of a tensor](#getting-the-components-of-a-tensor)\n",
    "    * [Comparing tensors](#comparing-tensors)\n",
    "* [Calculations with tensors](#calculations-with-tensors)\n",
    "    * [Addition of tensors](#addition-of-tensors)\n",
    "    * [More on index specifications](#more-on-index-specifications)\n",
    "    * [Multiplication of tensor by scalar](#multiplication-of-tensor-by-scalar)\n",
    "    * [Taking traces and contracting tensors: theoretical review](#taking-traces-and-contracting-tensors-theoretical-review)\n",
    "    * [Taking traces and contracting tensors: OGRePy syntax](#taking-traces-and-contracting-tensors-ogrepy-syntax)\n",
    "* [Derivatives and curvature tensors](#derivatives-and-curvature-tensors)\n",
    "    * [The Christoffel symbols](#the-christoffel-symbols)\n",
    "    * [The Riemann tensor](#the-riemann-tensor)\n",
    "    * [Exact sign checks with `list()`](#exact-sign-checks-with-list)\n",
    "    * [The `riemann()` method and caching](#the-riemann-method-and-caching)\n",
    "    * [The Kretschmann scalar](#the-kretschmann-scalar)\n",
    "    * [The Ricci tensor and scalar](#the-ricci-tensor-and-scalar)\n",
    "    * [The Einstein tensor](#the-einstein-tensor)\n",
    "    * [Covariant derivatives](#covariant-derivatives)\n",
    "* [Curves and geodesics](#curves-and-geodesics)\n",
    "    * [The curve Lagrangian](#the-curve-lagrangian)\n",
    "    * [Geodesic equations from the Lagrangian](#geodesic-equations-from-the-lagrangian)\n",
    "    * [Geodesic equations from the Christoffel symbols](#geodesic-equations-from-the-christoffel-symbols)\n",
    "    * [Geodesics equations in terms of the time coordinate](#geodesics-equations-in-terms-of-the-time-coordinate)\n",
    "    * [Changing the curve parameter](#changing-the-curve-parameter)\n",
    "* [About the project](#about-the-project)\n",
    "    * [Bug reports and feature requests](#bug-reports-and-feature-requests)\n",
    "    * [Contribution and pull request policy](#contribution-and-pull-request-policy)\n",
    "    * [Starring the repository](#starring-the-repository)\n",
    "    * [Acknowledgements](#acknowledgements)\n",
    "    * [Copyright and citing](#copyright-and-citing)\n",
    "    * [Other projects to check out](#other-projects-to-check-out)\n",
    "\n",
    "## Introduction\n",
    "\n",
    "### Summary\n",
    "\n",
    "OGRePy is a modern Python package for differential geometry and tensor calculus, designed to be both powerful and user-friendly. It can be used in a variety of contexts where tensor calculations are needed, in both mathematics and physics, but it is especially suitable for general relativity.\n",
    "\n",
    "Tensors are abstract objects, which can be represented as multi-dimensional arrays once a choice of index configuration and coordinate system is made. OGRePy stays true to this definition, but takes away the complexities that come with combining tensors in different representations. This is done using an object-oriented programming approach, taking advantage of principles such as encapsulation and class invariants to eliminate the possibility of user error.\n",
    "\n",
    "The user initially defines each tensor in OGRePy using its explicit components in any single representation. Operations on this tensor are then done abstractly, without needing to specify which representation to use. Possible operations include addition of tensors, multiplication of tensor by scalar, trace, contraction, and partial and covariant derivatives.\n",
    "\n",
    "OGRePy will automatically choose which representation to use for each tensor based on how the tensors are combined. For example, if two tensors are added, then OGRePy will automatically use the same index configuration (upper and lower indices) for both. Similarly, if two tensors are contracted, then OGRePy will automatically ensure that the contracted indices are one upper (contravariant) and one lower (covariant). OGRePy will also automatically transform all tensors being operated on to the same coordinate system.\n",
    "\n",
    "Transformations between representations are done behind the scenes; all the user has to do is specify which metric to use for raising and lowering indices, and how to transform between the coordinate systems being used. This information only needs to be given once and for all when first defining the tensors and coordinate systems, and will be used automatically from that point on.\n",
    "\n",
    "This also means that there is no room for user error. The user cannot mistakenly perform \"illegal\" operations such as $2A^{\\mu\\nu}+B_ {\\mu\\lambda}C_ {\\lambda\\nu}$. Instead, the user simply inputs the names of the tensors, the order (but **not** the configuration) of indices for each, and the operations to perform - and the correct combination $2A^{\\mu\\nu}+B^{\\mu}{}_ {\\lambda}C^{\\lambda\\nu}$ will be automatically deduced.\n",
    "\n",
    "OGRePy is a Python port of the popular Mathematica package [OGRe](https://github.com/bshoshany/OGRe), first released in February 2021, used by many general relativity researchers worldwide. The Python port uses the same robust and performance-oriented algorithms, and retains the package's core design principles. It was made to be as flexible and powerful as possible, while also being simple to learn and easy to use, and suitable for both experienced and novice researchers. OGRePy uses [SymPy](https://www.sympy.org/) to facilitate symbolic computations and [Jupyter](https://jupyter.org/) as a notebook interface.\n",
    "\n",
    "The Python port was specifically designed to mimic as much of the original Mathematica package's syntax as possible, while also greatly improving on that syntax in many ways due to the fact that Python, unlike Mathematica, is a truly object-oriented language. The documentation for both packages was also kept as similar in structure and scope as possible, with the same practical examples. This means that anyone who is familiar with the Mathematica version should easily be able to use the Python version, and vice versa.\n",
    "\n",
    "### Features\n",
    "\n",
    "* Define coordinate systems and the transformation rules between them. The Jacobians are automatically calculated. Tensor components are then transformed automatically between coordinates behind the scenes as needed.\n",
    "* Each tensor is associated with a specific metric. Tensor components are then transformed automatically between different index configurations, raising and lowering indices behind the scenes as needed.\n",
    "* Display any tensor in any index configuration and coordinate system, either in vector/matrix form or as a list of all unique non-zero elements. Metrics can also be displayed as a line element.\n",
    "* Automatically simplify tensor components, optionally with a user-defined simplification function.\n",
    "* Easily calculate arbitrary tensor formulas using any combination of addition, multiplication by scalar, trace, contraction, partial derivative, covariant derivative, and permutation of indices.\n",
    "* Built-in methods for calculating the Christoffel symbols (Levi-Civita connection), Riemann tensor, Ricci tensor and scalar, Einstein tensor, Kretschmann scalar, curve Lagrangian, and volume element from a metric.\n",
    "* Calculate the geodesic equations in terms of an affine curve parameter, in two different ways: from the Christoffel symbols or from the curve Lagrangian. For spacetime metrics, the geodesic equations can be calculated in terms of the time coordinate.\n",
    "* Easily keep track of all tensors created in a notebook session, including the relations between them - for example, see which metrics were created and which tensors are associated with each metric.\n",
    "* Export tensor components in TeX or Mathematica format.\n",
    "* Designed with speed and performance in mind, using optimized algorithms developed specifically for this package.\n",
    "* Clear and detailed documentation, with many examples, in [Jupyter Notebook](https://github.com/bshoshany/OGRePy/blob/master/OGRePy/docs/OGRePy_Documentation.ipynb), [HTML](https://github.com/bshoshany/OGRePy/blob/master/OGRePy/docs/OGRePy_Documentation.html), and [PDF](https://github.com/bshoshany/OGRePy/blob/master/OGRePy/docs/OGRePy_Documentation.pdf) formats.\n",
    "* Open source. The code is extensively documented; please feel free to fork and modify it as you see fit.\n",
    "* Under continuous and active development. Bug reports and feature requests are welcome, and should be made via [GitHub issues](https://github.com/bshoshany/OGRePy/issues).\n",
    "\n",
    "### The object-oriented design philosophy\n",
    "\n",
    "**Object-oriented programming** refers to a paradigm where a program's code is organized around objects. An **object** belongs to a user-defined type, called a **class**. The class defines the **data** that the object stores, as well as **methods** or **member functions** that read or manipulate that data. One of the fundamental principles of object-oriented programming is **encapsulation**, which means that the user may only access an object's data using the methods defined by the class, and is unable to access the object's data directly.\n",
    "\n",
    "Importantly, encapsulation allows for the preservation of **class invariants**. An invariant is a condition of validity that can always be assumed to be satisfied by the data stored in each object. If the methods make sure to preserve the invariant whenever they store or manipulate the data, and the user is prevented from changing the data manually and thus potentially violating the invariant, then the implementation of the class can be greatly simplified, and performance can be improved, because the class will not need to verify that the data is valid every time it performs an operation.\n",
    "\n",
    "The main idea behind OGRePy is to simplify the use of tensors by encoding all the information about a tensor in a single, self-contained object. As I mentioned above, a tensor is an abstract object. One can find components which represent this abstract entity in a particular coordinate system and index configuration, but the tensor is **not** its components. In OGRePy, a tensor object is initially defined (or **constructed**) by providing the components of the tensor in a particular representation - but once this is done, the user does not need to worry about coordinates or indices anymore, or even remember which coordinates and indices were initially used. The abstract tensor object will automatically transform the initial data to a different coordinate system or index configuration as needed, based on the context in which it was used.\n",
    "\n",
    "As a tensor object holds the components of the same tensor in many different representations, the most important class invariant is the assumption that the different components indeed represent the same tensor. This is achieved using encapsulation; the object's data can only be modified by private methods that preserve the invariant, and thus the user cannot accidentally cause a violation of the invariant by assigning components to one representation that are not related to the components of all other representations by the appropriate coordinate and/or index transformation.\n",
    "\n",
    "Since Mathematica is not an object-oriented language, the original OGRe package merely simulated classes and objects using associative arrays, resulting in a somewhat awkward syntax. Python, on the other hand, is an inherently object-oriented language, and the Python package takes full advantage of that. Tensors are objects, and the various tensor operations are done directly on these objects using methods and overloaded operators. Class invariants and encapsulation guarantee that the different representations of the tensor objects are always consistent, and the correct representation is chosen on demand for each calculation using intelligent algorithms.\n",
    "\n",
    "## Installing and loading the package\n",
    "\n",
    "### Global installation\n",
    "\n",
    "To install OGRePy from [PyPI](https://pypi.org/project/OGRePy/) using `pip`, simply run the following command in the terminal:\n",
    "\n",
    "```\n",
    "pip install OGRePy\n",
    "```\n",
    "\n",
    "The current version of OGRePy officially supports only **Python v3.12 and above**. It may also work with older versions of Python 3, but this is not guaranteed, as development and testing was only done with the indicated Python version. If your global Python installation is an older version, and you cannot upgrade it, consider using [pyenv](https://github.com/pyenv/pyenv) or [pyenv-win](https://github.com/pyenv-win/pyenv-win) to install multiple Python versions in parallel, or use a portable local installation to run OGRePy.\n",
    "\n",
    "Installing OGRePy using `pip` will also automatically install its dependent packages, [ipykernel](https://pypi.org/project/ipykernel/) and [sympy](https://pypi.org/project/sympy/), if they are not already installed. The current version of OGRePy officially supports only **ipykernel v6.29 and above** and **sympy v1.13 and above**, so if you are still using older versions, you should upgrade these packages using the command `pip install --upgrade ipykernel sympy`.\n",
    "\n",
    "### Installing in a virtual environment\n",
    "\n",
    "Advanced users may wish to install OGRePy inside a [Python virtual environment](https://docs.python.org/3/tutorial/venv.html) in order to avoid potential dependency conflicts with other packages. To do this, first open the directory where you would like to store your new virtual environment in the terminal, and run:\n",
    "\n",
    "* `python -m venv .OGRePy-env --upgrade-deps` on Windows,\n",
    "* `python3 -m venv .OGRePy-env --upgrade-deps` on WSL/Linux/macOS.\n",
    "\n",
    "This will create a virtual environment under the `.OGRePy-env` subdirectory. The `--upgrade-deps` flag automatically upgrades `pip` to the latest version. To activate the virtual environment, run:\n",
    "\n",
    "* `.OGRePy-env\\Scripts\\activate.bat` on Windows (Command Prompt),\n",
    "* `& .OGRePy-env\\Scripts\\Activate.ps1` on Windows (PowerShell),\n",
    "* `source .OGRePy-env/bin/activate` on WSL/Linux/macOS.\n",
    "\n",
    "If this worked correctly, you will see the text `(.OGRePy-env)` at the beginning of the terminal prompt. Now you can install OGRePy using `pip` as above. To deactivate the virtual environment, simply run the command `deactivate` in the terminal.\n",
    "\n",
    "### Creating a Jupyter notebook\n",
    "\n",
    "OGRePy is designed to run within a [Jupyter](https://jupyter.org/) notebook. It is also possible to run it from within a Python script, usually for automation purposes, but Jupyter is required for interactivity and for displaying tensors and their components as rendered TeX equations.\n",
    "\n",
    "OGRePy supports two Jupyter notebook interfaces:\n",
    "\n",
    "* [Visual Studio Code](https://code.visualstudio.com/): **This is the officially recommended way to use OGRePy, due to helpful features such as IntelliSense, tooltips, and type checking.** Download and install from the [official website](https://code.visualstudio.com/). Run VS Code, then create a new file with the `.ipynb` extension and open it, or press F1 to open the Command Pallette and choose the option \"Create: New Jupyter Notebook\". This will prompt you to automatically install the required VS Code extensions and Python packages if they are not already installed.\n",
    "* [JupyterLab](https://jupyter.org/): Install with `pip install jupyterlab`. Run by executing `jupyter-lab` in the terminal, and then create a new notebook in the web browser. **Please note that JupyterLab is not officially supported, as development and testing was only done with VS Code, although I have verified that the package does work in JupyterLab.**\n",
    "\n",
    "If you are running OGRePy in a virtual environment:\n",
    "\n",
    "* With Visual Studio Code, open the folder where you create the virtual environment, press F1 to open the Command Pallette, choose the option \"Python: Select Interpreter\", and select the `.OGRePy-env` environment. The interpreter can also be selected for individual Jupyter notebooks in VS Code using the \"Select Kernel\" button at the top right of the notebook.\n",
    "* With JupyterLab, first activate the virtual environment in the terminal as explained above, and then run `jupyter-lab` from the same terminal.\n",
    "\n",
    "### Importing the package\n",
    "\n",
    "To load OGRePy, type the following code in a Jupyter notebook cell and execute it using Shift+Enter:"
   ]
  },
  {
   "cell_type": "code",
   "execution_count": 1,
   "id": "e25d8966",
   "metadata": {
    "execution": {
     "iopub.execute_input": "2025-02-04T05:47:14.156972Z",
     "iopub.status.busy": "2025-02-04T05:47:14.156776Z",
     "iopub.status.idle": "2025-02-04T05:47:14.535811Z",
     "shell.execute_reply": "2025-02-04T05:47:14.535518Z"
    }
   },
   "outputs": [
    {
     "data": {
      "text/markdown": [
       "**OGRePy: An <u>O</u>bject-Oriented <u>G</u>eneral <u>Re</u>lativity Package for <u>Py</u>thon\\\n",
       "By [Barak Shoshany](https://github.com/bshoshany) ([baraksh@gmail.com](mailto:baraksh@gmail.com)) ([baraksh.com](https://baraksh.com/))\\\n",
       "v1.3.0 (2025-02-04)\\\n",
       "GitHub repository: <https://github.com/bshoshany/OGRePy>\\\n",
       "Documentation: <a href=\"https://github.com/bshoshany/OGRePy/blob/master/OGRePy/docs/OGRePy_Documentation.ipynb\">.ipynb</a>, <a href=\"https://github.com/bshoshany/OGRePy/blob/master/OGRePy/docs/OGRePy_Documentation.pdf\">.pdf</a>, <a href=\"https://github.com/bshoshany/OGRePy/blob/master/OGRePy/docs/OGRePy_Documentation.html\">.html</a>**"
      ],
      "text/plain": [
       "<IPython.core.display.Markdown object>"
      ]
     },
     "metadata": {},
     "output_type": "display_data"
    }
   ],
   "source": [
    "import OGRePy as T"
   ]
  },
  {
   "cell_type": "markdown",
   "id": "c06737e6",
   "metadata": {},
   "source": [
    "All of OGRePy's functions are now accessible via the `T` namespace. While it is not common practice in Python to import packages as single letters, OGRePy uses this convention because in the original [Mathematica version of OGRe](https://github.com/bshoshany/OGRe), all module names started with a capital T (which stands for \"Tensor\"). However, you can change that to another namespace if you prefer, for example `import OGRePy as gr`.\n",
    "\n",
    "If desired, the welcome message can be disabled by defining `OGREPY_DISABLE_WELCOME = True` in the notebook before importing the package. Alternatively, you could set the environment variable `OGREPY_DISABLE_WELCOME` to `True`, which allows you to disable it permanently. If you changed your mind later and you want to see the welcome message (for example, if you want a link to the documentation), execute the command `T.welcome()`.\n",
    "\n",
    "OGRePy also automatically checks for updates from [PyPI](https://pypi.org/project/OGRePy/) when it is imported. This can be disabled by defining `OGREPY_DISABLE_UPDATE_CHECK = True` in the notebook, or setting the environment variable `OGREPY_DISABLE_UPDATE_CHECK` to `True`, before importing the package. In that case, you can still check for updates manually if you wish, using `T.update_check()`.\n",
    "\n",
    "However, note that this check is performed asynchronously, so it does not increase the load time of the package, and you can continue working while the check is being performed. If the welcome message is disabled, the startup update check is performed in \"quiet mode\", meaning that it only notifies you if a new version is available, but not if you are running the latest version.\n",
    "\n",
    "### Getting help\n",
    "\n",
    "One of the reasons I recommend Visual Studio Code as the preferred notebook interface for this package is the IntelliSense feature, which displays a helpful popup with suggestions and information about various language components. To test this feature, once OGRePy is loaded in the notebook, create a new code cell and start typing `T.` - once you write the dot character, you will see a popup menu listing all the functions contained in the `T` namespace.\n",
    "\n",
    "Browse the menu using the arrow keys. There will be an additional popup next to this menu with the documentation for each function. If you do not see the documentation, press Ctrl+Space. You can also start typing to filter the options in the menu. For example, if you type `w`, the `welcome()` function will be selected, and you will see the documentation for that function. In the same way, you can view the documentation and usage instructions for all OGRePy functions.\n",
    "\n",
    "Press Tab to complete the code and write down the full function `welcome()`. Once the code is written, the popup will disappear, but it will reappear again after you write `(` to display the parameters that should go into the parentheses. You can also hover with the mouse over any function to read its documentation.\n",
    "\n",
    "If you are using JupyterLab instead of VS Code, the popups will not be displayed automatically by default, but you can press <kbd>Ctrl+,</kbd> to go to the settings, then click on \"Code Completion\" and check \"Show the documentation panel\" and \"Enable autocompletion\". (However, note that the documentation will not be formatted as nicely on JupyterLab.)\n",
    "\n",
    "You can also view the documentation for a particular OGRePy function using the function `doc()`. For example:"
   ]
  },
  {
   "cell_type": "code",
   "execution_count": 2,
   "id": "b0a60783",
   "metadata": {
    "execution": {
     "iopub.execute_input": "2025-02-04T05:47:14.537223Z",
     "iopub.status.busy": "2025-02-04T05:47:14.537060Z",
     "iopub.status.idle": "2025-02-04T05:47:14.539496Z",
     "shell.execute_reply": "2025-02-04T05:47:14.539264Z"
    }
   },
   "outputs": [
    {
     "data": {
      "text/markdown": [
       "<div style=\"border: 1px solid; margin: auto; padding: 1em; width: 90%\">\n",
       "\n",
       "`welcome() -> None`\n",
       "\n",
       "Print the welcome message.\n",
       "\n",
       "</div>"
      ],
      "text/plain": [
       "<IPython.core.display.Markdown object>"
      ]
     },
     "metadata": {},
     "output_type": "display_data"
    }
   ],
   "source": [
    "T.doc(T.welcome)"
   ]
  },
  {
   "cell_type": "markdown",
   "id": "1b0b6f68",
   "metadata": {},
   "source": [
    "`doc()` itself also has documentation:"
   ]
  },
  {
   "cell_type": "code",
   "execution_count": 3,
   "id": "c34b1b0f",
   "metadata": {
    "execution": {
     "iopub.execute_input": "2025-02-04T05:47:14.540567Z",
     "iopub.status.busy": "2025-02-04T05:47:14.540457Z",
     "iopub.status.idle": "2025-02-04T05:47:14.542695Z",
     "shell.execute_reply": "2025-02-04T05:47:14.542375Z"
    }
   },
   "outputs": [
    {
     "data": {
      "text/markdown": [
       "<div style=\"border: 1px solid; margin: auto; padding: 1em; width: 90%\">\n",
       "\n",
       "`doc(obj: Callable[..., Any] | type) -> None`\n",
       "\n",
       "Print the documentation for an object as a Markdown-formatted notebook cell. If the object is a class, print the documentation for its constructor.\n",
       "#### Parameters:\n",
       "* `obj`: The object to print the documentation for.\n",
       "#### Exceptions:\n",
       "* `OGRePyError`: If no documentation exists.\n",
       "\n",
       "</div>"
      ],
      "text/plain": [
       "<IPython.core.display.Markdown object>"
      ]
     },
     "metadata": {},
     "output_type": "display_data"
    }
   ],
   "source": [
    "T.doc(T.doc)"
   ]
  },
  {
   "cell_type": "markdown",
   "id": "b7786324",
   "metadata": {},
   "source": [
    "The documentation files [`OGRePy_Documentation.ipynb`](https://github.com/bshoshany/OGRePy/blob/master/OGRePy/docs/OGRePy_Documentation.ipynb), [`OGRePy_Documentation.html`](https://github.com/bshoshany/OGRePy/blob/master/OGRePy/docs/OGRePy_Documentation.html), and [`OGRePy_Documentation.pdf`](https://github.com/bshoshany/OGRePy/blob/master/OGRePy/docs/OGRePy_Documentation.pdf) are bundled with the package, so you can view them at any time - even offline - by simply clicking the links in the welcome message.\n",
    "\n",
    "## Creating and displaying tensor objects\n",
    "\n",
    "### Defining coordinates\n",
    "\n",
    "To define tensors, we first need to define the manifold on which they reside. Since we are focusing on general relativity, we will use 4-dimensional spacetime manifolds in the following examples, but this package works equally well with manifolds that are purely spatial and/or have a different number of dimensions.\n",
    "\n",
    "The first step is to define the coordinate system. We can represent a coordinate system as a vector $x^{\\mu}$ (or a tensor of rank 1) defining a point in space(time). In OGRePy, coordinates are represented as objects of the class `Coordinates`. Therefore, defining a coordinate system is a simple matter of constructing a new `Coordinates` object. The constructor for this class is defined as follows:"
   ]
  },
  {
   "cell_type": "code",
   "execution_count": 4,
   "id": "e6d13d7b",
   "metadata": {
    "execution": {
     "iopub.execute_input": "2025-02-04T05:47:14.543780Z",
     "iopub.status.busy": "2025-02-04T05:47:14.543663Z",
     "iopub.status.idle": "2025-02-04T05:47:14.545990Z",
     "shell.execute_reply": "2025-02-04T05:47:14.545763Z"
    }
   },
   "outputs": [
    {
     "data": {
      "text/markdown": [
       "<div style=\"border: 1px solid; margin: auto; padding: 1em; width: 90%\">\n",
       "\n",
       "`Coordinates(*components: s.Symbol | str) -> None`\n",
       "\n",
       "Construct a new coordinate object.\n",
       "#### Parameters:\n",
       "* `components`: One or more strings or SymPy `Symbol` objects specifying the coordinates. Strings should be in the same format as the argument to SymPy's `symbols()`, e.g. `\"t x y z\"`, and it is possible to enter just one string for all the coordinates.\n",
       "\n",
       "</div>"
      ],
      "text/plain": [
       "<IPython.core.display.Markdown object>"
      ]
     },
     "metadata": {},
     "output_type": "display_data"
    }
   ],
   "source": [
    "T.doc(T.Coordinates)"
   ]
  },
  {
   "cell_type": "markdown",
   "id": "65f04d80",
   "metadata": {},
   "source": [
    "For example, let us create an object for the **Cartesian spacetime coordinates** $(t, x, y, z)$. First we will need some SymPy `Symbol` objects to represent the individual coordinates $t$, $x$, $y$, and $z$. Conveniently, OGRePy contains a module, `OGRePy.abc`, which contains SymPy symbols for all English and Greek letters, both lowercase and uppercase. Note that the Greek letter lambda (lowercase $\\lambda$, uppercase $\\Lambda$) is accessed via the symbols `lamda` and `Lamda` respectively, since `lambda` is a reserved keyword in Python.\n",
    "\n",
    "For users familiar with SymPy: `OGRePy.abc` is similar to `sympy.abc`, except that `OGRePy.abc` explicitly assumes that all symbols are real, and also contains uppercase Greek letters. If complex symbols are desired, they should be imported from `sympy.abc` or created directly via `sympy.Symbol` or `sympy.symbols()` instead.\n",
    "\n",
    "We import the symbols as follows:"
   ]
  },
  {
   "cell_type": "code",
   "execution_count": 5,
   "id": "949f7e12",
   "metadata": {
    "execution": {
     "iopub.execute_input": "2025-02-04T05:47:14.546997Z",
     "iopub.status.busy": "2025-02-04T05:47:14.546893Z",
     "iopub.status.idle": "2025-02-04T05:47:14.552628Z",
     "shell.execute_reply": "2025-02-04T05:47:14.552227Z"
    }
   },
   "outputs": [],
   "source": [
    "from OGRePy.abc import t, x, y, z"
   ]
  },
  {
   "cell_type": "markdown",
   "id": "338db522",
   "metadata": {},
   "source": [
    "Now we have direct access to the symbols `t`, `x`, `y`, and `z` in our notebook. Let us use them to construct our Cartesian coordinate system:"
   ]
  },
  {
   "cell_type": "code",
   "execution_count": 6,
   "id": "a6242713",
   "metadata": {
    "execution": {
     "iopub.execute_input": "2025-02-04T05:47:14.553587Z",
     "iopub.status.busy": "2025-02-04T05:47:14.553479Z",
     "iopub.status.idle": "2025-02-04T05:47:14.555276Z",
     "shell.execute_reply": "2025-02-04T05:47:14.554961Z"
    }
   },
   "outputs": [],
   "source": [
    "Cartesian = T.Coordinates(t, x, y, z)"
   ]
  },
  {
   "cell_type": "markdown",
   "id": "0f527600",
   "metadata": {},
   "source": [
    "Here is a breakdown of the code:\n",
    "\n",
    "* `Cartesian` is the name of the new object we are creating.\n",
    "* `T` is the namespace we chose for OGRePy when we imported it via `import OGRePy as T`.\n",
    "* `Coordinates` is the name of the class we want to construct an instance of. This class represents a coordinate system in OGRePy.\n",
    "* `Coordinates()` is the **constructor**, that is, the function that creates a new `Coordinates` object representing a particular coordinate system.\n",
    "* We can pass any number of arguments to the constructor. Usually these will be SymPy symbols representing the coordinates (but it is also possible to pass strings, which will be converted to symbols automatically).\n",
    "* `t`, `x`, `y`, and `z` are the symbols we exported above.\n",
    "\n",
    "We can similarly define the **spherical spacetime coordinates** $(t, r, \\theta, \\phi)$:"
   ]
  },
  {
   "cell_type": "code",
   "execution_count": 7,
   "id": "9940c684",
   "metadata": {
    "execution": {
     "iopub.execute_input": "2025-02-04T05:47:14.556224Z",
     "iopub.status.busy": "2025-02-04T05:47:14.556109Z",
     "iopub.status.idle": "2025-02-04T05:47:14.557878Z",
     "shell.execute_reply": "2025-02-04T05:47:14.557607Z"
    }
   },
   "outputs": [],
   "source": [
    "from OGRePy.abc import phi, theta\n",
    "\n",
    "r = T.sym(\"r\", nonnegative=True)\n",
    "\n",
    "Spherical = T.Coordinates(t, r, theta, phi)"
   ]
  },
  {
   "cell_type": "markdown",
   "id": "9de9accc",
   "metadata": {},
   "source": [
    "Note that Greek letters are imported using the full name of the letter: `theta` stands for $\\theta$. Similarly, `Theta` will be the uppercase $\\Theta$. One thing you should be aware of is that the letters $\\lambda$ and $\\Lambda$ are imported as `lamda` and `Lamda` respectively, because `lambda` (with a `b`) is a reserved keyword in Python.\n",
    "\n",
    "Another thing to note here is that we defined the $r$ coordinate manually as a SymPy `Symbol` object using OGRePy's `sym()` function instead of importing it from `OGRePy.abc`. The reason for defining $r$ separately this way is that we get more control over the properties of this coordinate. As mentioned above, any symbol imported from `OGRePy.abc` is automatically assumed to be real. However, for $r$, we also want to indicate that it is a non-negative symbol. This signals to SymPy to treat $r$ as non-negative when doing calculations or performing simplifications.\n",
    "\n",
    "To illustrate this point, consider that $t$, defined above using `from OGRePy.abc import t`, is a real coordinate that can be positive, negative, or zero. Therefore, when we try to simplify $\\sqrt{t^2}$, we get the **absolute value** of $t$:"
   ]
  },
  {
   "cell_type": "code",
   "execution_count": 8,
   "id": "8593a2bc",
   "metadata": {
    "execution": {
     "iopub.execute_input": "2025-02-04T05:47:14.558791Z",
     "iopub.status.busy": "2025-02-04T05:47:14.558674Z",
     "iopub.status.idle": "2025-02-04T05:47:14.561485Z",
     "shell.execute_reply": "2025-02-04T05:47:14.561206Z"
    }
   },
   "outputs": [
    {
     "data": {
      "text/latex": [
       "$\\displaystyle \\left|{t}\\right|$"
      ],
      "text/plain": [
       "Abs(t)"
      ]
     },
     "execution_count": 8,
     "metadata": {},
     "output_type": "execute_result"
    }
   ],
   "source": [
    "T.s.simplify(T.s.sqrt(t**2))"
   ]
  },
  {
   "cell_type": "markdown",
   "id": "9b036931",
   "metadata": {},
   "source": [
    "On the other hand, when we do the same to $r$, which is designated as non-negative, we simply get $r$ back, without an absolute value:"
   ]
  },
  {
   "cell_type": "code",
   "execution_count": 9,
   "id": "d203083c",
   "metadata": {
    "execution": {
     "iopub.execute_input": "2025-02-04T05:47:14.562411Z",
     "iopub.status.busy": "2025-02-04T05:47:14.562302Z",
     "iopub.status.idle": "2025-02-04T05:47:14.564568Z",
     "shell.execute_reply": "2025-02-04T05:47:14.564327Z"
    }
   },
   "outputs": [
    {
     "data": {
      "text/latex": [
       "$\\displaystyle r$"
      ],
      "text/plain": [
       "r"
      ]
     },
     "execution_count": 9,
     "metadata": {},
     "output_type": "execute_result"
    }
   ],
   "source": [
    "T.s.simplify(T.s.sqrt(r**2))"
   ]
  },
  {
   "cell_type": "markdown",
   "id": "a8cf0537",
   "metadata": {},
   "source": [
    "In these examples, note that SymPy is automatically imported into the OGRePy namespace as `s`, which means we can access the entire SymPy namespace as `T.s`. This is done purely for convenience, so you don't have to import SymPy to the notebook separately. However, you could also `import sympy` directly if you prefer. Because SymPy is available as `T.s`, we could access the SymPy `simplify()` function directly via `T.s.simplify()`.\n",
    "\n",
    "OGRePy offers two functions that can be used to create your own symbols: `sym()`, which is the preferred alternative to calling SymPy's `Symbol()` constructor, and `syms()`, which is the preferred alternative to calling SymPy's `symbols()` function. The main differences between OGRePy's `sym()` and `syms()` and SymPy's `Symbol()` and `symbols()` are:\n",
    "\n",
    "1. OGRePy's functions always add the assumption that the symbols are real, which helps with simplification.\n",
    "2. OGRePy's functions always convert strings to TeX codes. This is important, because in SymPy, `Symbol(\"mu\") != Symbol(r\"\\mu\")`, even though they are both displayed using the same symbol. On the other hand, in OGRePy, `sym(\"mu\") == sym(r\"\\mu\")`, which prevent errors.\n",
    "\n",
    "### Error checking\n",
    "\n",
    "OGRePy contains robust error checking. If you call the constructor with invalid input, the construction will fail and you will get an error message telling you what to fix. For example, if you try typing `T.Coordinates(42)` you will get the following friendly error message:\n",
    "\n",
    "&#x1f4b1; <b style=\"color: #cf514b;\">The components must be either a SymPy `Array` object or a list. The object `42` is of type `int`.</b>\n",
    "\n",
    "If you are an advanced user who prefers to see the full traceback and/or catch the exceptions and handle them on your own, you can set `T.options.friendly_errors = False` to turn off the friendly error messages and raise exceptions instead. Set it back to `True` to re-enable the friendly error messages.\n",
    "\n",
    "### Defining metrics\n",
    "\n",
    "To finish defining a (Riemannian or pseudo-Riemannian) manifold, we need to define its metric tensor. Like any other tensor in OGRePy, the metric tensor is an abstract tensor that has multiple representations. We \"jump start\" the tensor by providing its components in one particular representation, and all the other representations will be calculated automatically.\n",
    "\n",
    "In the case of a metric tensor, the defining representation must always be the one with two indices down: $g_ {\\mu\\nu}$. However, it can be given in any coordinate system. In OGRePy, metrics are represented as objects of the class `Metric`. Therefore, as with coordinates, defining a metric is a simple matter of constructing a new `Metric` object. The constructor for this class is defined as follows:"
   ]
  },
  {
   "cell_type": "code",
   "execution_count": 10,
   "id": "9019d8c5",
   "metadata": {
    "execution": {
     "iopub.execute_input": "2025-02-04T05:47:14.565538Z",
     "iopub.status.busy": "2025-02-04T05:47:14.565409Z",
     "iopub.status.idle": "2025-02-04T05:47:14.567444Z",
     "shell.execute_reply": "2025-02-04T05:47:14.567236Z"
    }
   },
   "outputs": [
    {
     "data": {
      "text/markdown": [
       "<div style=\"border: 1px solid; margin: auto; padding: 1em; width: 90%\">\n",
       "\n",
       "`Metric(*, coords: Coordinates, components: list[Any] | s.NDimArray | s.Matrix, symbol: str | s.Symbol = g) -> None`\n",
       "\n",
       "Construct a new metric object.\n",
       "#### Parameters:\n",
       "* `coords`: An OGRePy `Coordinates` object specifying the coordinate system of the representation of the initialization components. Will also be designated the default coordinate system of the metric.\n",
       "* `components`: The components with which to initialize the metric. Can be a list, a SymPy `Array` object, or a SymPy `Matrix` object.\n",
       "* `symbol` (optional): A string or a SymPy `Symbol` object designating the symbol to be used when displaying the metric. The string can include any TeX symbols, e.g. `r\"\\hat{T}\"` (note the `r` in front of the string, indicating that the `\\` in the string is not an escape character).\n",
       "#### Exceptions:\n",
       "* `OGRePyError`: If the metric components are not an invertible symmetric matrix.\n",
       "\n",
       "</div>"
      ],
      "text/plain": [
       "<IPython.core.display.Markdown object>"
      ]
     },
     "metadata": {},
     "output_type": "display_data"
    }
   ],
   "source": [
    "T.doc(T.Metric)"
   ]
  },
  {
   "cell_type": "markdown",
   "id": "984b71f1",
   "metadata": {},
   "source": [
    "Let us create a tensor object for the **Minkowski metric**, specifying the components in Cartesian coordinates:"
   ]
  },
  {
   "cell_type": "code",
   "execution_count": 11,
   "id": "8ad957fd",
   "metadata": {
    "execution": {
     "iopub.execute_input": "2025-02-04T05:47:14.568403Z",
     "iopub.status.busy": "2025-02-04T05:47:14.568295Z",
     "iopub.status.idle": "2025-02-04T05:47:14.570717Z",
     "shell.execute_reply": "2025-02-04T05:47:14.570459Z"
    }
   },
   "outputs": [],
   "source": [
    "Minkowski = T.Metric(\n",
    "    coords=Cartesian,\n",
    "    components=T.diag(-1, 1, 1, 1),\n",
    "    symbol=\"eta\",\n",
    ")"
   ]
  },
  {
   "cell_type": "markdown",
   "id": "1f19f88d",
   "metadata": {},
   "source": [
    "To define the components we used the OGRePy `diag()` function, which generates a diagonal matrix (a SymPy `Matrix` object) with the given components on the diagonal. OGRePy's `diag()` is a convenient shorthand for SymPy's `Matrix.diag()`.\n",
    "\n",
    "For the symbol, we used the string `\"eta\"`, which will be displayed as the Greek letter $\\eta$. Alternatively, we could have used any TeX string, such as `r\"\\eta\"`. (Note the `r` in front of the string, indicating that it is a \"raw\" string literal, so the `\\` in the string is treated as an actual `\\` and not an escape character.) Internally, the string `\"eta\"` is actually converted to `r\"\\eta\"`. The `symbol` argument also accepts SymPy `Symbol` objects, in which case it extracts the TeX code from the object, so we could have also used `from OGRePy.abc import eta` and then entered `eta` as the symbol, but that is more cumbersome.\n",
    "\n",
    "Similarly, let us define the **Schwarzschild metric**, this time specifying the components in spherical coordinates:"
   ]
  },
  {
   "cell_type": "code",
   "execution_count": 12,
   "id": "f03220ca",
   "metadata": {
    "execution": {
     "iopub.execute_input": "2025-02-04T05:47:14.571712Z",
     "iopub.status.busy": "2025-02-04T05:47:14.571600Z",
     "iopub.status.idle": "2025-02-04T05:47:14.596214Z",
     "shell.execute_reply": "2025-02-04T05:47:14.595883Z"
    }
   },
   "outputs": [],
   "source": [
    "from OGRePy.abc import M\n",
    "\n",
    "Schwarzschild = T.Metric(\n",
    "    coords=Spherical,\n",
    "    components=T.diag(\n",
    "        -(1 - 2 * M / r),\n",
    "        1 / (1 - 2 * M / r),\n",
    "        r**2,\n",
    "        r**2 * T.s.sin(theta) ** 2,\n",
    "    ),\n",
    ")"
   ]
  },
  {
   "cell_type": "markdown",
   "id": "cbf5f2ad",
   "metadata": {},
   "source": [
    "Here we imported the symbol `M` to use as the mass. Be careful not to write something like `2M` instead of `2 * M`. While `2M` makes sense mathematically, it is not a legal Python expression. Note that we did not specify a symbol, so the symbol $g$ will be used by default.\n",
    "\n",
    "### Displaying tensors\n",
    "\n",
    "In OGRePy, the term **tensor object** refers to any object of the `Tensor` class or its derived classes, which include `Metric` (but not `Coordinates`, which is not a tensor, just a list of symbols) Every tensor object in OGRePy has a method called `show()`, which shows the symbol, indices, coordinates, and components in those indices and coordinates, in vector or matrix form when applicable. Let us try it for the two metrics we created:"
   ]
  },
  {
   "cell_type": "code",
   "execution_count": 13,
   "id": "c3d22a50",
   "metadata": {
    "execution": {
     "iopub.execute_input": "2025-02-04T05:47:14.597381Z",
     "iopub.status.busy": "2025-02-04T05:47:14.597259Z",
     "iopub.status.idle": "2025-02-04T05:47:14.599690Z",
     "shell.execute_reply": "2025-02-04T05:47:14.599430Z"
    }
   },
   "outputs": [
    {
     "data": {
      "text/markdown": [
       "$$\\eta{}_{\\mu}{}_{\\nu}\\Bigg|_{\\left(t, x, y, z\\right)} = \\left(\\begin{matrix}-1 & 0 & 0 & 0\\\\0 & 1 & 0 & 0\\\\0 & 0 & 1 & 0\\\\0 & 0 & 0 & 1\\end{matrix}\\right)$$"
      ],
      "text/plain": [
       "<IPython.core.display.Markdown object>"
      ]
     },
     "metadata": {},
     "output_type": "display_data"
    }
   ],
   "source": [
    "Minkowski.show()"
   ]
  },
  {
   "cell_type": "code",
   "execution_count": 14,
   "id": "6949cc38",
   "metadata": {
    "execution": {
     "iopub.execute_input": "2025-02-04T05:47:14.600724Z",
     "iopub.status.busy": "2025-02-04T05:47:14.600577Z",
     "iopub.status.idle": "2025-02-04T05:47:14.603806Z",
     "shell.execute_reply": "2025-02-04T05:47:14.603529Z"
    }
   },
   "outputs": [
    {
     "data": {
      "text/markdown": [
       "$$g{}_{\\mu}{}_{\\nu}\\Bigg|_{\\left(t, r, \\theta, \\phi\\right)} = \\left(\\begin{matrix}\\frac{2 M}{r} - 1 & 0 & 0 & 0\\\\0 & \\frac{1}{- \\frac{2 M}{r} + 1} & 0 & 0\\\\0 & 0 & r^{2} & 0\\\\0 & 0 & 0 & r^{2} \\sin^{2}{\\left(\\theta \\right)}\\end{matrix}\\right)$$"
      ],
      "text/plain": [
       "<IPython.core.display.Markdown object>"
      ]
     },
     "metadata": {},
     "output_type": "display_data"
    }
   ],
   "source": [
    "Schwarzschild.show()"
   ]
  },
  {
   "cell_type": "markdown",
   "id": "098d9bd4",
   "metadata": {},
   "source": [
    "In fact, calling the `show()` method explicitly is not necessary. If the output of a notebook cell is a tensor object, the output of the `show()` method will be displayed automatically:"
   ]
  },
  {
   "cell_type": "code",
   "execution_count": 15,
   "id": "fca83fb3",
   "metadata": {
    "execution": {
     "iopub.execute_input": "2025-02-04T05:47:14.604848Z",
     "iopub.status.busy": "2025-02-04T05:47:14.604748Z",
     "iopub.status.idle": "2025-02-04T05:47:14.607291Z",
     "shell.execute_reply": "2025-02-04T05:47:14.607039Z"
    }
   },
   "outputs": [
    {
     "data": {
      "text/markdown": [
       "$$\\eta{}_{\\mu}{}_{\\nu}\\Bigg|_{\\left(t, x, y, z\\right)} = \\left(\\begin{matrix}-1 & 0 & 0 & 0\\\\0 & 1 & 0 & 0\\\\0 & 0 & 1 & 0\\\\0 & 0 & 0 & 1\\end{matrix}\\right)$$"
      ],
      "text/plain": [
       "<OGRePy._core.Metric at 0x1d2e3f00730>"
      ]
     },
     "execution_count": 15,
     "metadata": {},
     "output_type": "execute_result"
    }
   ],
   "source": [
    "Minkowski"
   ]
  },
  {
   "cell_type": "markdown",
   "id": "631e5e90",
   "metadata": {},
   "source": [
    "A coordinate system is not a tensor, but it does have a `show()` method as well, and it is also executed automatically if it's the output of a notebook cell:"
   ]
  },
  {
   "cell_type": "code",
   "execution_count": 16,
   "id": "4b38a201",
   "metadata": {
    "execution": {
     "iopub.execute_input": "2025-02-04T05:47:14.608410Z",
     "iopub.status.busy": "2025-02-04T05:47:14.608310Z",
     "iopub.status.idle": "2025-02-04T05:47:14.610431Z",
     "shell.execute_reply": "2025-02-04T05:47:14.610184Z"
    }
   },
   "outputs": [
    {
     "data": {
      "text/markdown": [
       "$$\\left(\\begin{matrix}t & x & y & z\\end{matrix}\\right)$$"
      ],
      "text/plain": [
       "<IPython.core.display.Markdown object>"
      ]
     },
     "metadata": {},
     "output_type": "display_data"
    }
   ],
   "source": [
    "Cartesian.show()"
   ]
  },
  {
   "cell_type": "code",
   "execution_count": 17,
   "id": "c17ab3e9",
   "metadata": {
    "execution": {
     "iopub.execute_input": "2025-02-04T05:47:14.611732Z",
     "iopub.status.busy": "2025-02-04T05:47:14.611622Z",
     "iopub.status.idle": "2025-02-04T05:47:14.613950Z",
     "shell.execute_reply": "2025-02-04T05:47:14.613703Z"
    }
   },
   "outputs": [
    {
     "data": {
      "text/markdown": [
       "$$\\left(\\begin{matrix}t & r & \\theta & \\phi\\end{matrix}\\right)$$"
      ],
      "text/plain": [
       "<OGRePy._core.Coordinates at 0x1d2e4da0db0>"
      ]
     },
     "execution_count": 17,
     "metadata": {},
     "output_type": "execute_result"
    }
   ],
   "source": [
    "Spherical"
   ]
  },
  {
   "cell_type": "markdown",
   "id": "87ffc8ce",
   "metadata": {},
   "source": [
    "The other method available for displaying the contents of tensors is `list()`, which lists all of the unique (up to sign), non-zero components of the tensor. It is usually the best option for higher-rank tensors, which cannot be displayed in vector or matrix form, such as the Christoffel symbols or Riemann tensor (see below). For example, let us list the components of the Minkowski metric:"
   ]
  },
  {
   "cell_type": "code",
   "execution_count": 18,
   "id": "23c35bf6",
   "metadata": {
    "execution": {
     "iopub.execute_input": "2025-02-04T05:47:14.614974Z",
     "iopub.status.busy": "2025-02-04T05:47:14.614869Z",
     "iopub.status.idle": "2025-02-04T05:47:14.617395Z",
     "shell.execute_reply": "2025-02-04T05:47:14.617143Z"
    }
   },
   "outputs": [
    {
     "data": {
      "text/markdown": [
       "$$\\begin{align*}\n",
       "    \\eta{}_{t}{}_{t} = -\\eta{}_{x}{}_{x} = -\\eta{}_{y}{}_{y} = -\\eta{}_{z}{}_{z} &= -1 \n",
       "\\end{align*}$$"
      ],
      "text/plain": [
       "<IPython.core.display.Markdown object>"
      ]
     },
     "metadata": {},
     "output_type": "display_data"
    }
   ],
   "source": [
    "Minkowski.list()"
   ]
  },
  {
   "cell_type": "markdown",
   "id": "9c2de6c6",
   "metadata": {},
   "source": [
    "There is a convenient shortcut for calling `list()`: simply use the `~` (invert) operator in front of the tensor. For example:"
   ]
  },
  {
   "cell_type": "code",
   "execution_count": 19,
   "id": "9f19422d",
   "metadata": {
    "execution": {
     "iopub.execute_input": "2025-02-04T05:47:14.618425Z",
     "iopub.status.busy": "2025-02-04T05:47:14.618326Z",
     "iopub.status.idle": "2025-02-04T05:47:14.621186Z",
     "shell.execute_reply": "2025-02-04T05:47:14.620932Z"
    }
   },
   "outputs": [
    {
     "data": {
      "text/markdown": [
       "$$\\begin{align*}\n",
       "    g{}_{t}{}_{t} &= \\frac{2 M}{r} - 1 \\\\\n",
       "    g{}_{r}{}_{r} &= \\frac{1}{- \\frac{2 M}{r} + 1} \\\\\n",
       "    g{}_{\\theta}{}_{\\theta} &= r^{2} \\\\\n",
       "    g{}_{\\phi}{}_{\\phi} &= r^{2} \\sin^{2}{\\left(\\theta \\right)} \n",
       "\\end{align*}$$"
      ],
      "text/plain": [
       "<IPython.core.display.Markdown object>"
      ]
     },
     "metadata": {},
     "output_type": "display_data"
    }
   ],
   "source": [
    "~Schwarzschild"
   ]
  },
  {
   "cell_type": "markdown",
   "id": "433d4700",
   "metadata": {},
   "source": [
    "A `Coordinates` object does not have a `list()` method, as it wouldn't make sense to list its components in this manner.\n",
    "\n",
    "If, as in the examples above, no additional arguments are given to `show()` and `list()`, they display the tensors in their default indices and default coordinates, which are the ones first used to define the tensor (unless you change them later). So, for example, the default indices of the Minkowski metric are two lower indices, and its default coordinates are Cartesian. We will show later how to change these defaults, and how to display any tensor in any index configuration and coordinate system. Note that if a tensor object is displayed automatically as the output of a cell, or using the `~` shortcut for `list()`, it will always be displayed in its default indices and coordinates.\n",
    "\n",
    "A good practice when using OGRePy is to set up the notebook so that the result of the last assignment in the cell is automatically printed out. This will save us the trouble of writing an extra line every time we want to print out tensors we assign to variables. This is achieved by executing the following command:"
   ]
  },
  {
   "cell_type": "code",
   "execution_count": 20,
   "id": "7829933a",
   "metadata": {
    "execution": {
     "iopub.execute_input": "2025-02-04T05:47:14.622233Z",
     "iopub.status.busy": "2025-02-04T05:47:14.622126Z",
     "iopub.status.idle": "2025-02-04T05:47:14.623667Z",
     "shell.execute_reply": "2025-02-04T05:47:14.623414Z"
    }
   },
   "outputs": [],
   "source": [
    "from IPython.core.interactiveshell import InteractiveShell\n",
    "\n",
    "InteractiveShell.ast_node_interactivity = \"last_expr_or_assign\""
   ]
  },
  {
   "cell_type": "markdown",
   "id": "00a5cba5",
   "metadata": {},
   "source": [
    "### Changing the output style\n",
    "\n",
    "The `options` object of the OGRePy package is used to set various options, which will then be respected by all functions and classes in the package. We already saw above that we can use it to turn off the friendly error message by setting `T.options.friendly_errors = False`.\n",
    "\n",
    "To control the style of the output, you can change the property `T.options.css_style` to any string of your choice. The default is just an empty string, but we can change this to any [CSS style](https://developer.mozilla.org/en-US/docs/Learn/CSS/First_steps/What_is_CSS) we want. For example:"
   ]
  },
  {
   "cell_type": "code",
   "execution_count": 21,
   "id": "18fa5277",
   "metadata": {
    "execution": {
     "iopub.execute_input": "2025-02-04T05:47:14.624665Z",
     "iopub.status.busy": "2025-02-04T05:47:14.624559Z",
     "iopub.status.idle": "2025-02-04T05:47:14.627213Z",
     "shell.execute_reply": "2025-02-04T05:47:14.626983Z"
    }
   },
   "outputs": [
    {
     "data": {
      "text/markdown": [
       "<div style=\"background-color: #000; color: #fff; font-size: 20px; padding: 5px\">\n",
       "\n",
       "$$\\begin{align*}\n",
       "    g{}_{t}{}_{t} &= \\frac{2 M}{r} - 1 \\\\\n",
       "    g{}_{r}{}_{r} &= \\frac{1}{- \\frac{2 M}{r} + 1} \\\\\n",
       "    g{}_{\\theta}{}_{\\theta} &= r^{2} \\\\\n",
       "    g{}_{\\phi}{}_{\\phi} &= r^{2} \\sin^{2}{\\left(\\theta \\right)} \n",
       "\\end{align*}$$\n",
       "\n",
       "</div>"
      ],
      "text/plain": [
       "<IPython.core.display.Markdown object>"
      ]
     },
     "metadata": {},
     "output_type": "display_data"
    }
   ],
   "source": [
    "T.options.css_style = \"background-color: #000; color: #fff; font-size: 20px; padding: 5px\"\n",
    "~Schwarzschild"
   ]
  },
  {
   "cell_type": "markdown",
   "id": "d38607ef",
   "metadata": {},
   "source": [
    "To reset the style to the default value, we simply \"delete\" the property using `del`:"
   ]
  },
  {
   "cell_type": "code",
   "execution_count": 22,
   "id": "0df3a62d",
   "metadata": {
    "execution": {
     "iopub.execute_input": "2025-02-04T05:47:14.628216Z",
     "iopub.status.busy": "2025-02-04T05:47:14.628112Z",
     "iopub.status.idle": "2025-02-04T05:47:14.629676Z",
     "shell.execute_reply": "2025-02-04T05:47:14.629432Z"
    }
   },
   "outputs": [],
   "source": [
    "del T.options.css_style"
   ]
  },
  {
   "cell_type": "markdown",
   "id": "9b80fab7",
   "metadata": {},
   "source": [
    "Now the style is back to normal:"
   ]
  },
  {
   "cell_type": "code",
   "execution_count": 23,
   "id": "aa0d61e2",
   "metadata": {
    "execution": {
     "iopub.execute_input": "2025-02-04T05:47:14.630661Z",
     "iopub.status.busy": "2025-02-04T05:47:14.630551Z",
     "iopub.status.idle": "2025-02-04T05:47:14.633188Z",
     "shell.execute_reply": "2025-02-04T05:47:14.632955Z"
    }
   },
   "outputs": [
    {
     "data": {
      "text/markdown": [
       "$$\\begin{align*}\n",
       "    g{}_{t}{}_{t} &= \\frac{2 M}{r} - 1 \\\\\n",
       "    g{}_{r}{}_{r} &= \\frac{1}{- \\frac{2 M}{r} + 1} \\\\\n",
       "    g{}_{\\theta}{}_{\\theta} &= r^{2} \\\\\n",
       "    g{}_{\\phi}{}_{\\phi} &= r^{2} \\sin^{2}{\\left(\\theta \\right)} \n",
       "\\end{align*}$$"
      ],
      "text/plain": [
       "<IPython.core.display.Markdown object>"
      ]
     },
     "metadata": {},
     "output_type": "display_data"
    }
   ],
   "source": [
    "~Schwarzschild"
   ]
  },
  {
   "cell_type": "markdown",
   "id": "b9fa3f77",
   "metadata": {},
   "source": [
    "This is common to all properties of `options`; the `del` operator does not delete the property, it simply resets it to the default value.\n",
    "\n",
    "### Line and volume elements\n",
    "\n",
    "In the case of metrics, we can also display them as a line element using the method `line_element()`. For example, here are the line elements for our two metrics:"
   ]
  },
  {
   "cell_type": "code",
   "execution_count": 24,
   "id": "daff2257",
   "metadata": {
    "execution": {
     "iopub.execute_input": "2025-02-04T05:47:14.634063Z",
     "iopub.status.busy": "2025-02-04T05:47:14.633956Z",
     "iopub.status.idle": "2025-02-04T05:47:14.637050Z",
     "shell.execute_reply": "2025-02-04T05:47:14.636776Z"
    }
   },
   "outputs": [
    {
     "data": {
      "text/latex": [
       "$\\displaystyle - \\mathrm{d}t^{2} + \\mathrm{d}x^{2} + \\mathrm{d}y^{2} + \\mathrm{d}z^{2}$"
      ],
      "text/plain": [
       "-\\mathrm{d}t**2 + \\mathrm{d}x**2 + \\mathrm{d}y**2 + \\mathrm{d}z**2"
      ]
     },
     "execution_count": 24,
     "metadata": {},
     "output_type": "execute_result"
    }
   ],
   "source": [
    "Minkowski.line_element()"
   ]
  },
  {
   "cell_type": "code",
   "execution_count": 25,
   "id": "f943ad9d",
   "metadata": {
    "execution": {
     "iopub.execute_input": "2025-02-04T05:47:14.637930Z",
     "iopub.status.busy": "2025-02-04T05:47:14.637827Z",
     "iopub.status.idle": "2025-02-04T05:47:14.641878Z",
     "shell.execute_reply": "2025-02-04T05:47:14.641647Z"
    }
   },
   "outputs": [
    {
     "data": {
      "text/latex": [
       "$\\displaystyle \\mathrm{d}\\phi^{2} r^{2} \\sin^{2}{\\left(\\theta \\right)} + \\mathrm{d}\\theta^{2} r^{2} + \\frac{\\mathrm{d}r^{2}}{- \\frac{2 M}{r} + 1} + \\mathrm{d}t^{2} \\left(\\frac{2 M}{r} - 1\\right)$"
      ],
      "text/plain": [
       "\\mathrm{d}\\phi**2*r**2*sin(\\theta)**2 + \\mathrm{d}\\theta**2*r**2 + \\mathrm{d}r**2/(-2*M/r + 1) + \\mathrm{d}t**2*(2*M/r - 1)"
      ]
     },
     "execution_count": 25,
     "metadata": {},
     "output_type": "execute_result"
    }
   ],
   "source": [
    "Schwarzschild.line_element()"
   ]
  },
  {
   "cell_type": "markdown",
   "id": "2899e627",
   "metadata": {},
   "source": [
    "Note that these are standard SymPy expressions, so they can be manipulated like any other expressions, including operations such as simplifying or factoring. As an example of a more interesting (non-diagonal) line element, consider the **Alcubierre warp drive metric**:"
   ]
  },
  {
   "cell_type": "code",
   "execution_count": 26,
   "id": "20c8e9cd",
   "metadata": {
    "execution": {
     "iopub.execute_input": "2025-02-04T05:47:14.642819Z",
     "iopub.status.busy": "2025-02-04T05:47:14.642703Z",
     "iopub.status.idle": "2025-02-04T05:47:14.831679Z",
     "shell.execute_reply": "2025-02-04T05:47:14.831358Z"
    }
   },
   "outputs": [
    {
     "data": {
      "text/markdown": [
       "$$g{}_{\\mu}{}_{\\nu}\\Bigg|_{\\left(t, x, y, z\\right)} = \\left(\\begin{matrix}f^{2} v^{2} - 1 & 0 & 0 & - f v\\\\0 & 1 & 0 & 0\\\\0 & 0 & 1 & 0\\\\- f v & 0 & 0 & 1\\end{matrix}\\right)$$"
      ],
      "text/plain": [
       "<OGRePy._core.Metric at 0x1d2e62f7490>"
      ]
     },
     "execution_count": 26,
     "metadata": {},
     "output_type": "execute_result"
    }
   ],
   "source": [
    "v_t = T.func(\"v\")(t)\n",
    "f_t_x_y_z = T.func(\"f\")(t, x, y, z)\n",
    "Alcubierre = T.Metric(\n",
    "    coords=Cartesian,\n",
    "    components=[\n",
    "        [-1 + f_t_x_y_z**2 * v_t**2, 0, 0, -f_t_x_y_z * v_t],\n",
    "        [0, 1, 0, 0],\n",
    "        [0, 0, 1, 0],\n",
    "        [-f_t_x_y_z * v_t, 0, 0, 1],\n",
    "    ],\n",
    ")"
   ]
  },
  {
   "cell_type": "markdown",
   "id": "3a5db14b",
   "metadata": {},
   "source": [
    "Here we used OGRePy's `func()` function, which is a wrapper around SymPy's `Function` class which also defines the function to be real. Note that the metric was automatically printed in matrix form, since we configured the notebook to print out the result of the last assignment. Here is a list of its non-zero components:"
   ]
  },
  {
   "cell_type": "code",
   "execution_count": 27,
   "id": "84f68d18",
   "metadata": {
    "execution": {
     "iopub.execute_input": "2025-02-04T05:47:14.832883Z",
     "iopub.status.busy": "2025-02-04T05:47:14.832748Z",
     "iopub.status.idle": "2025-02-04T05:47:14.835903Z",
     "shell.execute_reply": "2025-02-04T05:47:14.835593Z"
    }
   },
   "outputs": [
    {
     "data": {
      "text/markdown": [
       "$$\\begin{align*}\n",
       "    g{}_{t}{}_{t} &= f^{2} v^{2} - 1 \\\\\n",
       "    g{}_{t}{}_{z} = g{}_{z}{}_{t} &= - f v \\\\\n",
       "    g{}_{x}{}_{x} = g{}_{y}{}_{y} = g{}_{z}{}_{z} &= 1 \n",
       "\\end{align*}$$"
      ],
      "text/plain": [
       "<IPython.core.display.Markdown object>"
      ]
     },
     "metadata": {},
     "output_type": "display_data"
    }
   ],
   "source": [
    "~Alcubierre"
   ]
  },
  {
   "cell_type": "markdown",
   "id": "a95a6278",
   "metadata": {},
   "source": [
    "$f$ is a form function which is equal to 1 inside a \"warp bubble\" of finite radius and 0 outside it, and $v$ is the velocity of the bubble, which can be faster than the speed of light ($v > 1$). Note that for $v$ and $f$ we used a new type of object: a SymPy `Function` object. This represents a function of the elements given as the arguments to the constructor, so $v$ is a function of $t$ while $f$ is a function of all of the coordinates.\n",
    "\n",
    "It is easy to see that the metric is flat where $f = 0$, that is, outside the bubble. Its line element is:"
   ]
  },
  {
   "cell_type": "code",
   "execution_count": 28,
   "id": "8fc90266",
   "metadata": {
    "execution": {
     "iopub.execute_input": "2025-02-04T05:47:14.836998Z",
     "iopub.status.busy": "2025-02-04T05:47:14.836860Z",
     "iopub.status.idle": "2025-02-04T05:47:14.840944Z",
     "shell.execute_reply": "2025-02-04T05:47:14.840671Z"
    }
   },
   "outputs": [
    {
     "data": {
      "text/latex": [
       "$\\displaystyle \\mathrm{d}t^{2} \\left(f^{2}{\\left(t,x,y,z \\right)} v^{2}{\\left(t \\right)} - 1\\right) - 2 \\mathrm{d}t \\mathrm{d}z f{\\left(t,x,y,z \\right)} v{\\left(t \\right)} + \\mathrm{d}x^{2} + \\mathrm{d}y^{2} + \\mathrm{d}z^{2}$"
      ],
      "text/plain": [
       "\\mathrm{d}t**2*(f(t, x, y, z)**2*v(t)**2 - 1) - 2*\\mathrm{d}t*\\mathrm{d}z*f(t, x, y, z)*v(t) + \\mathrm{d}x**2 + \\mathrm{d}y**2 + \\mathrm{d}z**2"
      ]
     },
     "execution_count": 28,
     "metadata": {},
     "output_type": "execute_result"
    }
   ],
   "source": [
    "Alcubierre.line_element()"
   ]
  },
  {
   "cell_type": "markdown",
   "id": "24236f61",
   "metadata": {},
   "source": [
    "We can simplify it as follows. First, we expand the parentheses:"
   ]
  },
  {
   "cell_type": "code",
   "execution_count": 29,
   "id": "d41831ad",
   "metadata": {
    "execution": {
     "iopub.execute_input": "2025-02-04T05:47:14.841991Z",
     "iopub.status.busy": "2025-02-04T05:47:14.841849Z",
     "iopub.status.idle": "2025-02-04T05:47:14.845764Z",
     "shell.execute_reply": "2025-02-04T05:47:14.845499Z"
    }
   },
   "outputs": [
    {
     "data": {
      "text/latex": [
       "$\\displaystyle \\mathrm{d}t^{2} f^{2}{\\left(t,x,y,z \\right)} v^{2}{\\left(t \\right)} - \\mathrm{d}t^{2} - 2 \\mathrm{d}t \\mathrm{d}z f{\\left(t,x,y,z \\right)} v{\\left(t \\right)} + \\mathrm{d}x^{2} + \\mathrm{d}y^{2} + \\mathrm{d}z^{2}$"
      ],
      "text/plain": [
       "\\mathrm{d}t**2*f(t, x, y, z)**2*v(t)**2 - \\mathrm{d}t**2 - 2*\\mathrm{d}t*\\mathrm{d}z*f(t, x, y, z)*v(t) + \\mathrm{d}x**2 + \\mathrm{d}y**2 + \\mathrm{d}z**2"
      ]
     },
     "execution_count": 29,
     "metadata": {},
     "output_type": "execute_result"
    }
   ],
   "source": [
    "Alcubierre.line_element().expand()"
   ]
  },
  {
   "cell_type": "markdown",
   "id": "4e518934",
   "metadata": {},
   "source": [
    "Using the `args` method, we can split this expansion into individual terms (we put the result inside a SymPy `Array` so the terms will be properly displayed as SymPy expressions in the notebook):"
   ]
  },
  {
   "cell_type": "code",
   "execution_count": 30,
   "id": "7dacdc71",
   "metadata": {
    "execution": {
     "iopub.execute_input": "2025-02-04T05:47:14.846741Z",
     "iopub.status.busy": "2025-02-04T05:47:14.846619Z",
     "iopub.status.idle": "2025-02-04T05:47:14.849834Z",
     "shell.execute_reply": "2025-02-04T05:47:14.849593Z"
    }
   },
   "outputs": [
    {
     "data": {
      "text/latex": [
       "$\\displaystyle \\left[\\begin{matrix}\\mathrm{d}x^{2} & \\mathrm{d}y^{2} & \\mathrm{d}z^{2} & - \\mathrm{d}t^{2} & \\mathrm{d}t^{2} f^{2}{\\left(t,x,y,z \\right)} v^{2}{\\left(t \\right)} & - 2 \\mathrm{d}t \\mathrm{d}z f{\\left(t,x,y,z \\right)} v{\\left(t \\right)}\\end{matrix}\\right]$"
      ],
      "text/plain": [
       "[\\mathrm{d}x**2, \\mathrm{d}y**2, \\mathrm{d}z**2, -\\mathrm{d}t**2, \\mathrm{d}t**2*f(t, x, y, z)**2*v(t)**2, -2*\\mathrm{d}t*\\mathrm{d}z*f(t, x, y, z)*v(t)]"
      ]
     },
     "execution_count": 30,
     "metadata": {},
     "output_type": "execute_result"
    }
   ],
   "source": [
    "args = Alcubierre.line_element().expand().args\n",
    "T.s.Array(args)"
   ]
  },
  {
   "cell_type": "markdown",
   "id": "f775a580",
   "metadata": {},
   "source": [
    "Now we can factorize the third, fifth, and sixth terms together, then add the rest: (recall that indices start from zero!)"
   ]
  },
  {
   "cell_type": "code",
   "execution_count": 31,
   "id": "9db318cc",
   "metadata": {
    "execution": {
     "iopub.execute_input": "2025-02-04T05:47:14.850868Z",
     "iopub.status.busy": "2025-02-04T05:47:14.850747Z",
     "iopub.status.idle": "2025-02-04T05:47:14.856982Z",
     "shell.execute_reply": "2025-02-04T05:47:14.856617Z"
    }
   },
   "outputs": [
    {
     "data": {
      "text/latex": [
       "$\\displaystyle - \\mathrm{d}t^{2} + \\mathrm{d}x^{2} + \\mathrm{d}y^{2} + \\left(\\mathrm{d}t f{\\left(t,x,y,z \\right)} v{\\left(t \\right)} - \\mathrm{d}z\\right)^{2}$"
      ],
      "text/plain": [
       "-\\mathrm{d}t**2 + \\mathrm{d}x**2 + \\mathrm{d}y**2 + (\\mathrm{d}t*f(t, x, y, z)*v(t) - \\mathrm{d}z)**2"
      ]
     },
     "execution_count": 31,
     "metadata": {},
     "output_type": "execute_result"
    }
   ],
   "source": [
    "args[0] + args[1] + args[3] + T.s.factor(args[2] + args[4] + args[5])"
   ]
  },
  {
   "cell_type": "markdown",
   "id": "83d6395e",
   "metadata": {},
   "source": [
    "In this form, it is immediately clear that the metric is flat outside the warp bubble (where $f$ is $0$), and inside the warp bubble (when $f$ is $1$) it is a flat metric translated by an amount $v\\left(t\\right)\\mathrm{d}t$ in the $z$ direction.\n",
    "\n",
    "Another thing we can do with a metric is calculate its volume elements squared, which is simply the determinant of the metric, using the method `volume_element_squared()`. For example:"
   ]
  },
  {
   "cell_type": "code",
   "execution_count": 32,
   "id": "a2f95c53",
   "metadata": {
    "execution": {
     "iopub.execute_input": "2025-02-04T05:47:14.858061Z",
     "iopub.status.busy": "2025-02-04T05:47:14.857945Z",
     "iopub.status.idle": "2025-02-04T05:47:14.860537Z",
     "shell.execute_reply": "2025-02-04T05:47:14.860266Z"
    }
   },
   "outputs": [
    {
     "data": {
      "text/latex": [
       "$\\displaystyle -1$"
      ],
      "text/plain": [
       "-1"
      ]
     },
     "execution_count": 32,
     "metadata": {},
     "output_type": "execute_result"
    }
   ],
   "source": [
    "Minkowski.volume_element_squared()"
   ]
  },
  {
   "cell_type": "code",
   "execution_count": 33,
   "id": "7c9c6874",
   "metadata": {
    "execution": {
     "iopub.execute_input": "2025-02-04T05:47:14.861561Z",
     "iopub.status.busy": "2025-02-04T05:47:14.861435Z",
     "iopub.status.idle": "2025-02-04T05:47:14.878173Z",
     "shell.execute_reply": "2025-02-04T05:47:14.877834Z"
    }
   },
   "outputs": [
    {
     "data": {
      "text/latex": [
       "$\\displaystyle - r^{4} \\sin^{2}{\\left(\\theta \\right)}$"
      ],
      "text/plain": [
       "-r**4*sin(\\theta)**2"
      ]
     },
     "execution_count": 33,
     "metadata": {},
     "output_type": "execute_result"
    }
   ],
   "source": [
    "Schwarzschild.volume_element_squared()"
   ]
  },
  {
   "cell_type": "code",
   "execution_count": 34,
   "id": "ff0564a9",
   "metadata": {
    "execution": {
     "iopub.execute_input": "2025-02-04T05:47:14.879386Z",
     "iopub.status.busy": "2025-02-04T05:47:14.879225Z",
     "iopub.status.idle": "2025-02-04T05:47:14.882127Z",
     "shell.execute_reply": "2025-02-04T05:47:14.881866Z"
    }
   },
   "outputs": [
    {
     "data": {
      "text/latex": [
       "$\\displaystyle -1$"
      ],
      "text/plain": [
       "-1"
      ]
     },
     "execution_count": 34,
     "metadata": {},
     "output_type": "execute_result"
    }
   ],
   "source": [
    "Alcubierre.volume_element_squared()"
   ]
  },
  {
   "cell_type": "markdown",
   "id": "b6f7d008",
   "metadata": {},
   "source": [
    "As with the line elements, these are SymPy expressions, so they can be modified just like any other expression. Therefore, to calculate the volume element itself, we can just take the square root (adding a minus sign if the metric is Lorentzian):"
   ]
  },
  {
   "cell_type": "code",
   "execution_count": 35,
   "id": "7e44393b",
   "metadata": {
    "execution": {
     "iopub.execute_input": "2025-02-04T05:47:14.883138Z",
     "iopub.status.busy": "2025-02-04T05:47:14.883009Z",
     "iopub.status.idle": "2025-02-04T05:47:14.899033Z",
     "shell.execute_reply": "2025-02-04T05:47:14.898787Z"
    }
   },
   "outputs": [
    {
     "data": {
      "text/latex": [
       "$\\displaystyle r^{2} \\left|{\\sin{\\left(\\theta \\right)}}\\right|$"
      ],
      "text/plain": [
       "r**2*Abs(sin(\\theta))"
      ]
     },
     "execution_count": 35,
     "metadata": {},
     "output_type": "execute_result"
    }
   ],
   "source": [
    "T.s.simplify(T.s.sqrt(-Schwarzschild.volume_element_squared()))"
   ]
  },
  {
   "cell_type": "markdown",
   "id": "5edea0cc",
   "metadata": {},
   "source": [
    "### Choosing index letters\n",
    "\n",
    "By default, the `show()` method uses Greek letters for the indices, in a specific pre-determined order. The letters can be changed by setting the property `T.options.index_letters` to a list of symbols. The default letters are:"
   ]
  },
  {
   "cell_type": "code",
   "execution_count": 36,
   "id": "4615ff43",
   "metadata": {
    "execution": {
     "iopub.execute_input": "2025-02-04T05:47:14.900154Z",
     "iopub.status.busy": "2025-02-04T05:47:14.900035Z",
     "iopub.status.idle": "2025-02-04T05:47:14.902185Z",
     "shell.execute_reply": "2025-02-04T05:47:14.901932Z"
    }
   },
   "outputs": [
    {
     "data": {
      "text/plain": [
       "['\\\\mu',\n",
       " '\\\\nu',\n",
       " '\\\\rho',\n",
       " '\\\\sigma',\n",
       " '\\\\kappa',\n",
       " '\\\\lambda',\n",
       " '\\\\alpha',\n",
       " '\\\\beta',\n",
       " '\\\\gamma',\n",
       " '\\\\delta',\n",
       " '\\\\epsilon',\n",
       " '\\\\zeta',\n",
       " '\\\\epsilon',\n",
       " '\\\\theta',\n",
       " '\\\\iota',\n",
       " '\\\\xi',\n",
       " '\\\\pi',\n",
       " '\\\\tau',\n",
       " '\\\\phi',\n",
       " '\\\\chi',\n",
       " '\\\\psi',\n",
       " '\\\\omega']"
      ]
     },
     "execution_count": 36,
     "metadata": {},
     "output_type": "execute_result"
    }
   ],
   "source": [
    "T.options.index_letters"
   ]
  },
  {
   "cell_type": "markdown",
   "id": "1ebb5dd3",
   "metadata": {},
   "source": [
    "As you can see, they are given as strings containing TeX symbols. We can display these symbols more nicely in the notebook using the IPython package:"
   ]
  },
  {
   "cell_type": "code",
   "execution_count": 37,
   "id": "3b88d103",
   "metadata": {
    "execution": {
     "iopub.execute_input": "2025-02-04T05:47:14.903171Z",
     "iopub.status.busy": "2025-02-04T05:47:14.903061Z",
     "iopub.status.idle": "2025-02-04T05:47:14.905093Z",
     "shell.execute_reply": "2025-02-04T05:47:14.904859Z"
    }
   },
   "outputs": [
    {
     "data": {
      "text/latex": [
       "$\\displaystyle \\mu,\\nu,\\rho,\\sigma,\\kappa,\\lambda,\\alpha,\\beta,\\gamma,\\delta,\\epsilon,\\zeta,\\epsilon,\\theta,\\iota,\\xi,\\pi,\\tau,\\phi,\\chi,\\psi,\\omega$"
      ],
      "text/plain": [
       "<IPython.core.display.Math object>"
      ]
     },
     "execution_count": 37,
     "metadata": {},
     "output_type": "execute_result"
    }
   ],
   "source": [
    "from IPython.display import Math\n",
    "\n",
    "Math(\",\".join(T.options.index_letters))"
   ]
  },
  {
   "cell_type": "markdown",
   "id": "985ddded",
   "metadata": {},
   "source": [
    "This means that the letter $\\mu$ will be used for the first index, $\\nu$ for the second, and so on. However, sometimes we want to use different letters. `T.options.index_letters` can accept a list of TeX symbols, SymPy symbols, and/or strings in the same format as SymPy's `symbols()` function, that is, a space- or comma-separated list of one or more letters or TeX codes - or a mix and match of all of the above, as long as it's inside a list. Ranges of letters can be indicated using a colon, so for example, here is how to change the indices to lowercase English letters in alphabetical order:"
   ]
  },
  {
   "cell_type": "code",
   "execution_count": 38,
   "id": "9607ecd2",
   "metadata": {
    "execution": {
     "iopub.execute_input": "2025-02-04T05:47:14.906049Z",
     "iopub.status.busy": "2025-02-04T05:47:14.905925Z",
     "iopub.status.idle": "2025-02-04T05:47:14.908143Z",
     "shell.execute_reply": "2025-02-04T05:47:14.907935Z"
    }
   },
   "outputs": [],
   "source": [
    "T.options.index_letters = [\"a:z\"]"
   ]
  },
  {
   "cell_type": "markdown",
   "id": "635c082f",
   "metadata": {},
   "source": [
    "`show()` will now use these letters - in this particular order - when displaying tensors:"
   ]
  },
  {
   "cell_type": "code",
   "execution_count": 39,
   "id": "bf2eea63",
   "metadata": {
    "execution": {
     "iopub.execute_input": "2025-02-04T05:47:14.909042Z",
     "iopub.status.busy": "2025-02-04T05:47:14.908922Z",
     "iopub.status.idle": "2025-02-04T05:47:14.911256Z",
     "shell.execute_reply": "2025-02-04T05:47:14.910935Z"
    }
   },
   "outputs": [
    {
     "data": {
      "text/markdown": [
       "$$\\eta{}_{a}{}_{b}\\Bigg|_{\\left(t, x, y, z\\right)} = \\left(\\begin{matrix}-1 & 0 & 0 & 0\\\\0 & 1 & 0 & 0\\\\0 & 0 & 1 & 0\\\\0 & 0 & 0 & 1\\end{matrix}\\right)$$"
      ],
      "text/plain": [
       "<OGRePy._core.Metric at 0x1d2e3f00730>"
      ]
     },
     "execution_count": 39,
     "metadata": {},
     "output_type": "execute_result"
    }
   ],
   "source": [
    "Minkowski"
   ]
  },
  {
   "cell_type": "markdown",
   "id": "8235a714",
   "metadata": {},
   "source": [
    "As always with the `options` object, to reset the `index_letters` property to its default value, we \"delete\" it using `del`:"
   ]
  },
  {
   "cell_type": "code",
   "execution_count": 40,
   "id": "df9b0f0d",
   "metadata": {
    "execution": {
     "iopub.execute_input": "2025-02-04T05:47:14.912158Z",
     "iopub.status.busy": "2025-02-04T05:47:14.912050Z",
     "iopub.status.idle": "2025-02-04T05:47:14.913698Z",
     "shell.execute_reply": "2025-02-04T05:47:14.913443Z"
    }
   },
   "outputs": [],
   "source": [
    "del T.options.index_letters"
   ]
  },
  {
   "cell_type": "markdown",
   "id": "0c9bd2d0",
   "metadata": {},
   "source": [
    "Note that `list()` always uses the coordinate symbols themselves for the indices (e.g. $\\eta_ {tt}$, $\\eta_ {xx}$, etc.), so it is not affected by `T.options.index_letters`.\n",
    "\n",
    "### Creating tensors in a given manifold\n",
    "\n",
    "Any tensors other than coordinates and metrics are created as objects of the OGRePy class `Tensor`. The constructor for this class is defined as follows:"
   ]
  },
  {
   "cell_type": "code",
   "execution_count": 41,
   "id": "9a5864b7",
   "metadata": {
    "execution": {
     "iopub.execute_input": "2025-02-04T05:47:14.914619Z",
     "iopub.status.busy": "2025-02-04T05:47:14.914510Z",
     "iopub.status.idle": "2025-02-04T05:47:14.916478Z",
     "shell.execute_reply": "2025-02-04T05:47:14.916248Z"
    }
   },
   "outputs": [
    {
     "data": {
      "text/markdown": [
       "<div style=\"border: 1px solid; margin: auto; padding: 1em; width: 90%\">\n",
       "\n",
       "`Tensor(*, metric: Metric, indices: IndexConfiguration, coords: Coordinates, components: list[Any] | s.NDimArray | s.Matrix, symbol: str | s.Symbol = \\\\square, simplify: bool = False) -> None`\n",
       "\n",
       "Construct a new tensor object.\n",
       "#### Parameters:\n",
       "* `metric`: An OGRePy `Metric` object specifying the metric which will be used to raise and lower indices for this tensor.\n",
       "* `indices`: A tuple of integers specifying the index configuration of the representation of the initialization components. Each integer in the tuple can be either +1 for an upper index or -1 for a lower index. Will also be designated the default index configuration of the tensor.\n",
       "* `coords`: An OGRePy `Coordinates` object specifying the coordinate system of the representation of the initialization components. Will also be designated the default coordinate system of the tensor.\n",
       "* `components`: The components with which to initialize the tensor. Can be a list, a SymPy `Array` object, or (for rank 2 tensors) a SymPy `Matrix` object.\n",
       "* `symbol` (optional): A string or a SymPy `Symbol` object designating the symbol to be used when displaying the tensor. The string can include any TeX symbols, e.g. `r\"\\hat{T}\"` (note the `r` in front of the string, indicating that the `\\` in the string is not an escape character). If omitted, the placeholder $\\square$ (`r\"\\square\"`) will be used.\n",
       "* `simplify` (optional): Whether to simplify (`True`) or not simplify (`False`, the default) the components before storing them.\n",
       "\n",
       "</div>"
      ],
      "text/plain": [
       "<IPython.core.display.Markdown object>"
      ]
     },
     "metadata": {},
     "output_type": "display_data"
    }
   ],
   "source": [
    "T.doc(T.Tensor)"
   ]
  },
  {
   "cell_type": "markdown",
   "id": "a584ae8e",
   "metadata": {},
   "source": [
    "In OGRePy, all tensor objects must have an **associated metric** - except coordinate objects, and the metric tensors themselves. This is because OGRePy automatically raises and lowers indices as appropriate for various operations such as adding and contracting tensors, and it cannot do so without knowing which metric to use. Even scalars, which have no indices, should still be associated to a specific metric - since they can multiply other tensors, and you cannot multiply tensors from different manifolds together.\n",
    "\n",
    "The index configuration of the tensor is a tuple. The number of indices is the rank of the tensor. Each element in the tuple corresponds to one index, with +1 specifying an upper index and -1 specifying a lower index. For example, `(-1, -1)` corresponds to a tensor such as the metric $g_ {\\mu\\nu}$, which has two lower indices, while `(1, -1, -1, -1)` corresponds to a tensor such as the Riemann tensor $R^{\\rho}{}_ {\\sigma\\mu\\nu}$, which has one upper index followed by three lower indices.\n",
    "\n",
    "The components of the tensor can be given in several equivalent forms: a list, a SymPy `Array` object, or (for rank 2 tensors) a SymPy `Matrix` object. Usually, a list is the simplest option if we are specifying the components explicitly. (For advanced users: The components can, more generally, be any SymPy `NDimArray`, including mutable and/or sparse arrays, but OGRePy always stores the components as an immutable dense array, no matter what form the input was originally in.)\n",
    "\n",
    "The components are the representation of the new tensor in the given index configuration and coordinate system. If a coordinate system is not specified, the default coordinate system of the associated metric will be used - but it is recommended to always specify the coordinate system explicitly, to avoid accidentally defining the tensor with the wrong components. The components will be automatically converted to different indices or coordinates later as needed, as we will demonstrate below.\n",
    "\n",
    "To create a **scalar**, or a tensor of rank 0 (with no indices), we must input an empty tuple `()` for the indices, and a list with exactly one item for the components. Note that a \"bare\" expression, not inside a list, will not work. For example, let us define the **Kretschmann scalar** in the Schwarzschild spacetime (below we will show how to calculate it directly from the metric):"
   ]
  },
  {
   "cell_type": "code",
   "execution_count": 42,
   "id": "96e0da2f",
   "metadata": {
    "execution": {
     "iopub.execute_input": "2025-02-04T05:47:14.917426Z",
     "iopub.status.busy": "2025-02-04T05:47:14.917325Z",
     "iopub.status.idle": "2025-02-04T05:47:14.920226Z",
     "shell.execute_reply": "2025-02-04T05:47:14.919972Z"
    }
   },
   "outputs": [
    {
     "data": {
      "text/markdown": [
       "$$K\\Bigg|_{\\left(t, r, \\theta, \\phi\\right)} = \\frac{48 M^{2}}{r^{6}}$$"
      ],
      "text/plain": [
       "<OGRePy._core.Tensor at 0x1d2e681eb10>"
      ]
     },
     "execution_count": 42,
     "metadata": {},
     "output_type": "execute_result"
    }
   ],
   "source": [
    "SchwarzschildKretschmann = T.Tensor(\n",
    "    metric=Schwarzschild,\n",
    "    coords=Spherical,\n",
    "    indices=(),\n",
    "    components=[(48 * M**2) / r**6],\n",
    "    symbol=\"K\",\n",
    ")"
   ]
  },
  {
   "cell_type": "markdown",
   "id": "c4bcd5a9",
   "metadata": {},
   "source": [
    "Similarly, we can create a **vector**, or a tensor of rank 1 (with one index). For example, let us create a vector for the 4-velocity of a particle moving at 3-velocity $v$ along the $x$ direction in Minkowski space. Since the 4-velocity has an upper index by definition, we make sure to define the components in the representation of the tensor with an upper index by specifying the index configuration as `(1,)`:"
   ]
  },
  {
   "cell_type": "code",
   "execution_count": 43,
   "id": "b1abdb48",
   "metadata": {
    "execution": {
     "iopub.execute_input": "2025-02-04T05:47:14.921172Z",
     "iopub.status.busy": "2025-02-04T05:47:14.921068Z",
     "iopub.status.idle": "2025-02-04T05:47:14.925284Z",
     "shell.execute_reply": "2025-02-04T05:47:14.925044Z"
    }
   },
   "outputs": [
    {
     "data": {
      "text/markdown": [
       "$$\\square{}^{\\mu}\\Bigg|_{\\left(t, x, y, z\\right)} = \\left(\\begin{matrix}\\frac{1}{\\sqrt{1 - v^{2}}}\\\\\\frac{v}{\\sqrt{1 - v^{2}}}\\\\0\\\\0\\end{matrix}\\right)$$"
      ],
      "text/plain": [
       "<OGRePy._core.Tensor at 0x1d2e67dba60>"
      ]
     },
     "execution_count": 43,
     "metadata": {},
     "output_type": "execute_result"
    }
   ],
   "source": [
    "from OGRePy.abc import v\n",
    "\n",
    "FourVelocity = T.Tensor(\n",
    "    metric=Minkowski,\n",
    "    coords=Cartesian,\n",
    "    indices=(1,),\n",
    "    components=T.s.Array([1, v, 0, 0]) / T.s.sqrt(1 - v**2),\n",
    ")"
   ]
  },
  {
   "cell_type": "markdown",
   "id": "79a2d2c4",
   "metadata": {},
   "source": [
    "There are a few important things to note here:\n",
    "\n",
    "1. In Python, a tuple of one element must be specified with a comma, i.e. `(1,)`, because `(1)` would be interpreted as an integer.\n",
    "2. We used a SymPy `Array` object to define the components since this allowed us to divide each component by the square root $\\sqrt{1-v^2}$. This would not be possible with a normal Python list.\n",
    "3. Since we did not specify a symbol for this tensor, its symbol is just a placeholder $\\square$. We will give it a proper symbol below.\n",
    "\n",
    "Finally, as an example of a tensor of rank 2 (with two indices), let us define the **stress-energy tensor** $T^{\\mu\\nu}$ for a perfect fluid, using its matrix representation with two upper indices by specifying the index configuration `(1, 1)`:"
   ]
  },
  {
   "cell_type": "code",
   "execution_count": 44,
   "id": "eb3d24d1",
   "metadata": {
    "execution": {
     "iopub.execute_input": "2025-02-04T05:47:14.926148Z",
     "iopub.status.busy": "2025-02-04T05:47:14.926048Z",
     "iopub.status.idle": "2025-02-04T05:47:14.928715Z",
     "shell.execute_reply": "2025-02-04T05:47:14.928467Z"
    }
   },
   "outputs": [
    {
     "data": {
      "text/markdown": [
       "$$T{}^{\\mu}{}^{\\nu}\\Bigg|_{\\left(t, x, y, z\\right)} = \\left(\\begin{matrix}\\rho & 0 & 0 & 0\\\\0 & p & 0 & 0\\\\0 & 0 & p & 0\\\\0 & 0 & 0 & p\\end{matrix}\\right)$$"
      ],
      "text/plain": [
       "<OGRePy._core.Tensor at 0x1d2e6845f80>"
      ]
     },
     "execution_count": 44,
     "metadata": {},
     "output_type": "execute_result"
    }
   ],
   "source": [
    "from OGRePy.abc import p, rho\n",
    "\n",
    "PerfectFluid = T.Tensor(\n",
    "    metric=Minkowski,\n",
    "    coords=Cartesian,\n",
    "    indices=(1, 1),\n",
    "    components=T.diag(rho, p, p, p),\n",
    "    symbol=\"T\",\n",
    ")"
   ]
  },
  {
   "cell_type": "markdown",
   "id": "d7240987",
   "metadata": {},
   "source": [
    "In a similar manner, we could also define tensors of rank 3 and above. However, such tensors are most often derived by operating on lower-rank tensors, rather than defined manually via their components. We will see an example of such a derivation when we derive the Christoffel symbols and Riemann tensor from the metric below.\n",
    "\n",
    "## Operations on single tensors\n",
    "\n",
    "### Changing a tensor's symbol\n",
    "\n",
    "If we ever want to change the symbol used to display a tensor, we can simply change the property `symbol` to any string, TeX code, or SymPy `Symbol`. For example, let us give the symbol $u$ to the four-velocity:"
   ]
  },
  {
   "cell_type": "code",
   "execution_count": 45,
   "id": "511c4fa9",
   "metadata": {
    "execution": {
     "iopub.execute_input": "2025-02-04T05:47:14.929670Z",
     "iopub.status.busy": "2025-02-04T05:47:14.929561Z",
     "iopub.status.idle": "2025-02-04T05:47:14.931171Z",
     "shell.execute_reply": "2025-02-04T05:47:14.930825Z"
    }
   },
   "outputs": [],
   "source": [
    "FourVelocity.symbol = \"u\""
   ]
  },
  {
   "cell_type": "markdown",
   "id": "4e866ad1",
   "metadata": {},
   "source": [
    "Now, when we display the tensor using `show()` or `list()`, this is the symbol that will be used:"
   ]
  },
  {
   "cell_type": "code",
   "execution_count": 46,
   "id": "ad3cada9",
   "metadata": {
    "execution": {
     "iopub.execute_input": "2025-02-04T05:47:14.932078Z",
     "iopub.status.busy": "2025-02-04T05:47:14.931974Z",
     "iopub.status.idle": "2025-02-04T05:47:14.934240Z",
     "shell.execute_reply": "2025-02-04T05:47:14.934010Z"
    }
   },
   "outputs": [
    {
     "data": {
      "text/markdown": [
       "$$u{}^{\\mu}\\Bigg|_{\\left(t, x, y, z\\right)} = \\left(\\begin{matrix}\\frac{1}{\\sqrt{1 - v^{2}}}\\\\\\frac{v}{\\sqrt{1 - v^{2}}}\\\\0\\\\0\\end{matrix}\\right)$$"
      ],
      "text/plain": [
       "<OGRePy._core.Tensor at 0x1d2e67dba60>"
      ]
     },
     "execution_count": 46,
     "metadata": {},
     "output_type": "execute_result"
    }
   ],
   "source": [
    "FourVelocity"
   ]
  },
  {
   "cell_type": "markdown",
   "id": "9474c6aa",
   "metadata": {},
   "source": [
    "### Raising and lowering indices\n",
    "\n",
    "Raising and lowering indices is one of the most basic tensor operations. For example, if we have a vector represented with one upper index, $v^{\\nu}$, we can turn it into a covector, which is represented with one lower index, by **contracting** it with the metric:\n",
    "\n",
    "$$\n",
    "v_ {\\mu} = g_ {\\mu\\nu} v^{\\nu}.\n",
    "$$\n",
    "\n",
    "This is called \"lowering an index\". Here and in the rest of this documentation, we will be using the **Einstein summation convention**, where the same index repeated **exactly twice**, once as an upper index and once as a lower index, implies summation over that index. In this case, the implied summation is over $\\nu \\in {0, 1, 2, 3}$:\n",
    "\n",
    "$$\n",
    "v_ {\\mu} = \\sum_ {\\nu=0}^{3} g_ {\\mu\\nu} v^{\\nu} = g_ {\\mu 0} v^{0} + g_ {\\mu 1} v^{1} + g_ {\\mu 2} v^{2} + g_ {\\mu 3} v^{3}.\n",
    "$$\n",
    "\n",
    "Such a sum over an index is called a contraction, and it is a generalization of the inner product, as we will describe in more details below. Conversely, if we have a covector $w_ {\\mu}$, we can raise its index by contracting it with the inverse metric:\n",
    "\n",
    "$$\n",
    "w^{\\mu} = g^{\\mu\\nu} w_ {\\nu}.\n",
    "$$\n",
    "\n",
    "This works the same for indices of higher-rank tensors. For example, if we have a tensor of rank 2 represented with two upper indices, $T^{\\mu\\lambda}$, we can lower either one or both of its indices:\n",
    "\n",
    "$$\n",
    "T^{\\mu}{}_ {\\nu} = g_ {\\nu\\lambda} T^{\\mu\\lambda},\\quad T_ {\\mu\\nu} = g_ {\\mu\\rho} g_ {\\nu\\lambda} T^{\\rho\\lambda}.\n",
    "$$\n",
    "\n",
    "In OGRePy, since tensor objects are **abstract tensors**, independent of any specific index configuration, **there is no notion of raising or lowering the indices of a tensor object**. Instead, one simply request to **display** the components of the tensor with the desired index configuration, without modifying the object itself. This works with both the `show()` and `list()` methods, by simply providing as an argument the list of indices in the format $(\\pm 1, \\pm 1, ...)$, as when we created a new tensor.\n",
    "\n",
    "As an example, let us use `show()` to display the vector `FourVelocity` with a lower index, that is, with index configuration `(-1,)`:"
   ]
  },
  {
   "cell_type": "code",
   "execution_count": 47,
   "id": "70898ed4",
   "metadata": {
    "execution": {
     "iopub.execute_input": "2025-02-04T05:47:14.935179Z",
     "iopub.status.busy": "2025-02-04T05:47:14.935066Z",
     "iopub.status.idle": "2025-02-04T05:47:14.951771Z",
     "shell.execute_reply": "2025-02-04T05:47:14.951528Z"
    }
   },
   "outputs": [
    {
     "data": {
      "text/markdown": [
       "$$u{}_{\\mu}\\Bigg|_{\\left(t, x, y, z\\right)} = \\left(\\begin{matrix}- \\frac{1}{\\sqrt{1 - v^{2}}}\\\\\\frac{v}{\\sqrt{1 - v^{2}}}\\\\0\\\\0\\end{matrix}\\right)$$"
      ],
      "text/plain": [
       "<IPython.core.display.Markdown object>"
      ]
     },
     "metadata": {},
     "output_type": "display_data"
    }
   ],
   "source": [
    "FourVelocity.show(indices=(-1,))"
   ]
  },
  {
   "cell_type": "markdown",
   "id": "7b3d8f55",
   "metadata": {},
   "source": [
    "OGRePy automatically knows to use the `Minkowski` metric to lower the index, which means that a minus sign has been added to the first component, as expected. Similarly, here is `PerfectFluid` with just the second index lowered, this time displayed using `list()`:"
   ]
  },
  {
   "cell_type": "code",
   "execution_count": 48,
   "id": "67465add",
   "metadata": {
    "execution": {
     "iopub.execute_input": "2025-02-04T05:47:14.953071Z",
     "iopub.status.busy": "2025-02-04T05:47:14.952926Z",
     "iopub.status.idle": "2025-02-04T05:47:14.959066Z",
     "shell.execute_reply": "2025-02-04T05:47:14.958804Z"
    }
   },
   "outputs": [
    {
     "data": {
      "text/markdown": [
       "$$\\begin{align*}\n",
       "    T{}^{t}{}_{t} &= - \\rho \\\\\n",
       "    T{}^{x}{}_{x} = T{}^{y}{}_{y} = T{}^{z}{}_{z} &= p \n",
       "\\end{align*}$$"
      ],
      "text/plain": [
       "<IPython.core.display.Markdown object>"
      ]
     },
     "metadata": {},
     "output_type": "display_data"
    }
   ],
   "source": [
    "PerfectFluid.list(indices=(1, -1))"
   ]
  },
  {
   "cell_type": "markdown",
   "id": "2606fa42",
   "metadata": {},
   "source": [
    "The components of the representation of the metric with two upper indices are the components of the inverse metric, since\n",
    "\n",
    "$$\n",
    "g_ {\\mu\\lambda} g^{\\lambda\\nu} = \\delta_ {\\mu}^{\\nu}.\n",
    "$$\n",
    "\n",
    "Therefore, a quick way to show the components of the inverse metric is to display it with the index configuration `(1, 1)`:"
   ]
  },
  {
   "cell_type": "code",
   "execution_count": 49,
   "id": "a0ce0e4a",
   "metadata": {
    "execution": {
     "iopub.execute_input": "2025-02-04T05:47:14.960222Z",
     "iopub.status.busy": "2025-02-04T05:47:14.960119Z",
     "iopub.status.idle": "2025-02-04T05:47:14.962960Z",
     "shell.execute_reply": "2025-02-04T05:47:14.962714Z"
    }
   },
   "outputs": [
    {
     "data": {
      "text/markdown": [
       "$$g{}^{\\mu}{}^{\\nu}\\Bigg|_{\\left(t, r, \\theta, \\phi\\right)} = \\left(\\begin{matrix}- \\frac{r}{- 2 M + r} & 0 & 0 & 0\\\\0 & \\frac{- 2 M + r}{r} & 0 & 0\\\\0 & 0 & \\frac{1}{r^{2}} & 0\\\\0 & 0 & 0 & \\frac{1}{r^{2} \\sin^{2}{\\left(\\theta \\right)}}\\end{matrix}\\right)$$"
      ],
      "text/plain": [
       "<IPython.core.display.Markdown object>"
      ]
     },
     "metadata": {},
     "output_type": "display_data"
    }
   ],
   "source": [
    "Schwarzschild.show(indices=(1, 1))"
   ]
  },
  {
   "cell_type": "markdown",
   "id": "b21a17e7",
   "metadata": {},
   "source": [
    "For the same reason, the metric with one upper and one lower index is just the identity matrix:"
   ]
  },
  {
   "cell_type": "code",
   "execution_count": 50,
   "id": "7e010889",
   "metadata": {
    "execution": {
     "iopub.execute_input": "2025-02-04T05:47:14.963984Z",
     "iopub.status.busy": "2025-02-04T05:47:14.963872Z",
     "iopub.status.idle": "2025-02-04T05:47:14.966240Z",
     "shell.execute_reply": "2025-02-04T05:47:14.965977Z"
    }
   },
   "outputs": [
    {
     "data": {
      "text/markdown": [
       "$$\\begin{align*}\n",
       "    g{}^{t}{}_{t} = g{}^{r}{}_{r} = g{}^{\\theta}{}_{\\theta} = g{}^{\\phi}{}_{\\phi} &= 1 \n",
       "\\end{align*}$$"
      ],
      "text/plain": [
       "<IPython.core.display.Markdown object>"
      ]
     },
     "metadata": {},
     "output_type": "display_data"
    }
   ],
   "source": [
    "Schwarzschild.list(indices=(1, -1))"
   ]
  },
  {
   "cell_type": "markdown",
   "id": "b702bf1d",
   "metadata": {},
   "source": [
    "As explained above, if `show()` or `list()` are called without any arguments, the tensor is displayed in its **default index configuration**, which is the one first used to define the tensor. So the 4-velocity has one upper index by default, and the stress tensor has two upper indices by default, because that is how we initially defined them. However, the default indices can be changed by setting the property `default_indices`. For example, let us change the default indices of the perfect fluid stress tensor to two lower indices:"
   ]
  },
  {
   "cell_type": "code",
   "execution_count": 51,
   "id": "db9b7b57",
   "metadata": {
    "execution": {
     "iopub.execute_input": "2025-02-04T05:47:14.967125Z",
     "iopub.status.busy": "2025-02-04T05:47:14.967008Z",
     "iopub.status.idle": "2025-02-04T05:47:14.980325Z",
     "shell.execute_reply": "2025-02-04T05:47:14.980051Z"
    }
   },
   "outputs": [],
   "source": [
    "PerfectFluid.default_indices = (-1, -1)"
   ]
  },
  {
   "cell_type": "markdown",
   "id": "f0232be2",
   "metadata": {},
   "source": [
    "Now, when we display the tensor using `show()` or `list()` without any arguments, this is the index configuration that will be used:"
   ]
  },
  {
   "cell_type": "code",
   "execution_count": 52,
   "id": "7c9d805b",
   "metadata": {
    "execution": {
     "iopub.execute_input": "2025-02-04T05:47:14.981319Z",
     "iopub.status.busy": "2025-02-04T05:47:14.981197Z",
     "iopub.status.idle": "2025-02-04T05:47:14.983608Z",
     "shell.execute_reply": "2025-02-04T05:47:14.983361Z"
    }
   },
   "outputs": [
    {
     "data": {
      "text/markdown": [
       "$$T{}_{\\mu}{}_{\\nu}\\Bigg|_{\\left(t, x, y, z\\right)} = \\left(\\begin{matrix}\\rho & 0 & 0 & 0\\\\0 & p & 0 & 0\\\\0 & 0 & p & 0\\\\0 & 0 & 0 & p\\end{matrix}\\right)$$"
      ],
      "text/plain": [
       "<OGRePy._core.Tensor at 0x1d2e6845f80>"
      ]
     },
     "execution_count": 52,
     "metadata": {},
     "output_type": "execute_result"
    }
   ],
   "source": [
    "PerfectFluid"
   ]
  },
  {
   "cell_type": "markdown",
   "id": "86665f40",
   "metadata": {},
   "source": [
    "### Coordinate transformations\n",
    "\n",
    "The components of any tensor may be transformed from one coordinate system $x^{\\mu}$ to another coordinate system $x^{\\mu'}$ using the following prescription:\n",
    "\n",
    "* For every lower index $\\mu$, add a factor of $\\partial x^{\\mu} / \\partial x^{\\mu'}$ (i.e. the derivative of the old coordinates with respect to the new, or the **Jacobian**).\n",
    "* For every upper index $\\mu$, add a factor of $\\partial x^{\\mu'} / \\partial x^{\\mu}$ (i.e. the derivative of the new coordinates with respect to the old, or the inverse of the Jacobian).\n",
    "\n",
    "For example, given a tensor with components $T_ {\\alpha\\beta}$ in a coordinate system $x^{\\mu}$, we can transform to components $T_ {\\alpha'\\beta'}$ in another coordinate system $x^{\\mu'}$ as follows:\n",
    "\n",
    "$$\n",
    "T_ {\\alpha'\\beta'}(x^{\\mu'}) = \\frac{\\partial x^{\\alpha}}{\\partial x^{\\alpha'}} / \\frac{\\partial x^{\\beta}}{\\partial x^{\\beta'}}\n",
    "$$\n",
    "\n",
    "For a general rank $(p, q)$ tensor with $p$ upper indices $\\alpha_ {1}, \\ldots, \\alpha_ {p}$ and $q$ lower indices $\\beta_ {1}, \\ldots, \\beta_ {q}$, the transformation takes the form\n",
    "\n",
    "$$\n",
    "T_ {\\beta_ {1}^{\\prime}\\cdots\\beta_ {q}^{\\prime}}^{\\alpha_ {1}^{\\prime}\\cdots\\alpha_ {p}^{\\prime}}(x^{\\mu'})=\\left(\\frac{\\partial x^{\\alpha_ {1}^{\\prime}}}{\\partial x^{\\alpha_ {1}}}\\cdots\\frac{\\partial x^{\\alpha_ {p}^{\\prime}}}{\\partial x^{\\alpha_ {p}}}\\right)\\left(\\frac{\\partial x^{\\beta_ {1}^{\\prime}}}{\\partial x^{\\beta_ {1}}}\\cdots\\frac{\\partial x^{\\beta_ {q}^{\\prime}}}{\\partial x^{\\beta_ {q}}}\\right)T_ {\\beta_ {1}\\cdots\\beta_ {q}}^{\\alpha_ {1}\\cdots\\alpha_ {p}}(x^{\\mu})\n",
    "$$\n",
    "\n",
    "As a mnemonic for this formula, recall that two indices may only be contracted if one of them is an upper index and the other is a lower index. If an index is in the denominator of a derivative, then its role is reversed (upper $\\leftrightarrow$ lower). Thus the old (non-primed) and new (primed) indices can only be in places that allow properly contracting the Jacobian or inverse Jacobian with the tensor. For example, $\\alpha_ {1}$ is an upper index in $T$ and therefore must be contracted with a lower index. Thus, $\\partial x^{\\alpha_ {1}}$ must be in the denominator, to lower its index and allow it to be contracted with the tensor.\n",
    "\n",
    "As we saw above, OGRePy automatically knows how to raise or lower indices as needed using the appropriate metric. Similarly, any operation that requires transforming to another coordinate system will preform the transformation automatically behind the scenes. However, for this to happen, OGRePy needs to know the appropriate transformation rules. These are defined between the tensor objects representing the coordinates, which were created as `Coordinates` objects. The rules for transforming from a source coordinate system to a target coordinate system are stored within the tensor object representing the source. This is done using the method `set_coord_transformation()`. To illustrate, let us define transformations from `Cartesian` to `Spherical` and back:"
   ]
  },
  {
   "cell_type": "code",
   "execution_count": 53,
   "id": "573ab4be",
   "metadata": {
    "execution": {
     "iopub.execute_input": "2025-02-04T05:47:14.984570Z",
     "iopub.status.busy": "2025-02-04T05:47:14.984462Z",
     "iopub.status.idle": "2025-02-04T05:47:17.140584Z",
     "shell.execute_reply": "2025-02-04T05:47:17.140265Z"
    }
   },
   "outputs": [],
   "source": [
    "Cartesian.set_coord_transformation(\n",
    "    target=Spherical,\n",
    "    rules={\n",
    "        x: r * T.s.sin(theta) * T.s.cos(phi),\n",
    "        y: r * T.s.sin(theta) * T.s.sin(phi),\n",
    "        z: r * T.s.cos(theta),\n",
    "    },\n",
    ")\n",
    "\n",
    "Spherical.set_coord_transformation(\n",
    "    target=Cartesian,\n",
    "    rules={\n",
    "        r: T.s.sqrt(x**2 + y**2 + z**2),\n",
    "        theta: T.s.acos(z / T.s.sqrt(x**2 + y**2 + z**2)),\n",
    "        phi: T.s.atan2(y, x),\n",
    "    },\n",
    ")"
   ]
  },
  {
   "cell_type": "markdown",
   "id": "fc9cfb18",
   "metadata": {},
   "source": [
    "As you can see, the rules are supplied as a dictionary specifying the transformation from each source coordinate to the target coordinates. Note that we did not have to input a rule for `t`, since it stays the same in both cases; the transformation is in the spatial coordinates only.\n",
    "\n",
    "Now OGRePy knows how to convert back and forth between these two coordinate systems - and this will happen automatically whenever required. We just needed to provide these rules once and for all, and any tensor initially defined in one coordinate system can now be automatically converted to the other.\n",
    "\n",
    "As in the case of raising and lowering indices, displaying a tensor in a different coordinate system is a simple matter of calling the methods `show()` or `list()` with an additional argument specifying the coordinate system to use. For example, let us show the Minkowski metric in spherical coordinates:"
   ]
  },
  {
   "cell_type": "code",
   "execution_count": 54,
   "id": "b697c84b",
   "metadata": {
    "execution": {
     "iopub.execute_input": "2025-02-04T05:47:17.141950Z",
     "iopub.status.busy": "2025-02-04T05:47:17.141817Z",
     "iopub.status.idle": "2025-02-04T05:47:17.252713Z",
     "shell.execute_reply": "2025-02-04T05:47:17.252358Z"
    }
   },
   "outputs": [
    {
     "data": {
      "text/markdown": [
       "$$\\eta{}_{\\mu}{}_{\\nu}\\Bigg|_{\\left(t, r, \\theta, \\phi\\right)} = \\left(\\begin{matrix}-1 & 0 & 0 & 0\\\\0 & 1 & 0 & 0\\\\0 & 0 & r^{2} & 0\\\\0 & 0 & 0 & r^{2} \\sin^{2}{\\left(\\theta \\right)}\\end{matrix}\\right)$$"
      ],
      "text/plain": [
       "<IPython.core.display.Markdown object>"
      ]
     },
     "metadata": {},
     "output_type": "display_data"
    }
   ],
   "source": [
    "Minkowski.show(coords=Spherical)"
   ]
  },
  {
   "cell_type": "markdown",
   "id": "914a49c4",
   "metadata": {},
   "source": [
    "We can also ask to see a tensor in a specific index configuration **and** a specific coordinate system:"
   ]
  },
  {
   "cell_type": "code",
   "execution_count": 55,
   "id": "04723831",
   "metadata": {
    "execution": {
     "iopub.execute_input": "2025-02-04T05:47:17.254019Z",
     "iopub.status.busy": "2025-02-04T05:47:17.253880Z",
     "iopub.status.idle": "2025-02-04T05:47:17.372956Z",
     "shell.execute_reply": "2025-02-04T05:47:17.372532Z"
    }
   },
   "outputs": [
    {
     "data": {
      "text/markdown": [
       "$$T{}^{\\mu}{}^{\\nu}\\Bigg|_{\\left(t, r, \\theta, \\phi\\right)} = \\left(\\begin{matrix}\\rho & 0 & 0 & 0\\\\0 & p & 0 & 0\\\\0 & 0 & \\frac{p}{r^{2}} & 0\\\\0 & 0 & 0 & \\frac{p}{r^{2} \\sin^{2}{\\left(\\theta \\right)}}\\end{matrix}\\right)$$"
      ],
      "text/plain": [
       "<IPython.core.display.Markdown object>"
      ]
     },
     "metadata": {},
     "output_type": "display_data"
    }
   ],
   "source": [
    "PerfectFluid.show(coords=Spherical, indices=(1, 1))"
   ]
  },
  {
   "cell_type": "markdown",
   "id": "e181c3c1",
   "metadata": {},
   "source": [
    "The method `list()` works in exactly the same way, for example:"
   ]
  },
  {
   "cell_type": "code",
   "execution_count": 56,
   "id": "c216731b",
   "metadata": {
    "execution": {
     "iopub.execute_input": "2025-02-04T05:47:17.374144Z",
     "iopub.status.busy": "2025-02-04T05:47:17.373995Z",
     "iopub.status.idle": "2025-02-04T05:47:17.388507Z",
     "shell.execute_reply": "2025-02-04T05:47:17.388135Z"
    }
   },
   "outputs": [
    {
     "data": {
      "text/markdown": [
       "$$\\begin{align*}\n",
       "    K &= \\frac{48 M^{2}}{\\left(x^{2} + y^{2} + z^{2}\\right)^{3}} \n",
       "\\end{align*}$$"
      ],
      "text/plain": [
       "<IPython.core.display.Markdown object>"
      ]
     },
     "metadata": {},
     "output_type": "display_data"
    }
   ],
   "source": [
    "SchwarzschildKretschmann.list(coords=Cartesian)"
   ]
  },
  {
   "cell_type": "markdown",
   "id": "2972bca6",
   "metadata": {},
   "source": [
    "Just as with default indices, every tensor has a default coordinate system, which is, initially, the one we used to create it. We can change it by setting the property `default_coords`, and then whenever we display the tensor, it will be displayed in that coordinate system if no other coordinate system is specified. For example, let's change the default coordinates of the perfect fluid stress tensor to spherical coordinates:"
   ]
  },
  {
   "cell_type": "code",
   "execution_count": 57,
   "id": "8677fa6e",
   "metadata": {
    "execution": {
     "iopub.execute_input": "2025-02-04T05:47:17.389758Z",
     "iopub.status.busy": "2025-02-04T05:47:17.389601Z",
     "iopub.status.idle": "2025-02-04T05:47:17.491461Z",
     "shell.execute_reply": "2025-02-04T05:47:17.491174Z"
    }
   },
   "outputs": [],
   "source": [
    "PerfectFluid.default_coords = Spherical"
   ]
  },
  {
   "cell_type": "markdown",
   "id": "4a7fbe13",
   "metadata": {},
   "source": [
    "Now, when we display the tensor using `show()` or `list()` without any arguments (or with just a choice of indices), this is the coordinate system that will be used:"
   ]
  },
  {
   "cell_type": "code",
   "execution_count": 58,
   "id": "36141d6c",
   "metadata": {
    "execution": {
     "iopub.execute_input": "2025-02-04T05:47:17.492799Z",
     "iopub.status.busy": "2025-02-04T05:47:17.492674Z",
     "iopub.status.idle": "2025-02-04T05:47:17.496547Z",
     "shell.execute_reply": "2025-02-04T05:47:17.496257Z"
    }
   },
   "outputs": [
    {
     "data": {
      "text/markdown": [
       "$$\\begin{align*}\n",
       "    T{}_{t}{}_{t} &= \\rho \\\\\n",
       "    T{}_{r}{}_{r} &= p \\\\\n",
       "    T{}_{\\theta}{}_{\\theta} &= p r^{2} \\\\\n",
       "    T{}_{\\phi}{}_{\\phi} &= p r^{2} \\sin^{2}{\\left(\\theta \\right)} \n",
       "\\end{align*}$$"
      ],
      "text/plain": [
       "<IPython.core.display.Markdown object>"
      ]
     },
     "metadata": {},
     "output_type": "display_data"
    }
   ],
   "source": [
    "~PerfectFluid"
   ]
  },
  {
   "cell_type": "markdown",
   "id": "8069e9e4",
   "metadata": {},
   "source": [
    "Note that the coordinate transformation we defined is only invertible for $r \\ge 0$. However, since we defined the coordinate $r$ above as a non-negative symbol, this is already taken care of by SymPy behind the scenes. To illustrate this, let us define a new scalar in Minkowski space, which is equal to the spatial distance from the origin:"
   ]
  },
  {
   "cell_type": "code",
   "execution_count": 59,
   "id": "611bf38e",
   "metadata": {
    "execution": {
     "iopub.execute_input": "2025-02-04T05:47:17.497522Z",
     "iopub.status.busy": "2025-02-04T05:47:17.497395Z",
     "iopub.status.idle": "2025-02-04T05:47:17.500276Z",
     "shell.execute_reply": "2025-02-04T05:47:17.500043Z"
    }
   },
   "outputs": [
    {
     "data": {
      "text/markdown": [
       "$$d\\Bigg|_{\\left(t, x, y, z\\right)} = \\sqrt{x^{2} + y^{2} + z^{2}}$$"
      ],
      "text/plain": [
       "<OGRePy._core.Tensor at 0x1d2e6b2cb30>"
      ]
     },
     "execution_count": 59,
     "metadata": {},
     "output_type": "execute_result"
    }
   ],
   "source": [
    "SpatialDistance = T.Tensor(\n",
    "    metric=Minkowski,\n",
    "    coords=Cartesian,\n",
    "    indices=(),\n",
    "    components=[T.s.sqrt(x**2 + y**2 + z**2)],\n",
    "    symbol=\"d\",\n",
    ")"
   ]
  },
  {
   "cell_type": "markdown",
   "id": "a0a986b8",
   "metadata": {},
   "source": [
    "When we convert this scalar to spherical coordinates, we get $r$, as expected:"
   ]
  },
  {
   "cell_type": "code",
   "execution_count": 60,
   "id": "86f56e83",
   "metadata": {
    "execution": {
     "iopub.execute_input": "2025-02-04T05:47:17.501285Z",
     "iopub.status.busy": "2025-02-04T05:47:17.501177Z",
     "iopub.status.idle": "2025-02-04T05:47:17.527103Z",
     "shell.execute_reply": "2025-02-04T05:47:17.526852Z"
    }
   },
   "outputs": [
    {
     "data": {
      "text/markdown": [
       "$$d\\Bigg|_{\\left(t, r, \\theta, \\phi\\right)} = r$$"
      ],
      "text/plain": [
       "<IPython.core.display.Markdown object>"
      ]
     },
     "metadata": {},
     "output_type": "display_data"
    }
   ],
   "source": [
    "SpatialDistance.show(coords=Spherical)"
   ]
  },
  {
   "cell_type": "markdown",
   "id": "ecd97d77",
   "metadata": {},
   "source": [
    "However, if we did not define $r$ as a non-negative symbol, we would have obtained $|r|$ instead.\n",
    "\n",
    "### Replacing symbols in the tensor components\n",
    "\n",
    "By using the `replace` argument of `list()` and `show()`, we can replace symbols in the tensor components with other symbols or numerical values. The replacement must be in the form of a dictionary, where each key in the dictionary will be replaced with its value. Each of the keys and the values of the dictionary can be either a SymPy `Symbol` object or a SymPy `Expr` object. The components will then be simplified, and the tensor will be displayed with the new components. Note that this only applies to **displaying** the components; the tensor data itself will not change.\n",
    "\n",
    "For example, perhaps we would like to display the value of the Kretschmann scalar for a particular choice of $M$ and $r$:"
   ]
  },
  {
   "cell_type": "code",
   "execution_count": 61,
   "id": "23b8400c",
   "metadata": {
    "execution": {
     "iopub.execute_input": "2025-02-04T05:47:17.528264Z",
     "iopub.status.busy": "2025-02-04T05:47:17.528151Z",
     "iopub.status.idle": "2025-02-04T05:47:17.531070Z",
     "shell.execute_reply": "2025-02-04T05:47:17.530836Z"
    }
   },
   "outputs": [
    {
     "data": {
      "text/markdown": [
       "$$K\\Bigg|_{\\left(t, r, \\theta, \\phi\\right)} = \\frac{3}{62500}$$"
      ],
      "text/plain": [
       "<IPython.core.display.Markdown object>"
      ]
     },
     "metadata": {},
     "output_type": "display_data"
    }
   ],
   "source": [
    "SchwarzschildKretschmann.show(replace={M: 1, r: 10})"
   ]
  },
  {
   "cell_type": "markdown",
   "id": "39e70abe",
   "metadata": {},
   "source": [
    "Or maybe we would like to display the perfect fluid stress tensor with $p$ equal to $\\rho$:"
   ]
  },
  {
   "cell_type": "code",
   "execution_count": 62,
   "id": "93c8a67a",
   "metadata": {
    "execution": {
     "iopub.execute_input": "2025-02-04T05:47:17.532136Z",
     "iopub.status.busy": "2025-02-04T05:47:17.532021Z",
     "iopub.status.idle": "2025-02-04T05:47:17.534939Z",
     "shell.execute_reply": "2025-02-04T05:47:17.534705Z"
    }
   },
   "outputs": [
    {
     "data": {
      "text/markdown": [
       "$$\\begin{align*}\n",
       "    T{}_{t}{}_{t} = T{}_{r}{}_{r} &= \\rho \\\\\n",
       "    T{}_{\\theta}{}_{\\theta} &= \\rho r^{2} \\\\\n",
       "    T{}_{\\phi}{}_{\\phi} &= \\rho r^{2} \\sin^{2}{\\left(\\theta \\right)} \n",
       "\\end{align*}$$"
      ],
      "text/plain": [
       "<IPython.core.display.Markdown object>"
      ]
     },
     "metadata": {},
     "output_type": "display_data"
    }
   ],
   "source": [
    "PerfectFluid.list(replace={p: rho})"
   ]
  },
  {
   "cell_type": "markdown",
   "id": "b8ec53c2",
   "metadata": {},
   "source": [
    "The replacement can, of course, also be combined with a choice of indices and/or coordinates:"
   ]
  },
  {
   "cell_type": "code",
   "execution_count": 63,
   "id": "2bc470e3",
   "metadata": {
    "execution": {
     "iopub.execute_input": "2025-02-04T05:47:17.535846Z",
     "iopub.status.busy": "2025-02-04T05:47:17.535734Z",
     "iopub.status.idle": "2025-02-04T05:47:17.538388Z",
     "shell.execute_reply": "2025-02-04T05:47:17.538119Z"
    }
   },
   "outputs": [
    {
     "data": {
      "text/markdown": [
       "$$\\begin{align*}\n",
       "    T{}^{t}{}^{t} = T{}^{x}{}^{x} = T{}^{y}{}^{y} = T{}^{z}{}^{z} &= \\rho \n",
       "\\end{align*}$$"
      ],
      "text/plain": [
       "<IPython.core.display.Markdown object>"
      ]
     },
     "metadata": {},
     "output_type": "display_data"
    }
   ],
   "source": [
    "PerfectFluid.list(coords=Cartesian, indices=(1, 1), replace={p: rho})"
   ]
  },
  {
   "cell_type": "markdown",
   "id": "a0d0205e",
   "metadata": {},
   "source": [
    "Another, more advanced, thing we can do with `list()` and `show()` is to pass a function to be executed on each tensor component before printing it. We will see an example below, in the \"Geodesic equations from the Lagrangian\" section.\n",
    "\n",
    "### Customizing the simplification function\n",
    "\n",
    "Whenever OGRePy performs an operation that creates or modifies tensor components, such as converting between index representations or coordinate systems, it automatically simplifies the result using SymPy's `simplify()`. However, advanced users may want to have more control over this simplification process. This can be done using by setting `T.options.simplify_func` to a function of your choice.\n",
    "\n",
    "For example, you may want to customize the arguments passed to simplify (such as `ratio` or `inverse`, see [here](https://docs.sympy.org/latest/modules/simplify/simplify.html) for more information), or you may want to use specific SymPy simplification functions such as `powsimp()` or `logcombine()` in a specific combination, or even `refine()` with specific assumptions.\n",
    "\n",
    "In extreme situations, you may even want to cancel simplification altogether, if it is taking too long, which can be achieved using `T.options.simplify_func = lambda x: x` - that is, replacing the simplification function with the identity function.\n",
    "\n",
    "As usual with the `options` object, you may restore the simplification function to the default, SymPy's `simplify()`, with the command `del T.options.simplify_func`.\n",
    "\n",
    "Note that changing the simplification function will **not** automatically apply it to any existing tensors. The reason is that when OGRePy calculates the components of a tensor in a particular representation, it calculates them **once and for all**, and then saves them in the object's data to be reused later. This is done to improve performance, so that the components don't have to be recalculated every time they are needed.\n",
    "\n",
    "We can force re-simplification of the stored components of a specific tensor using the method `simplify()`. This will return a new tensor with its components simplified; the original tensor will remain unchanged. However, you can write `MyTensor = MyTensor.simplify()` to store the simplified tensor under the same name.\n",
    "\n",
    "### Getting information about tensors\n",
    "The `info()` method can be used to display the information encoded in a tensor object in human-readable form. Here is an example:"
   ]
  },
  {
   "cell_type": "code",
   "execution_count": 64,
   "id": "568779e0",
   "metadata": {
    "execution": {
     "iopub.execute_input": "2025-02-04T05:47:17.539394Z",
     "iopub.status.busy": "2025-02-04T05:47:17.539282Z",
     "iopub.status.idle": "2025-02-04T05:47:17.541224Z",
     "shell.execute_reply": "2025-02-04T05:47:17.540975Z"
    }
   },
   "outputs": [
    {
     "data": {
      "text/markdown": [
       "* **Name**: `Minkowski`\n",
       "* **Class**: `Metric`\n",
       "* **Symbol**: $\\eta{}_{\\mu}{}_{\\nu}$\n",
       "* **Rank**: 2\n",
       "* **Dimensions**: 4\n",
       "* **Default Coordinates**: `Cartesian`\n",
       "* **Default Indices**: (-1, -1)\n",
       "* **Associated Metric For**: `FourVelocity`, `PerfectFluid`, `SpatialDistance`\n"
      ],
      "text/plain": [
       "<IPython.core.display.Markdown object>"
      ]
     },
     "metadata": {},
     "output_type": "display_data"
    }
   ],
   "source": [
    "Minkowski.info()"
   ]
  },
  {
   "cell_type": "markdown",
   "id": "37379997",
   "metadata": {},
   "source": [
    "As for `show()` and `list()`, OGRePy defines a convenient shortcut for calling `info()`: use the `+` (unary plus) operator in front of the tensor. For example:"
   ]
  },
  {
   "cell_type": "code",
   "execution_count": 65,
   "id": "26d5fb17",
   "metadata": {
    "execution": {
     "iopub.execute_input": "2025-02-04T05:47:17.542131Z",
     "iopub.status.busy": "2025-02-04T05:47:17.542030Z",
     "iopub.status.idle": "2025-02-04T05:47:17.543905Z",
     "shell.execute_reply": "2025-02-04T05:47:17.543655Z"
    }
   },
   "outputs": [
    {
     "data": {
      "text/markdown": [
       "* **Name**: `PerfectFluid`\n",
       "* **Class**: `Tensor`\n",
       "* **Symbol**: $T{}_{\\mu}{}_{\\nu}$\n",
       "* **Rank**: 2\n",
       "* **Dimensions**: 4\n",
       "* **Default Coordinates**: `Spherical`\n",
       "* **Default Indices**: (-1, -1)\n",
       "* **Metric**: `Minkowski`\n"
      ],
      "text/plain": [
       "<IPython.core.display.Markdown object>"
      ]
     },
     "metadata": {},
     "output_type": "display_data"
    }
   ],
   "source": [
    "+PerfectFluid"
   ]
  },
  {
   "cell_type": "markdown",
   "id": "ccc7810d",
   "metadata": {},
   "source": [
    "A `Coordinates` object also has an `info()` method, and it can be used to check which tensors use this coordinate system as their default:"
   ]
  },
  {
   "cell_type": "code",
   "execution_count": 66,
   "id": "419b3f4f",
   "metadata": {
    "execution": {
     "iopub.execute_input": "2025-02-04T05:47:17.544853Z",
     "iopub.status.busy": "2025-02-04T05:47:17.544736Z",
     "iopub.status.idle": "2025-02-04T05:47:17.547019Z",
     "shell.execute_reply": "2025-02-04T05:47:17.546615Z"
    }
   },
   "outputs": [
    {
     "data": {
      "text/markdown": [
       "* **Name**: `Cartesian`\n",
       "* **Class**: Coordinates\n",
       "* **Dimensions**: 4\n",
       "* **Default Coordinates For**: `Minkowski`, `Alcubierre`, `FourVelocity`, `SpatialDistance`\n"
      ],
      "text/plain": [
       "<IPython.core.display.Markdown object>"
      ]
     },
     "metadata": {},
     "output_type": "display_data"
    }
   ],
   "source": [
    "+Cartesian"
   ]
  },
  {
   "cell_type": "markdown",
   "id": "20f478f9",
   "metadata": {},
   "source": [
    "It is also possible to get each of these properties of the tensor individually, using the properties `symbol`, `default_indices`, and `default_coords` and the methods `rank()`, `dim()`, and `metric()`. Note that the symbol, default indices, and default coordinates are properties that can be changed, but `rank()`, `dim()`, and `metric()` are read-only properties obtained using methods, as it doesn't make sense to change these properties. Here are some examples of using these properties and methods. The symbol is a bit cryptic:"
   ]
  },
  {
   "cell_type": "code",
   "execution_count": 67,
   "id": "993ce96f",
   "metadata": {
    "execution": {
     "iopub.execute_input": "2025-02-04T05:47:17.548083Z",
     "iopub.status.busy": "2025-02-04T05:47:17.547915Z",
     "iopub.status.idle": "2025-02-04T05:47:17.550108Z",
     "shell.execute_reply": "2025-02-04T05:47:17.549816Z"
    }
   },
   "outputs": [
    {
     "data": {
      "text/plain": [
       "'T[0][1]'"
      ]
     },
     "execution_count": 67,
     "metadata": {},
     "output_type": "execute_result"
    }
   ],
   "source": [
    "PerfectFluid.symbol"
   ]
  },
  {
   "cell_type": "markdown",
   "id": "f911153e",
   "metadata": {},
   "source": [
    "The purpose of the `[0][1]` is to serve as a placeholders for indices, since the actual letters that will be used as the indices can be different each time. (These placeholders are added automatically when we create the tensor, there is no need to specify them manually, although you can if you want.) To get the symbol as a TeX string, we can use the `tex_symbol()` method, and pass its output to the IPython `Math()` function to display it in the notebook:"
   ]
  },
  {
   "cell_type": "code",
   "execution_count": 68,
   "id": "ceabe3d8",
   "metadata": {
    "execution": {
     "iopub.execute_input": "2025-02-04T05:47:17.551035Z",
     "iopub.status.busy": "2025-02-04T05:47:17.550908Z",
     "iopub.status.idle": "2025-02-04T05:47:17.553975Z",
     "shell.execute_reply": "2025-02-04T05:47:17.553485Z"
    }
   },
   "outputs": [
    {
     "data": {
      "text/latex": [
       "$\\displaystyle T{}_{\\mu}{}_{\\nu}$"
      ],
      "text/plain": [
       "<IPython.core.display.Math object>"
      ]
     },
     "execution_count": 68,
     "metadata": {},
     "output_type": "execute_result"
    }
   ],
   "source": [
    "Math(PerfectFluid.tex_symbol())"
   ]
  },
  {
   "cell_type": "markdown",
   "id": "aedc0a85",
   "metadata": {},
   "source": [
    "Similarly, we can use the `default_indices` and `default_coords` properties to obtain the default indices and coordinates:"
   ]
  },
  {
   "cell_type": "code",
   "execution_count": 69,
   "id": "7a8184ef",
   "metadata": {
    "execution": {
     "iopub.execute_input": "2025-02-04T05:47:17.554985Z",
     "iopub.status.busy": "2025-02-04T05:47:17.554875Z",
     "iopub.status.idle": "2025-02-04T05:47:17.557132Z",
     "shell.execute_reply": "2025-02-04T05:47:17.556837Z"
    }
   },
   "outputs": [
    {
     "data": {
      "text/plain": [
       "(-1, -1)"
      ]
     },
     "execution_count": 69,
     "metadata": {},
     "output_type": "execute_result"
    }
   ],
   "source": [
    "PerfectFluid.default_indices"
   ]
  },
  {
   "cell_type": "code",
   "execution_count": 70,
   "id": "38a4f63c",
   "metadata": {
    "execution": {
     "iopub.execute_input": "2025-02-04T05:47:17.558121Z",
     "iopub.status.busy": "2025-02-04T05:47:17.558022Z",
     "iopub.status.idle": "2025-02-04T05:47:17.560058Z",
     "shell.execute_reply": "2025-02-04T05:47:17.559816Z"
    }
   },
   "outputs": [
    {
     "data": {
      "text/markdown": [
       "$$\\left(\\begin{matrix}t & r & \\theta & \\phi\\end{matrix}\\right)$$"
      ],
      "text/plain": [
       "<OGRePy._core.Coordinates at 0x1d2e4da0db0>"
      ]
     },
     "execution_count": 70,
     "metadata": {},
     "output_type": "execute_result"
    }
   ],
   "source": [
    "PerfectFluid.default_coords"
   ]
  },
  {
   "cell_type": "markdown",
   "id": "19af0230",
   "metadata": {},
   "source": [
    "And we can use the `metric()` method to obtain the associated metric:"
   ]
  },
  {
   "cell_type": "code",
   "execution_count": 71,
   "id": "158718ea",
   "metadata": {
    "execution": {
     "iopub.execute_input": "2025-02-04T05:47:17.561010Z",
     "iopub.status.busy": "2025-02-04T05:47:17.560881Z",
     "iopub.status.idle": "2025-02-04T05:47:17.563238Z",
     "shell.execute_reply": "2025-02-04T05:47:17.562971Z"
    }
   },
   "outputs": [
    {
     "data": {
      "text/markdown": [
       "$$\\eta{}_{\\mu}{}_{\\nu}\\Bigg|_{\\left(t, x, y, z\\right)} = \\left(\\begin{matrix}-1 & 0 & 0 & 0\\\\0 & 1 & 0 & 0\\\\0 & 0 & 1 & 0\\\\0 & 0 & 0 & 1\\end{matrix}\\right)$$"
      ],
      "text/plain": [
       "<OGRePy._core.Metric at 0x1d2e3f00730>"
      ]
     },
     "execution_count": 71,
     "metadata": {},
     "output_type": "execute_result"
    }
   ],
   "source": [
    "PerfectFluid.metric()"
   ]
  },
  {
   "cell_type": "markdown",
   "id": "b2d5f08b",
   "metadata": {},
   "source": [
    "In the last two examples, `default_coords` and `metric()`, notice that the output directly shows the tensors used as the default coordinates and associated metric respectively. This is because `default_coords` and `metric()` return a **reference** to the relevant `Coordinates` or `Metric` object respectively, and that object then gets displayed in the notebook using the `show()` method, as it is the output of the cell.\n",
    "\n",
    "However, since we are working inside a notebook, it would be helpful to know the name of the notebook variable referring to this `Coordinates` or `Metric` object. It turns out that is not at all straightforward to obtain this information in Python, since an object reference might not even be associated to any specific variable, or it may be associated to more than one variable. Luckily, OGRePy comes with a special algorithm to figure out which notebook variables refer to which objects. We already saw that algorithm in action when we used the `info()` method above. However, we can also obtain the name of the variable by simply converting the object to a string using the `str` constructor. This works on both `Coordinate` and `Metric` objects:"
   ]
  },
  {
   "cell_type": "code",
   "execution_count": 72,
   "id": "e6c1b4cf",
   "metadata": {
    "execution": {
     "iopub.execute_input": "2025-02-04T05:47:17.564309Z",
     "iopub.status.busy": "2025-02-04T05:47:17.564120Z",
     "iopub.status.idle": "2025-02-04T05:47:17.566272Z",
     "shell.execute_reply": "2025-02-04T05:47:17.565996Z"
    }
   },
   "outputs": [
    {
     "data": {
      "text/plain": [
       "'Spherical'"
      ]
     },
     "execution_count": 72,
     "metadata": {},
     "output_type": "execute_result"
    }
   ],
   "source": [
    "str(PerfectFluid.default_coords)"
   ]
  },
  {
   "cell_type": "code",
   "execution_count": 73,
   "id": "8fe2f1c2",
   "metadata": {
    "execution": {
     "iopub.execute_input": "2025-02-04T05:47:17.567375Z",
     "iopub.status.busy": "2025-02-04T05:47:17.567161Z",
     "iopub.status.idle": "2025-02-04T05:47:17.569517Z",
     "shell.execute_reply": "2025-02-04T05:47:17.569255Z"
    }
   },
   "outputs": [
    {
     "data": {
      "text/plain": [
       "'Minkowski'"
      ]
     },
     "execution_count": 73,
     "metadata": {},
     "output_type": "execute_result"
    }
   ],
   "source": [
    "str(PerfectFluid.metric())"
   ]
  },
  {
   "cell_type": "markdown",
   "id": "e22c62d9",
   "metadata": {},
   "source": [
    "That same algorithm powers the module function `info()`, which lists all the tensors created so far, including the names of the variables used to define these tensors. Here are all the tensors we defined so far in this notebook:"
   ]
  },
  {
   "cell_type": "code",
   "execution_count": 74,
   "id": "fbc1f2d3",
   "metadata": {
    "execution": {
     "iopub.execute_input": "2025-02-04T05:47:17.570637Z",
     "iopub.status.busy": "2025-02-04T05:47:17.570523Z",
     "iopub.status.idle": "2025-02-04T05:47:17.574895Z",
     "shell.execute_reply": "2025-02-04T05:47:17.574498Z"
    }
   },
   "outputs": [
    {
     "data": {
      "text/markdown": [
       "9 tensor objects created: 2 coordinates, 3 metrics, 4 tensors.\n",
       "\n",
       "Coordinate systems:\n",
       "1. `Cartesian` (id: `0x1d2e4930630`), default for: ``Minkowski``, ``Alcubierre``, ``FourVelocity``, ``SpatialDistance``\n",
       "2. `Spherical` (id: `0x1d2e4da0db0`), default for: ``Schwarzschild``, ``SchwarzschildKretschmann``, ``PerfectFluid``\n",
       "\n",
       "Metrics and associated tensors:\n",
       "1. `Minkowski` (symbol: $\\eta{}_{\\mu}{}_{\\nu}$) (id: `0x1d2e3f00730`), used by: ``FourVelocity``, ``PerfectFluid``, ``SpatialDistance``\n",
       "2. `Schwarzschild` (symbol: $g{}_{\\mu}{}_{\\nu}$) (id: `0x1d2e62f73e0`), used by: ``SchwarzschildKretschmann``\n",
       "3. `Alcubierre` (symbol: $g{}_{\\mu}{}_{\\nu}$) (id: `0x1d2e62f7490`)\n",
       "\n",
       "Tensors:\n",
       "1. `SchwarzschildKretschmann` (symbol: $K$) (id: `0x1d2e681eb10`)\n",
       "2. `FourVelocity` (symbol: $u{}^{\\mu}$) (id: `0x1d2e67dba60`)\n",
       "3. `PerfectFluid` (symbol: $T{}_{\\mu}{}_{\\nu}$) (id: `0x1d2e6845f80`)\n",
       "4. `SpatialDistance` (symbol: $d$) (id: `0x1d2e6b2cb30`)\n"
      ],
      "text/plain": [
       "<IPython.core.display.Markdown object>"
      ]
     },
     "metadata": {},
     "output_type": "display_data"
    }
   ],
   "source": [
    "T.info()"
   ]
  },
  {
   "cell_type": "markdown",
   "id": "4f2e2ee3",
   "metadata": {},
   "source": [
    "We see that we created 9 tensors in total so far: 2 coordinate systems, 3 metrics, 3 tensors associated with the Minkowski metric, and 1 tensor associated with the Schwarzschild metric.\n",
    "\n",
    "### Getting the components of a tensor\n",
    "\n",
    "Sometimes you may want to extract the components of a tensor in a specific representation as a list, so you can use them outside of this package, as regular SymPy expressions rather than tensor objects. This is done using the `components()` method. For example, we can retrieve the components of the inverse Schwarzschild metric (with two upper indices):"
   ]
  },
  {
   "cell_type": "code",
   "execution_count": 75,
   "id": "dda46409",
   "metadata": {
    "execution": {
     "iopub.execute_input": "2025-02-04T05:47:17.576022Z",
     "iopub.status.busy": "2025-02-04T05:47:17.575912Z",
     "iopub.status.idle": "2025-02-04T05:47:17.579529Z",
     "shell.execute_reply": "2025-02-04T05:47:17.579215Z"
    }
   },
   "outputs": [
    {
     "data": {
      "text/latex": [
       "$\\displaystyle \\left[\\begin{matrix}- \\frac{r}{- 2 M + r} & 0 & 0 & 0\\\\0 & \\frac{- 2 M + r}{r} & 0 & 0\\\\0 & 0 & \\frac{1}{r^{2}} & 0\\\\0 & 0 & 0 & \\frac{1}{r^{2} \\sin^{2}{\\left(\\theta \\right)}}\\end{matrix}\\right]$"
      ],
      "text/plain": [
       "[[-r/(-2*M + r), 0, 0, 0], [0, (-2*M + r)/r, 0, 0], [0, 0, r**(-2), 0], [0, 0, 0, 1/(r**2*sin(\\theta)**2)]]"
      ]
     },
     "execution_count": 75,
     "metadata": {},
     "output_type": "execute_result"
    }
   ],
   "source": [
    "InverseSchwarzschild = Schwarzschild.components(coords=Spherical, indices=(1, 1))"
   ]
  },
  {
   "cell_type": "markdown",
   "id": "d0f0d02b",
   "metadata": {},
   "source": [
    "We can now treat `InverseSchwarzschild` as any other SymPy `Array` - for example, extract the element at a particular position:"
   ]
  },
  {
   "cell_type": "code",
   "execution_count": 76,
   "id": "6d5ad47f",
   "metadata": {
    "execution": {
     "iopub.execute_input": "2025-02-04T05:47:17.580479Z",
     "iopub.status.busy": "2025-02-04T05:47:17.580363Z",
     "iopub.status.idle": "2025-02-04T05:47:17.583107Z",
     "shell.execute_reply": "2025-02-04T05:47:17.582866Z"
    }
   },
   "outputs": [
    {
     "data": {
      "text/latex": [
       "$\\displaystyle - \\frac{r}{- 2 M + r}$"
      ],
      "text/plain": [
       "-r/(-2*M + r)"
      ]
     },
     "execution_count": 76,
     "metadata": {},
     "output_type": "execute_result"
    }
   ],
   "source": [
    "InverseSchwarzschild[0, 0]"
   ]
  },
  {
   "cell_type": "markdown",
   "id": "916dd51e",
   "metadata": {},
   "source": [
    "If the desired index configuration and/or coordinate system are not specified, the default ones will be used. However, it is important to always know exactly which representation the components are in, to avoid confusion. Thus, you will be notified which representation was used:"
   ]
  },
  {
   "cell_type": "code",
   "execution_count": 77,
   "id": "cc99a7bb",
   "metadata": {
    "execution": {
     "iopub.execute_input": "2025-02-04T05:47:17.584022Z",
     "iopub.status.busy": "2025-02-04T05:47:17.583910Z",
     "iopub.status.idle": "2025-02-04T05:47:17.587842Z",
     "shell.execute_reply": "2025-02-04T05:47:17.587512Z"
    }
   },
   "outputs": [
    {
     "data": {
      "text/markdown": [
       "**OGRePy**: Using default coordinate system `Spherical` and default index configuration (-1, -1)."
      ],
      "text/plain": [
       "<IPython.core.display.Markdown object>"
      ]
     },
     "metadata": {},
     "output_type": "display_data"
    },
    {
     "data": {
      "text/latex": [
       "$\\displaystyle \\left[\\begin{matrix}\\frac{2 M}{r} - 1 & 0 & 0 & 0\\\\0 & \\frac{1}{- \\frac{2 M}{r} + 1} & 0 & 0\\\\0 & 0 & r^{2} & 0\\\\0 & 0 & 0 & r^{2} \\sin^{2}{\\left(\\theta \\right)}\\end{matrix}\\right]$"
      ],
      "text/plain": [
       "[[2*M/r - 1, 0, 0, 0], [0, 1/(-2*M/r + 1), 0, 0], [0, 0, r**2, 0], [0, 0, 0, r**2*sin(\\theta)**2]]"
      ]
     },
     "execution_count": 77,
     "metadata": {},
     "output_type": "execute_result"
    }
   ],
   "source": [
    "Schwarzschild.components()"
   ]
  },
  {
   "cell_type": "markdown",
   "id": "5e77933d",
   "metadata": {},
   "source": [
    "This warning can be disabled by adding the argument `warn=False`.\n",
    "\n",
    "Since `components()` returns a SymPy `Array`, we can use the `subs()` method to perform replacements, just like the `replace` argument of `show()` and `list()` (see above). For example, here are the components of the Schwarzschild metric on the hypersurface with $\\theta = \\pi/2$:"
   ]
  },
  {
   "cell_type": "code",
   "execution_count": 78,
   "id": "3ea2e1fa",
   "metadata": {
    "execution": {
     "iopub.execute_input": "2025-02-04T05:47:17.588816Z",
     "iopub.status.busy": "2025-02-04T05:47:17.588690Z",
     "iopub.status.idle": "2025-02-04T05:47:17.593024Z",
     "shell.execute_reply": "2025-02-04T05:47:17.592770Z"
    }
   },
   "outputs": [
    {
     "data": {
      "text/markdown": [
       "**OGRePy**: Using default coordinate system `Spherical` and default index configuration (-1, -1)."
      ],
      "text/plain": [
       "<IPython.core.display.Markdown object>"
      ]
     },
     "metadata": {},
     "output_type": "display_data"
    },
    {
     "data": {
      "text/latex": [
       "$\\displaystyle \\left[\\begin{matrix}\\frac{2 M}{r} - 1 & 0 & 0 & 0\\\\0 & \\frac{1}{- \\frac{2 M}{r} + 1} & 0 & 0\\\\0 & 0 & r^{2} & 0\\\\0 & 0 & 0 & r^{2}\\end{matrix}\\right]$"
      ],
      "text/plain": [
       "[[2*M/r - 1, 0, 0, 0], [0, 1/(-2*M/r + 1), 0, 0], [0, 0, r**2, 0], [0, 0, 0, r**2]]"
      ]
     },
     "execution_count": 78,
     "metadata": {},
     "output_type": "execute_result"
    }
   ],
   "source": [
    "Schwarzschild.components().subs({theta: T.s.pi / 2})"
   ]
  },
  {
   "cell_type": "markdown",
   "id": "67853b5f",
   "metadata": {},
   "source": [
    "In the case of a coordinate system, that is, a `Coordinates` object, `components()` takes no arguments, since a coordinate system cannot have multiple representations:"
   ]
  },
  {
   "cell_type": "code",
   "execution_count": 79,
   "id": "e25ba835",
   "metadata": {
    "execution": {
     "iopub.execute_input": "2025-02-04T05:47:17.594038Z",
     "iopub.status.busy": "2025-02-04T05:47:17.593920Z",
     "iopub.status.idle": "2025-02-04T05:47:17.596138Z",
     "shell.execute_reply": "2025-02-04T05:47:17.595894Z"
    }
   },
   "outputs": [
    {
     "data": {
      "text/latex": [
       "$\\displaystyle \\left[\\begin{matrix}t & r & \\theta & \\phi\\end{matrix}\\right]$"
      ],
      "text/plain": [
       "[t, r, \\theta, \\phi]"
      ]
     },
     "execution_count": 79,
     "metadata": {},
     "output_type": "execute_result"
    }
   ],
   "source": [
    "Spherical.components()"
   ]
  },
  {
   "cell_type": "markdown",
   "id": "733552f7",
   "metadata": {},
   "source": [
    "### Comparing tensors\n",
    "\n",
    "`Tensor` objects can be compared using the function `T.compare()`. Two tensors are considered equal if:\n",
    "\n",
    "1. Their components are the same, and\n",
    "2. They are associated with the same metric.\n",
    "\n",
    "Internally, the comparison is only done in a single representation (if not specified, the default representation of the first tensor will be used), because if the two tensors have the same metric then it is guaranteed that if they are equal in one representation, they will be equal in all representations.\n",
    "\n",
    "Conversely, tensors with different metrics are always considered not equal, since even if they happen to have the same components in one representation, they will necessarily have different components in another representation. (Also, if two tensors have different metrics then they exist on different manifolds, and therefore cannot be compared.)\n",
    "\n",
    "As an example, let us create copies of the Minkowski metric and the perfect fluid tensor, and then compare the latter with the original perfect fluid tensor:"
   ]
  },
  {
   "cell_type": "code",
   "execution_count": 80,
   "id": "559927cd",
   "metadata": {
    "execution": {
     "iopub.execute_input": "2025-02-04T05:47:17.597077Z",
     "iopub.status.busy": "2025-02-04T05:47:17.596960Z",
     "iopub.status.idle": "2025-02-04T05:47:17.805312Z",
     "shell.execute_reply": "2025-02-04T05:47:17.805029Z"
    }
   },
   "outputs": [
    {
     "data": {
      "text/plain": [
       "True"
      ]
     },
     "execution_count": 80,
     "metadata": {},
     "output_type": "execute_result"
    }
   ],
   "source": [
    "Minkowski2 = T.Metric(\n",
    "    coords=Cartesian,\n",
    "    components=T.diag(-1, 1, 1, 1),\n",
    "    symbol=\"eta\",\n",
    ")\n",
    "\n",
    "PerfectFluid2 = T.Tensor(\n",
    "    metric=Minkowski2,\n",
    "    coords=Cartesian,\n",
    "    indices=(1, 1),\n",
    "    components=T.diag(rho, p, p, p),\n",
    "    symbol=\"T\",\n",
    ")\n",
    "\n",
    "T.compare(PerfectFluid, PerfectFluid2)"
   ]
  },
  {
   "cell_type": "markdown",
   "id": "4c02a3be",
   "metadata": {},
   "source": [
    "We see that the tensors `PerfectFluid` and `PerfectFluid2` are considered equal, because they have the same components, and their metrics have the same components (and are thus considered equal as well).\n",
    "\n",
    "It is important to know the difference between the `T.compare()` function, which compares the components of different tensor objects, and the `==` or `is` operators, which for `Tensor` objects merely check if two variables point to the same object. Even though `T.compare(PerfectFluid, PerfectFluid2)` is `True`, we can see that `PerfectFluid == PerfectFluid2` and `PerfectFluid is PerfectFluid2` are both `False`:"
   ]
  },
  {
   "cell_type": "code",
   "execution_count": 81,
   "id": "025c7635",
   "metadata": {
    "execution": {
     "iopub.execute_input": "2025-02-04T05:47:17.806529Z",
     "iopub.status.busy": "2025-02-04T05:47:17.806411Z",
     "iopub.status.idle": "2025-02-04T05:47:17.808492Z",
     "shell.execute_reply": "2025-02-04T05:47:17.808282Z"
    }
   },
   "outputs": [
    {
     "data": {
      "text/plain": [
       "False"
      ]
     },
     "execution_count": 81,
     "metadata": {},
     "output_type": "execute_result"
    }
   ],
   "source": [
    "PerfectFluid == PerfectFluid2"
   ]
  },
  {
   "cell_type": "code",
   "execution_count": 82,
   "id": "14a740eb",
   "metadata": {
    "execution": {
     "iopub.execute_input": "2025-02-04T05:47:17.809400Z",
     "iopub.status.busy": "2025-02-04T05:47:17.809300Z",
     "iopub.status.idle": "2025-02-04T05:47:17.811156Z",
     "shell.execute_reply": "2025-02-04T05:47:17.810925Z"
    }
   },
   "outputs": [
    {
     "data": {
      "text/plain": [
       "False"
      ]
     },
     "execution_count": 82,
     "metadata": {},
     "output_type": "execute_result"
    }
   ],
   "source": [
    "PerfectFluid is PerfectFluid2"
   ]
  },
  {
   "cell_type": "markdown",
   "id": "d7126576",
   "metadata": {},
   "source": [
    "You may be wondering why the `==` operator is equivalent to the `is` operator, and not to the `T.compare()` function. The reason is that the `==` operator would be ambiguous in this case, as only the components are compared, so two objects will be considered equal even if the symbol, default indices, or default coordinates are different. (Furthermore, in Python, overloading the `==` operator would cause issues when using tensors as dictionary keys or set elements, since these containers are implemented as hash tables.)\n",
    "\n",
    "## Calculations with tensors\n",
    "\n",
    "Now that we have all the bookkeeping of tensors out of the way, we can finally discuss how to use those tensors in calculations. In OGRePy, all tensor calculations are performed by simply using normal operations such as addition and multiplications on the tensors. However, this does not work the same as operating, for example, on integers; in most tensor operations, we also have to specify **indices**. Some of these indices will be *free indices**, which will remain in the final result, while others may be **contraction indices**, which will be contracted upon.\n",
    "\n",
    "OGRePy supports a comprehensive collection of tensor operations. A tensor calculation in OGRePy can involve any number of tensor objects and can contain any combination of addition, multiplication by scalar, trace, contraction, partial derivative, and covariant derivative. The result will be stored in a new tensor object. Let us now go over these operations one by one, and give some examples.\n",
    "\n",
    "### Addition of tensors\n",
    "\n",
    "Addition of tensors in OGRePy is represented by a sum of the form `tensor1(index1, index2, ...) + tensor2(index1, index2, ...)`, where `tensor1` and `tensor2` are the tensor objects to be added, and `(index1, index2, ...)` are the **index specifications** for each tensor, given as SymPy symbols. (Note that an index specification is **not** the same as an index **configuration**, which is a tuple of the form `(±1, ±1, ...)` specifying which indices are up (+1) and which are down (-1).)\n",
    "\n",
    "Note that you do **not** specify the position (upper or lower) of the indices. Furthermore, just like in any tensor equation, **the index letters themselves have no meaning**; they are just placeholders. Therefore, `(a, b, c)`, `(X, Y, Z)`, and `(alpha, beta, gamma)` are all completely equivalent. The only requirement is that the indices are **consistent**; in the case of addition, this means that both tensors being added must have **the same indices up to permutation**.\n",
    "\n",
    "The following constraints apply to addition of tensors:\n",
    "\n",
    "* You may not add a tensor representing a coordinate system to any other tensor, since coordinates do not transform like tensors.\n",
    "* You may not add two tensors associated with different metrics, since their sum would have undefined transformation properties.\n",
    "* You may not add two tensors with different ranks, since that is not a well-defined operation.\n",
    "* As stated above, both tensors must have the same indices up to permutation. $A^{\\mu\\nu} + B^{\\mu\\nu}$ and $A^{\\mu\\nu} + B^{\\nu\\mu}$ (with inverted indices on the second tensor) are both okay, but $A^{\\mu\\nu} + B^{\\alpha\\beta}$ doesn't make sense, as it has more free indices than the rank of the result (that is, the result will be of the form $T^{\\mu\\nu\\alpha\\beta}$ instead of $T^{\\mu\\nu}$).\n",
    "\n",
    "As an example, let us add the Minkowski metric $\\eta_ {\\mu\\nu}$ and the perfect fluid stress tensor $T_ {\\mu\\nu}$. First we import symbols from `OGRePy.abc` to use as indices, then we perform the actual sum:"
   ]
  },
  {
   "cell_type": "code",
   "execution_count": 83,
   "id": "ce67454e",
   "metadata": {
    "execution": {
     "iopub.execute_input": "2025-02-04T05:47:17.812034Z",
     "iopub.status.busy": "2025-02-04T05:47:17.811925Z",
     "iopub.status.idle": "2025-02-04T05:47:17.820797Z",
     "shell.execute_reply": "2025-02-04T05:47:17.820366Z"
    }
   },
   "outputs": [
    {
     "data": {
      "text/markdown": [
       "$$\\eta{}_{\\mu}{}_{\\nu} + T{}_{\\mu}{}_{\\nu}\\Bigg|_{\\left(t, x, y, z\\right)} = \\left(\\begin{matrix}\\rho - 1 & 0 & 0 & 0\\\\0 & p + 1 & 0 & 0\\\\0 & 0 & p + 1 & 0\\\\0 & 0 & 0 & p + 1\\end{matrix}\\right)$$"
      ],
      "text/plain": [
       "<OGRePy._core.Tensor at 0x1d2e6c898f0>"
      ]
     },
     "execution_count": 83,
     "metadata": {},
     "output_type": "execute_result"
    }
   ],
   "source": [
    "from OGRePy.abc import mu, nu\n",
    "\n",
    "result = Minkowski(mu, nu) + PerfectFluid(mu, nu)"
   ]
  },
  {
   "cell_type": "markdown",
   "id": "1345e960",
   "metadata": {},
   "source": [
    "Notice that the addition operation returned a new tensor object. This tensor's symbol has been automatically set to reflect the formula that was used to create it. However, often we want the new tensor to have its own single-letter symbol. To do that, we can use the `symbol` property:"
   ]
  },
  {
   "cell_type": "code",
   "execution_count": 84,
   "id": "6334ed8b",
   "metadata": {
    "execution": {
     "iopub.execute_input": "2025-02-04T05:47:17.821959Z",
     "iopub.status.busy": "2025-02-04T05:47:17.821827Z",
     "iopub.status.idle": "2025-02-04T05:47:17.824809Z",
     "shell.execute_reply": "2025-02-04T05:47:17.824562Z"
    }
   },
   "outputs": [
    {
     "data": {
      "text/markdown": [
       "$$S{}_{\\mu}{}_{\\nu}\\Bigg|_{\\left(t, x, y, z\\right)} = \\left(\\begin{matrix}\\rho - 1 & 0 & 0 & 0\\\\0 & p + 1 & 0 & 0\\\\0 & 0 & p + 1 & 0\\\\0 & 0 & 0 & p + 1\\end{matrix}\\right)$$"
      ],
      "text/plain": [
       "<OGRePy._core.Tensor at 0x1d2e6c898f0>"
      ]
     },
     "execution_count": 84,
     "metadata": {},
     "output_type": "execute_result"
    }
   ],
   "source": [
    "result.symbol = \"S\"\n",
    "result"
   ]
  },
  {
   "cell_type": "markdown",
   "id": "47a86dc0",
   "metadata": {},
   "source": [
    "With this symbol, the tensor equation we calculated becomes:\n",
    "\n",
    "$$\n",
    "S_ {\\mu\\nu} = \\eta_ {\\mu\\nu} + T_ {\\mu\\nu}.\n",
    "$$\n",
    "\n",
    "The order of indices we specify for each tensor matters. To give an example, let us define the following non-symmetric tensor:"
   ]
  },
  {
   "cell_type": "code",
   "execution_count": 85,
   "id": "3bbb1137",
   "metadata": {
    "execution": {
     "iopub.execute_input": "2025-02-04T05:47:17.825853Z",
     "iopub.status.busy": "2025-02-04T05:47:17.825724Z",
     "iopub.status.idle": "2025-02-04T05:47:17.828523Z",
     "shell.execute_reply": "2025-02-04T05:47:17.828276Z"
    }
   },
   "outputs": [
    {
     "data": {
      "text/markdown": [
       "$$N{}_{\\mu}{}_{\\nu}\\Bigg|_{\\left(t, x, y, z\\right)} = \\left(\\begin{matrix}0 & 0 & 0 & 1\\\\0 & 0 & 0 & 0\\\\0 & 0 & 0 & 0\\\\0 & 0 & 0 & 0\\end{matrix}\\right)$$"
      ],
      "text/plain": [
       "<OGRePy._core.Tensor at 0x1d2e679f920>"
      ]
     },
     "execution_count": 85,
     "metadata": {},
     "output_type": "execute_result"
    }
   ],
   "source": [
    "NonSymmetric = T.Tensor(\n",
    "    metric=Minkowski,\n",
    "    coords=Cartesian,\n",
    "    indices=(-1, -1),\n",
    "    components=[[0, 0, 0, 1], [0, 0, 0, 0], [0, 0, 0, 0], [0, 0, 0, 0]],\n",
    "    symbol=\"N\",\n",
    ")"
   ]
  },
  {
   "cell_type": "markdown",
   "id": "c7a7d7a9",
   "metadata": {},
   "source": [
    "If we add it to the Minkowski metric, we get:"
   ]
  },
  {
   "cell_type": "code",
   "execution_count": 86,
   "id": "cb9af465",
   "metadata": {
    "execution": {
     "iopub.execute_input": "2025-02-04T05:47:17.829544Z",
     "iopub.status.busy": "2025-02-04T05:47:17.829432Z",
     "iopub.status.idle": "2025-02-04T05:47:17.832029Z",
     "shell.execute_reply": "2025-02-04T05:47:17.831789Z"
    }
   },
   "outputs": [
    {
     "data": {
      "text/markdown": [
       "$$\\eta{}_{\\mu}{}_{\\nu} + N{}_{\\mu}{}_{\\nu}\\Bigg|_{\\left(t, x, y, z\\right)} = \\left(\\begin{matrix}-1 & 0 & 0 & 1\\\\0 & 1 & 0 & 0\\\\0 & 0 & 1 & 0\\\\0 & 0 & 0 & 1\\end{matrix}\\right)$$"
      ],
      "text/plain": [
       "<OGRePy._core.Tensor at 0x1d2e6c63420>"
      ]
     },
     "execution_count": 86,
     "metadata": {},
     "output_type": "execute_result"
    }
   ],
   "source": [
    "Minkowski(mu, nu) + NonSymmetric(mu, nu)"
   ]
  },
  {
   "cell_type": "markdown",
   "id": "78971986",
   "metadata": {},
   "source": [
    "Note that in this example we did not save the new tensor object in a variable, we just showed the result. However, if we flip its index specification from `(mu, nu)` to `(nu, mu)`, then we instead get:"
   ]
  },
  {
   "cell_type": "code",
   "execution_count": 87,
   "id": "2af16310",
   "metadata": {
    "execution": {
     "iopub.execute_input": "2025-02-04T05:47:17.832925Z",
     "iopub.status.busy": "2025-02-04T05:47:17.832814Z",
     "iopub.status.idle": "2025-02-04T05:47:17.835543Z",
     "shell.execute_reply": "2025-02-04T05:47:17.835296Z"
    }
   },
   "outputs": [
    {
     "data": {
      "text/markdown": [
       "$$\\eta{}_{\\mu}{}_{\\nu} + N{}_{\\nu}{}_{\\mu}\\Bigg|_{\\left(t, x, y, z\\right)} = \\left(\\begin{matrix}-1 & 0 & 0 & 0\\\\0 & 1 & 0 & 0\\\\0 & 0 & 1 & 0\\\\1 & 0 & 0 & 1\\end{matrix}\\right)$$"
      ],
      "text/plain": [
       "<OGRePy._core.Tensor at 0x1d2e6c880e0>"
      ]
     },
     "execution_count": 87,
     "metadata": {},
     "output_type": "execute_result"
    }
   ],
   "source": [
    "Minkowski(mu, nu) + NonSymmetric(nu, mu)"
   ]
  },
  {
   "cell_type": "markdown",
   "id": "65bad743",
   "metadata": {},
   "source": [
    "To stress an important point, there is no difference between `NonSymmetric(mu, nu)` and `NonSymmetric(nu, mu)` on its own, as **the index labels themselves are meaningless** unless there is some context in which they obtain meaning - as is always the case for tensor expressions. However, there is a big difference between, for example, `Minkowski(mu, nu) + NonSymmetric(mu, nu)` and `Minkowski(mu, nu) + NonSymmetric(nu, mu)`, as the indices have a different order, and thus the two expressions refer to adding different components.\n",
    "\n",
    "Of course, any number of tensors can be added, not just two - and the same tensor can be added multiple times, with different index specifications each time. For example, we can calculate the following expression:"
   ]
  },
  {
   "cell_type": "code",
   "execution_count": 88,
   "id": "d6636156",
   "metadata": {
    "execution": {
     "iopub.execute_input": "2025-02-04T05:47:17.836434Z",
     "iopub.status.busy": "2025-02-04T05:47:17.836322Z",
     "iopub.status.idle": "2025-02-04T05:47:17.854935Z",
     "shell.execute_reply": "2025-02-04T05:47:17.854642Z"
    }
   },
   "outputs": [
    {
     "data": {
      "text/markdown": [
       "$$\\eta{}_{\\mu}{}_{\\nu} + T{}_{\\mu}{}_{\\nu} + N{}_{\\mu}{}_{\\nu} + N{}_{\\nu}{}_{\\mu}\\Bigg|_{\\left(t, x, y, z\\right)} = \\left(\\begin{matrix}\\rho - 1 & 0 & 0 & 1\\\\0 & p + 1 & 0 & 0\\\\0 & 0 & p + 1 & 0\\\\1 & 0 & 0 & p + 1\\end{matrix}\\right)$$"
      ],
      "text/plain": [
       "<OGRePy._core.Tensor at 0x1d2e6c8a3e0>"
      ]
     },
     "execution_count": 88,
     "metadata": {},
     "output_type": "execute_result"
    }
   ],
   "source": [
    "Minkowski(mu, nu) + PerfectFluid(mu, nu) + NonSymmetric(mu, nu) + NonSymmetric(nu, mu)"
   ]
  },
  {
   "cell_type": "markdown",
   "id": "0fc0f6a8",
   "metadata": {},
   "source": [
    "### More on index specifications\n",
    "\n",
    "For calculations that involve many indices, it may be more convenient to specify the indices as a string instead of individual symbols. This also saves us the trouble of importing or defining those symbols explicitly. This string must be given in the same format as SymPy's `symbols()` function, that is, a space- or comma-separated list of one or more letters or TeX codes. It is also possible to provide a list of strings, or even mix and match symbols and strings. For example, the previous calculation can also be written as follows:"
   ]
  },
  {
   "cell_type": "code",
   "execution_count": 89,
   "id": "ac7b2e64",
   "metadata": {
    "execution": {
     "iopub.execute_input": "2025-02-04T05:47:17.856103Z",
     "iopub.status.busy": "2025-02-04T05:47:17.855986Z",
     "iopub.status.idle": "2025-02-04T05:47:17.874251Z",
     "shell.execute_reply": "2025-02-04T05:47:17.873966Z"
    }
   },
   "outputs": [
    {
     "data": {
      "text/markdown": [
       "$$\\eta{}_{\\mu}{}_{\\nu} + T{}_{\\mu}{}_{\\nu} + N{}_{\\mu}{}_{\\nu} + N{}_{\\nu}{}_{\\mu}\\Bigg|_{\\left(t, x, y, z\\right)} = \\left(\\begin{matrix}\\rho - 1 & 0 & 0 & 1\\\\0 & p + 1 & 0 & 0\\\\0 & 0 & p + 1 & 0\\\\1 & 0 & 0 & p + 1\\end{matrix}\\right)$$"
      ],
      "text/plain": [
       "<OGRePy._core.Tensor at 0x1d2e6c8a2a0>"
      ]
     },
     "execution_count": 89,
     "metadata": {},
     "output_type": "execute_result"
    }
   ],
   "source": [
    "Minkowski(mu, nu) + PerfectFluid(\"mu nu\") + NonSymmetric(\"mu\", nu) + NonSymmetric(\"nu\", \"mu\")"
   ]
  },
  {
   "cell_type": "markdown",
   "id": "79f73f6a",
   "metadata": {},
   "source": [
    "Index specifications have a use even if we are not doing a calculation: they change the indices that appear when `show()` is called, instead of the default index letters (as specified using `T.options.index_letters`). For example, with the default index letters, `NonSymmetric` will be displayed with the indices $\\mu\\nu$:"
   ]
  },
  {
   "cell_type": "code",
   "execution_count": 90,
   "id": "81906857",
   "metadata": {
    "execution": {
     "iopub.execute_input": "2025-02-04T05:47:17.875556Z",
     "iopub.status.busy": "2025-02-04T05:47:17.875431Z",
     "iopub.status.idle": "2025-02-04T05:47:17.877992Z",
     "shell.execute_reply": "2025-02-04T05:47:17.877747Z"
    }
   },
   "outputs": [
    {
     "data": {
      "text/markdown": [
       "$$N{}_{\\mu}{}_{\\nu}\\Bigg|_{\\left(t, x, y, z\\right)} = \\left(\\begin{matrix}0 & 0 & 0 & 1\\\\0 & 0 & 0 & 0\\\\0 & 0 & 0 & 0\\\\0 & 0 & 0 & 0\\end{matrix}\\right)$$"
      ],
      "text/plain": [
       "<OGRePy._core.Tensor at 0x1d2e679f920>"
      ]
     },
     "execution_count": 90,
     "metadata": {},
     "output_type": "execute_result"
    }
   ],
   "source": [
    "NonSymmetric"
   ]
  },
  {
   "cell_type": "markdown",
   "id": "a3995421",
   "metadata": {},
   "source": [
    "However, if we want to display it with the indices $\\alpha\\beta$ instead, we can simply indicate these indices in parentheses:"
   ]
  },
  {
   "cell_type": "code",
   "execution_count": 91,
   "id": "71e23e49",
   "metadata": {
    "execution": {
     "iopub.execute_input": "2025-02-04T05:47:17.879211Z",
     "iopub.status.busy": "2025-02-04T05:47:17.879093Z",
     "iopub.status.idle": "2025-02-04T05:47:17.881584Z",
     "shell.execute_reply": "2025-02-04T05:47:17.881345Z"
    }
   },
   "outputs": [
    {
     "data": {
      "text/markdown": [
       "$$N{}_{\\alpha}{}_{\\beta}\\Bigg|_{\\left(t, x, y, z\\right)} = \\left(\\begin{matrix}0 & 0 & 0 & 1\\\\0 & 0 & 0 & 0\\\\0 & 0 & 0 & 0\\\\0 & 0 & 0 & 0\\end{matrix}\\right)$$"
      ],
      "text/plain": [
       "<OGRePy._core.Tensor at 0x1d2e6c8af20>"
      ]
     },
     "execution_count": 91,
     "metadata": {},
     "output_type": "execute_result"
    }
   ],
   "source": [
    "NonSymmetric(\"alpha beta\")"
   ]
  },
  {
   "cell_type": "markdown",
   "id": "5eff6ee1",
   "metadata": {},
   "source": [
    "Another alternative syntax is available for those who prefer the index specification format from the Mathematica version of OGRe: a string where each letter is a separate symbol, with no spaces between the letters, e.g. \"abc\" corresponds to (a, b, c). This format is less useful in the Python version since there is no easy way to enter Greek indices as individual letters; in Mathematica it's easy to write e.g. \"μν\" using escape sequences, but in Python it's easier to write \"mu nu\" or use symbols named `mu` and `nu` explicitly. The Mathematica format is accessible via square brackets, e.g.:"
   ]
  },
  {
   "cell_type": "code",
   "execution_count": 92,
   "id": "27a120d5",
   "metadata": {
    "execution": {
     "iopub.execute_input": "2025-02-04T05:47:17.882507Z",
     "iopub.status.busy": "2025-02-04T05:47:17.882396Z",
     "iopub.status.idle": "2025-02-04T05:47:17.884716Z",
     "shell.execute_reply": "2025-02-04T05:47:17.884448Z"
    }
   },
   "outputs": [
    {
     "data": {
      "text/markdown": [
       "$$N{}_{a}{}_{b}\\Bigg|_{\\left(t, x, y, z\\right)} = \\left(\\begin{matrix}0 & 0 & 0 & 1\\\\0 & 0 & 0 & 0\\\\0 & 0 & 0 & 0\\\\0 & 0 & 0 & 0\\end{matrix}\\right)$$"
      ],
      "text/plain": [
       "<OGRePy._core.Tensor at 0x1d2e6bf2700>"
      ]
     },
     "execution_count": 92,
     "metadata": {},
     "output_type": "execute_result"
    }
   ],
   "source": [
    "NonSymmetric[\"ab\"]"
   ]
  },
  {
   "cell_type": "markdown",
   "id": "a54a6636",
   "metadata": {},
   "source": [
    "### Multiplication of tensor by scalar\n",
    "\n",
    "Multiplication of tensor by scalar in OGRePy is represented by a product of the form `scalar * tensor(index1, index2, ...)`, where `tensor` is the tensor object to be multiplied, `(index1, index2, ...)` is an index specification as for addition, and `scalar` is the scalar to multiply by. Note that `scalar` should be a number or SymPy expression, and **not** a tensor object of rank 0. To multiply a tensor by a tensor of rank 0, use contraction instead, as detailed in the next section.\n",
    "\n",
    "As an example, let us multiply the Minkowski metric $\\eta_ {\\mu\\nu}$ by 2:"
   ]
  },
  {
   "cell_type": "code",
   "execution_count": 93,
   "id": "4597a50f",
   "metadata": {
    "execution": {
     "iopub.execute_input": "2025-02-04T05:47:17.885683Z",
     "iopub.status.busy": "2025-02-04T05:47:17.885580Z",
     "iopub.status.idle": "2025-02-04T05:47:17.888499Z",
     "shell.execute_reply": "2025-02-04T05:47:17.888186Z"
    }
   },
   "outputs": [
    {
     "data": {
      "text/markdown": [
       "$$2 \\eta{}_{\\mu}{}_{\\nu}\\Bigg|_{\\left(t, x, y, z\\right)} = \\left(\\begin{matrix}-2 & 0 & 0 & 0\\\\0 & 2 & 0 & 0\\\\0 & 0 & 2 & 0\\\\0 & 0 & 0 & 2\\end{matrix}\\right)$$"
      ],
      "text/plain": [
       "<OGRePy._core.Tensor at 0x1d2e68d7880>"
      ]
     },
     "execution_count": 93,
     "metadata": {},
     "output_type": "execute_result"
    }
   ],
   "source": [
    "2 * Minkowski(mu, nu)"
   ]
  },
  {
   "cell_type": "markdown",
   "id": "4d3aff0d",
   "metadata": {},
   "source": [
    "While in this example the indices seem redundant, they are necessary because in most non-trivial situations we would like to combine multiplication with other operations, such as addition or contraction, in which the order of indices matters. For example, consider:"
   ]
  },
  {
   "cell_type": "code",
   "execution_count": 94,
   "id": "80180247",
   "metadata": {
    "execution": {
     "iopub.execute_input": "2025-02-04T05:47:17.889437Z",
     "iopub.status.busy": "2025-02-04T05:47:17.889332Z",
     "iopub.status.idle": "2025-02-04T05:47:18.059557Z",
     "shell.execute_reply": "2025-02-04T05:47:18.059222Z"
    }
   },
   "outputs": [
    {
     "data": {
      "text/markdown": [
       "$$2  t \\eta{}_{\\mu}{}_{\\nu} - 3  x T{}_{\\mu}{}_{\\nu} + 4  y N{}_{\\mu}{}_{\\nu} - 5  z N{}_{\\nu}{}_{\\mu}\\Bigg|_{\\left(t, x, y, z\\right)} = \\left(\\begin{matrix}- 3 \\rho x - 2 t & 0 & 0 & 4 y\\\\0 & - 3 p x + 2 t & 0 & 0\\\\0 & 0 & - 3 p x + 2 t & 0\\\\- 5 z & 0 & 0 & - 3 p x + 2 t\\end{matrix}\\right)$$"
      ],
      "text/plain": [
       "<OGRePy._core.Tensor at 0x1d2e6cc89a0>"
      ]
     },
     "execution_count": 94,
     "metadata": {},
     "output_type": "execute_result"
    }
   ],
   "source": [
    "2 * t * Minkowski(mu, nu) - 3 * x * PerfectFluid(mu, nu) + 4 * y * NonSymmetric(mu, nu) - 5 * z * NonSymmetric(nu, mu)"
   ]
  },
  {
   "cell_type": "markdown",
   "id": "b7997bc6",
   "metadata": {},
   "source": [
    "### Taking traces and contracting tensors: theoretical review\n",
    "\n",
    "The most complicated tensor operation is **contraction**, a generalization of the vector inner product. This is done by summing over one or more disjoint pairs of indices, with each pair containing exactly one upper index and one lower index. Raising and lowering indices is one example of contraction: the metric (or its inverse) is contracted with a tensor. Coordinate transformations are another example, where we contract the Jacobian (or its inverse) with a tensor.\n",
    "\n",
    "The simplest example of contraction is the **vector inner product**, which is defined as the contraction of a vector (one upper index) with a covector (one lower index):\n",
    "\n",
    "$$\n",
    "v^{\\mu} w_ {\\mu} = g_ {\\mu\\nu} v^{\\mu} w^{\\nu} = g(\\mathbf{v},\\mathbf{w}).\n",
    "$$\n",
    "\n",
    "The middle part of this equality comes from the fact that, as explained above, when we lower an index on $w^{\\nu}$, we use the metric:\n",
    "\n",
    "$$\n",
    "w_ {\\mu} = g_ {\\mu\\nu} w^{\\nu}.\n",
    "$$\n",
    "\n",
    "This, in turn, justifies the notation $g(\\mathbf{v},\\mathbf{w})$ on the right-hand side, as this is, in fact, an inner product of two vectors using the metric $g$ (in index-free notation).\n",
    "\n",
    "Contraction of indices in higher-rank tensors is simply a generalization of the inner product, for example:\n",
    "\n",
    "$$\n",
    "A^{\\mu\\alpha} B_ {\\alpha\\nu} = g_ {\\alpha\\beta} A^{\\mu\\alpha} B^{\\beta}{}_ {\\nu}.\n",
    "$$\n",
    "\n",
    "We can also contract more than one index:\n",
    "\n",
    "$$\n",
    "A^{\\mu\\nu} B_ {\\mu\\nu} = g_ {\\mu\\alpha} g_ {\\nu\\beta} A^{\\mu\\nu}B^{\\alpha\\beta}.\n",
    "$$\n",
    "\n",
    "This simply amounts to the fact that lowering both indices of $B^{\\alpha\\beta}$ involves contracting each index with the metric. We can even contract two indices **of the same tensor**:\n",
    "\n",
    "$$\n",
    "A^{\\mu}{}_ {\\mu} = g_ {\\mu\\nu}A^{\\mu\\nu}.\n",
    "$$\n",
    "\n",
    "This is called **taking the trace**. Furthermore, it is also possible to contract pairs of indices from more than two tensors at the same time:\n",
    "\n",
    "$$\n",
    "A^{\\mu\\nu} B_ {\\nu\\rho} C^{\\rho\\sigma} = g_ {\\nu\\alpha} g_ {\\rho\\beta} A^{\\mu\\nu} B^{\\alpha\\beta} C^{\\rho\\sigma}.\n",
    "$$\n",
    "\n",
    "However, such operations can always be broken down into individual contractions of pairs of tensors. For example, in this case, one could first contract $B_ {\\nu\\rho}$ with $C^{\\rho\\sigma}$ and then contract the result with $A^{\\mu\\nu}$ - which is indeed how this kind of contraction will be performed in OGRePy in practice:\n",
    "\n",
    "$$\n",
    " A^{\\mu\\nu} B_ {\\nu\\rho} C^{\\rho\\sigma} = A^{\\mu\\nu} \\left( B_ {\\nu\\rho} C^{\\rho\\sigma} \\right).\n",
    "$$\n",
    "\n",
    "In a contraction, there are two types of indices: **contracted indices**, which are summed upon, and **free indices**, which are not summed upon. The rank of the tensor that results from the contraction is the number of free indices. So for example, in the expression $A^{\\mu\\alpha} B_ {\\alpha\\nu}$ we have one contracted index, $\\alpha$, and two free indices, $\\mu$ and $\\nu$. Therefore, the resulting tensor is of rank two:\n",
    "\n",
    "$$\n",
    "T^{\\mu}{}_ {\\nu} = A^{\\mu\\alpha} B_ {\\alpha\\nu}.\n",
    "$$\n",
    "\n",
    "### Taking traces and contracting tensors: OGRePy syntax\n",
    "\n",
    "Contraction of tensors in OGRePy is represented by an expression of the form `tensor1(index1, index2, ...) @ tensor2(index1, index2, ...)`, where `tensor1` and `tensor2` are the tensor objects to be contracted, and `(index1, index2, ...)` are the index specifications for each tensor. Any matching indices in both index specifications will be contracted. This means that, for example, $v^{\\mu} w_ {\\mu}$ is calculated using `v(mu) @ w(mu)` and $A^{\\mu\\nu} B_ {\\nu\\rho} C^{\\rho\\sigma}$ is calculated using `A(mu, nu) @ B(nu, rho) @ C(rho, sigma)`. Note that the user doesn't need to worry about the contracted indices being one upper and one lower, which is a common source of errors when contracting tensors by hand; the order of the indices, and whether the same index repeats twice, is all that matters.\n",
    "\n",
    "As a first example, let us create the stress-energy tensor for a perfect fluid with a 4-velocity $u^{\\mu}$. This is defined as follows:\n",
    "\n",
    "$$\n",
    "T^{\\mu\\nu} = (\\rho + p) u^{\\mu} u^{\\nu} + p g^{\\mu\\nu}.\n",
    "$$\n",
    "\n",
    "Even though this does not involve any contractions, it still counts as a \"trivial\" contraction, since two tensors (the 4-velocities) are juxtaposed next to each other to create another tensor. This is also known as an **outer product**. Therefore, it uses the same `@` operator syntax as any other contraction, except that there are **no matching indices**. Note that this expression involves not just contraction (in the first term), but also multiplication by scalar (in both terms), and addition of the two terms together. Again, OGRePy takes care of everything behind the scene, so this just works:"
   ]
  },
  {
   "cell_type": "code",
   "execution_count": 95,
   "id": "cab46749",
   "metadata": {
    "execution": {
     "iopub.execute_input": "2025-02-04T05:47:18.060941Z",
     "iopub.status.busy": "2025-02-04T05:47:18.060706Z",
     "iopub.status.idle": "2025-02-04T05:47:18.146290Z",
     "shell.execute_reply": "2025-02-04T05:47:18.146000Z"
    }
   },
   "outputs": [
    {
     "data": {
      "text/markdown": [
       "$$T{}^{\\mu}{}^{\\nu}\\Bigg|_{\\left(t, x, y, z\\right)} = \\left(\\begin{matrix}\\frac{- \\rho - p v^{2}}{v^{2} - 1} & - \\frac{v \\left(\\rho + p\\right)}{v^{2} - 1} & 0 & 0\\\\- \\frac{v \\left(\\rho + p\\right)}{v^{2} - 1} & \\frac{- \\rho v^{2} - p}{v^{2} - 1} & 0 & 0\\\\0 & 0 & p & 0\\\\0 & 0 & 0 & p\\end{matrix}\\right)$$"
      ],
      "text/plain": [
       "<OGRePy._core.Tensor at 0x1d2e68f84f0>"
      ]
     },
     "execution_count": 95,
     "metadata": {},
     "output_type": "execute_result"
    }
   ],
   "source": [
    "PerfectFluidFromVelocity = (rho + p) * FourVelocity(mu) @ FourVelocity(nu) + p * Minkowski(mu, nu)\n",
    "PerfectFluidFromVelocity.symbol = \"T\"\n",
    "PerfectFluidFromVelocity"
   ]
  },
  {
   "cell_type": "markdown",
   "id": "1bef7cf5",
   "metadata": {},
   "source": [
    "Indeed, for $v = 0$ we get the previously defined stress tensor:"
   ]
  },
  {
   "cell_type": "code",
   "execution_count": 96,
   "id": "8d8232b2",
   "metadata": {
    "execution": {
     "iopub.execute_input": "2025-02-04T05:47:18.147568Z",
     "iopub.status.busy": "2025-02-04T05:47:18.147443Z",
     "iopub.status.idle": "2025-02-04T05:47:18.150444Z",
     "shell.execute_reply": "2025-02-04T05:47:18.150230Z"
    }
   },
   "outputs": [
    {
     "data": {
      "text/markdown": [
       "$$T{}^{\\mu}{}^{\\nu}\\Bigg|_{\\left(t, x, y, z\\right)} = \\left(\\begin{matrix}\\rho & 0 & 0 & 0\\\\0 & p & 0 & 0\\\\0 & 0 & p & 0\\\\0 & 0 & 0 & p\\end{matrix}\\right)$$"
      ],
      "text/plain": [
       "<IPython.core.display.Markdown object>"
      ]
     },
     "metadata": {},
     "output_type": "display_data"
    }
   ],
   "source": [
    "PerfectFluidFromVelocity.show(replace={v: 0})"
   ]
  },
  {
   "cell_type": "markdown",
   "id": "ca3bfc73",
   "metadata": {},
   "source": [
    "Multiplying a tensor by a scalar (i.e. a tensor of rank 0) is also done using a \"trivial\" contraction with no contracted indices. For example:"
   ]
  },
  {
   "cell_type": "code",
   "execution_count": 97,
   "id": "70cf2641",
   "metadata": {
    "execution": {
     "iopub.execute_input": "2025-02-04T05:47:18.151500Z",
     "iopub.status.busy": "2025-02-04T05:47:18.151396Z",
     "iopub.status.idle": "2025-02-04T05:47:18.405659Z",
     "shell.execute_reply": "2025-02-04T05:47:18.405436Z"
    }
   },
   "outputs": [
    {
     "data": {
      "text/markdown": [
       "$$d \\eta{}_{\\mu}{}_{\\nu}\\Bigg|_{\\left(t, r, \\theta, \\phi\\right)} = \\left(\\begin{matrix}- r & 0 & 0 & 0\\\\0 & r & 0 & 0\\\\0 & 0 & r^{3} & 0\\\\0 & 0 & 0 & r^{3} \\sin^{2}{\\left(\\theta \\right)}\\end{matrix}\\right)$$"
      ],
      "text/plain": [
       "<IPython.core.display.Markdown object>"
      ]
     },
     "metadata": {},
     "output_type": "display_data"
    }
   ],
   "source": [
    "(SpatialDistance() @ Minkowski(mu, nu)).show(coords=Spherical)"
   ]
  },
  {
   "cell_type": "markdown",
   "id": "73643403",
   "metadata": {},
   "source": [
    "Note the empty index specification `()`, which is mandatory in order for OGRePy to recognize that the scalar is involved in a tensor calculation. We can also multiply a scalar by another scalar:"
   ]
  },
  {
   "cell_type": "code",
   "execution_count": 98,
   "id": "7d6af1a6",
   "metadata": {
    "execution": {
     "iopub.execute_input": "2025-02-04T05:47:18.406820Z",
     "iopub.status.busy": "2025-02-04T05:47:18.406703Z",
     "iopub.status.idle": "2025-02-04T05:47:18.413115Z",
     "shell.execute_reply": "2025-02-04T05:47:18.412743Z"
    }
   },
   "outputs": [
    {
     "data": {
      "text/markdown": [
       "$$d d\\Bigg|_{\\left(t, x, y, z\\right)} = x^{2} + y^{2} + z^{2}$$"
      ],
      "text/plain": [
       "<OGRePy._core.Tensor at 0x1d2e68e07c0>"
      ]
     },
     "execution_count": 98,
     "metadata": {},
     "output_type": "execute_result"
    }
   ],
   "source": [
    "SpatialDistance() @ SpatialDistance()"
   ]
  },
  {
   "cell_type": "markdown",
   "id": "d2d46ad2",
   "metadata": {},
   "source": [
    "Now let us demonstrate some non-trivial contractions. First, we have the inner product of vectors - in this case, we get the norm (squared) of the 4-velocity, since we are contracting it with itself:"
   ]
  },
  {
   "cell_type": "code",
   "execution_count": 99,
   "id": "5727bfb2",
   "metadata": {
    "execution": {
     "iopub.execute_input": "2025-02-04T05:47:18.414200Z",
     "iopub.status.busy": "2025-02-04T05:47:18.414092Z",
     "iopub.status.idle": "2025-02-04T05:47:18.419641Z",
     "shell.execute_reply": "2025-02-04T05:47:18.419406Z"
    }
   },
   "outputs": [
    {
     "data": {
      "text/markdown": [
       "$$u{}_{\\mu} u{}^{\\mu}\\Bigg|_{\\left(t, x, y, z\\right)} = -1$$"
      ],
      "text/plain": [
       "<OGRePy._core.Tensor at 0x1d2e6ccb830>"
      ]
     },
     "execution_count": 99,
     "metadata": {},
     "output_type": "execute_result"
    }
   ],
   "source": [
    "FourVelocity(mu) @ FourVelocity(mu)"
   ]
  },
  {
   "cell_type": "markdown",
   "id": "a88438c8",
   "metadata": {},
   "source": [
    "We can also contract several tensors together, with **two** matching pairs of indices:"
   ]
  },
  {
   "cell_type": "code",
   "execution_count": 100,
   "id": "0ecf71a4",
   "metadata": {
    "execution": {
     "iopub.execute_input": "2025-02-04T05:47:18.420658Z",
     "iopub.status.busy": "2025-02-04T05:47:18.420556Z",
     "iopub.status.idle": "2025-02-04T05:47:18.474135Z",
     "shell.execute_reply": "2025-02-04T05:47:18.473833Z"
    }
   },
   "outputs": [
    {
     "data": {
      "text/markdown": [
       "$$u{}_{\\mu} T{}^{\\mu}{}_{\\nu} N{}^{\\nu}{}_{\\rho}\\Bigg|_{\\left(t, x, y, z\\right)} = \\left(\\begin{matrix}0\\\\0\\\\0\\\\- \\frac{\\rho}{\\sqrt{1 - v^{2}}}\\end{matrix}\\right)$$"
      ],
      "text/plain": [
       "<OGRePy._core.Tensor at 0x1d2e6ccbc90>"
      ]
     },
     "execution_count": 100,
     "metadata": {},
     "output_type": "execute_result"
    }
   ],
   "source": [
    "FourVelocity(mu) @ PerfectFluidFromVelocity(mu, nu) @ NonSymmetric(nu, rho)"
   ]
  },
  {
   "cell_type": "markdown",
   "id": "7734abc1",
   "metadata": {},
   "source": [
    "Finally, to take the trace of a tensor, we simply match pairs of indices in that tensor's index specification:"
   ]
  },
  {
   "cell_type": "code",
   "execution_count": 101,
   "id": "55d75be8",
   "metadata": {
    "execution": {
     "iopub.execute_input": "2025-02-04T05:47:18.475297Z",
     "iopub.status.busy": "2025-02-04T05:47:18.475158Z",
     "iopub.status.idle": "2025-02-04T05:47:18.477713Z",
     "shell.execute_reply": "2025-02-04T05:47:18.477486Z"
    }
   },
   "outputs": [
    {
     "data": {
      "text/markdown": [
       "$$\\eta{}_{\\mu}{}^{\\mu}\\Bigg|_{\\left(t, x, y, z\\right)} = 4$$"
      ],
      "text/plain": [
       "<OGRePy._core.Tensor at 0x1d2e6d05850>"
      ]
     },
     "execution_count": 101,
     "metadata": {},
     "output_type": "execute_result"
    }
   ],
   "source": [
    "Minkowski(mu, mu)"
   ]
  },
  {
   "cell_type": "code",
   "execution_count": 102,
   "id": "559838bd",
   "metadata": {
    "execution": {
     "iopub.execute_input": "2025-02-04T05:47:18.478755Z",
     "iopub.status.busy": "2025-02-04T05:47:18.478646Z",
     "iopub.status.idle": "2025-02-04T05:47:18.488542Z",
     "shell.execute_reply": "2025-02-04T05:47:18.488204Z"
    }
   },
   "outputs": [
    {
     "data": {
      "text/markdown": [
       "$$T{}_{\\mu}{}^{\\mu}\\Bigg|_{\\left(t, r, \\theta, \\phi\\right)} = - \\rho + 3 p$$"
      ],
      "text/plain": [
       "<OGRePy._core.Tensor at 0x1d2e6d05b20>"
      ]
     },
     "execution_count": 102,
     "metadata": {},
     "output_type": "execute_result"
    }
   ],
   "source": [
    "PerfectFluid(\"mu mu\")"
   ]
  },
  {
   "cell_type": "markdown",
   "id": "61e64f83",
   "metadata": {},
   "source": [
    "Of course, this also works for tensors with more than two indices, as we will see below. Any combination of indices can be used, with no limit on the number of traces taken for each tensor.\n",
    "\n",
    "## Derivatives and curvature tensors\n",
    "\n",
    "The **partial derivative** $\\partial_ {\\mu}$ is represented in OGRePy using the class `PartialD`. It can be contracted with other tensors using the usual OGRePy contraction notation - including an appropriate index specification - to calculate gradients and divergences.\n",
    "\n",
    "The **gradient** of a tensor is the partial derivative $\\partial_ {\\mu}$ acting on the tensor with a free index, e.g. $\\partial_ {\\mu}\\phi$ for a tensor, $\\partial_ {\\mu} u^{\\nu}$ for a vector, or $\\partial_ {\\mu} T^{\\nu\\lambda}$ for a rank-2 tensor, resulting in a tensor of **one rank higher** (due to the extra index). In OGRePy, this is done by contracting the `PartialD` object from the left with the tensor, using the contraction operator `@`. For example, we can calculate the gradient $\\partial_ {\\mu} K$ of the Kretschmann scalar as follows:"
   ]
  },
  {
   "cell_type": "code",
   "execution_count": 103,
   "id": "02d9b735",
   "metadata": {
    "execution": {
     "iopub.execute_input": "2025-02-04T05:47:18.489817Z",
     "iopub.status.busy": "2025-02-04T05:47:18.489700Z",
     "iopub.status.idle": "2025-02-04T05:47:18.494165Z",
     "shell.execute_reply": "2025-02-04T05:47:18.493826Z"
    }
   },
   "outputs": [
    {
     "data": {
      "text/markdown": [
       "$$\\partial{}_{\\mu} K\\Bigg|_{\\left(t, r, \\theta, \\phi\\right)} = \\left(\\begin{matrix}0\\\\- \\frac{288 M^{2}}{r^{7}}\\\\0\\\\0\\end{matrix}\\right)$$"
      ],
      "text/plain": [
       "<OGRePy._core.Tensor at 0x1d2e6d065c0>"
      ]
     },
     "execution_count": 103,
     "metadata": {},
     "output_type": "execute_result"
    }
   ],
   "source": [
    "T.PartialD(mu) @ SchwarzschildKretschmann()"
   ]
  },
  {
   "cell_type": "markdown",
   "id": "e6bbc188",
   "metadata": {},
   "source": [
    "And here is the gradient of the Schwarzschild metric:"
   ]
  },
  {
   "cell_type": "code",
   "execution_count": 104,
   "id": "875d0235",
   "metadata": {
    "execution": {
     "iopub.execute_input": "2025-02-04T05:47:18.495283Z",
     "iopub.status.busy": "2025-02-04T05:47:18.495134Z",
     "iopub.status.idle": "2025-02-04T05:47:18.505458Z",
     "shell.execute_reply": "2025-02-04T05:47:18.505170Z"
    }
   },
   "outputs": [
    {
     "data": {
      "text/markdown": [
       "$$\\begin{align*}\n",
       "    \\partial{}_{r} g{}_{t}{}_{t} &= - \\frac{2 M}{r^{2}} \\\\\n",
       "    \\partial{}_{r} g{}_{r}{}_{r} &= - \\frac{2 M}{r^{2} \\left(- \\frac{2 M}{r} + 1\\right)^{2}} \\\\\n",
       "    \\partial{}_{r} g{}_{\\theta}{}_{\\theta} &= 2 r \\\\\n",
       "    \\partial{}_{r} g{}_{\\phi}{}_{\\phi} &= 2 r \\sin^{2}{\\left(\\theta \\right)} \\\\\n",
       "    \\partial{}_{\\theta} g{}_{\\phi}{}_{\\phi} &= 2 r^{2} \\sin{\\left(\\theta \\right)} \\cos{\\left(\\theta \\right)} \n",
       "\\end{align*}$$"
      ],
      "text/plain": [
       "<IPython.core.display.Markdown object>"
      ]
     },
     "metadata": {},
     "output_type": "display_data"
    }
   ],
   "source": [
    "~(T.PartialD(mu) @ Schwarzschild(\"alpha beta\"))"
   ]
  },
  {
   "cell_type": "markdown",
   "id": "90658e00",
   "metadata": {},
   "source": [
    "The **divergence** of a tensor is the contraction of the partial derivative $\\partial_ {\\mu}$ with one of the tensor's indices, e.g. $\\partial_ {\\mu} u^{\\mu}$ for a vector or $\\partial_ {\\mu} T^{\\mu\\nu}$ for a rank-2 tensor, resulting in a tensor of **one rank lower**. To illustrate, let us create the position vector of a particle in Minkowski space:"
   ]
  },
  {
   "cell_type": "code",
   "execution_count": 105,
   "id": "1a707172",
   "metadata": {
    "execution": {
     "iopub.execute_input": "2025-02-04T05:47:18.506585Z",
     "iopub.status.busy": "2025-02-04T05:47:18.506472Z",
     "iopub.status.idle": "2025-02-04T05:47:18.509146Z",
     "shell.execute_reply": "2025-02-04T05:47:18.508942Z"
    }
   },
   "outputs": [
    {
     "data": {
      "text/markdown": [
       "$$x{}^{\\mu}\\Bigg|_{\\left(t, x, y, z\\right)} = \\left(\\begin{matrix}t\\\\x\\\\y\\\\z\\end{matrix}\\right)$$"
      ],
      "text/plain": [
       "<OGRePy._core.Tensor at 0x1d2e6a6d760>"
      ]
     },
     "execution_count": 105,
     "metadata": {},
     "output_type": "execute_result"
    }
   ],
   "source": [
    "Position = T.Tensor(\n",
    "    metric=Minkowski,\n",
    "    coords=Cartesian,\n",
    "    indices=(1,),\n",
    "    components=[t, x, y, z],\n",
    "    symbol=\"x\",\n",
    ")"
   ]
  },
  {
   "cell_type": "markdown",
   "id": "7254f674",
   "metadata": {},
   "source": [
    "Its gradient is:"
   ]
  },
  {
   "cell_type": "code",
   "execution_count": 106,
   "id": "9ae9d20c",
   "metadata": {
    "execution": {
     "iopub.execute_input": "2025-02-04T05:47:18.510093Z",
     "iopub.status.busy": "2025-02-04T05:47:18.509993Z",
     "iopub.status.idle": "2025-02-04T05:47:18.513638Z",
     "shell.execute_reply": "2025-02-04T05:47:18.513370Z"
    }
   },
   "outputs": [
    {
     "data": {
      "text/markdown": [
       "$$\\partial{}_{\\mu} x{}^{\\nu}\\Bigg|_{\\left(t, x, y, z\\right)} = \\left(\\begin{matrix}1 & 0 & 0 & 0\\\\0 & 1 & 0 & 0\\\\0 & 0 & 1 & 0\\\\0 & 0 & 0 & 1\\end{matrix}\\right)$$"
      ],
      "text/plain": [
       "<OGRePy._core.Tensor at 0x1d2e6d07e20>"
      ]
     },
     "execution_count": 106,
     "metadata": {},
     "output_type": "execute_result"
    }
   ],
   "source": [
    "T.PartialD(mu) @ Position(nu)"
   ]
  },
  {
   "cell_type": "markdown",
   "id": "469ff255",
   "metadata": {},
   "source": [
    "And its divergence is:"
   ]
  },
  {
   "cell_type": "code",
   "execution_count": 107,
   "id": "9d821aa2",
   "metadata": {
    "execution": {
     "iopub.execute_input": "2025-02-04T05:47:18.514590Z",
     "iopub.status.busy": "2025-02-04T05:47:18.514488Z",
     "iopub.status.idle": "2025-02-04T05:47:18.517640Z",
     "shell.execute_reply": "2025-02-04T05:47:18.517431Z"
    }
   },
   "outputs": [
    {
     "data": {
      "text/markdown": [
       "$$\\partial{}_{\\mu} x{}^{\\mu}\\Bigg|_{\\left(t, x, y, z\\right)} = 4$$"
      ],
      "text/plain": [
       "<OGRePy._core.Tensor at 0x1d2e6d184a0>"
      ]
     },
     "execution_count": 107,
     "metadata": {},
     "output_type": "execute_result"
    }
   ],
   "source": [
    "T.PartialD(mu) @ Position(mu)"
   ]
  },
  {
   "cell_type": "markdown",
   "id": "c92b363f",
   "metadata": {},
   "source": [
    "As you can see, the syntax for both the gradient and divergence is the same; if the index specification of `PartialD` matches one of the indices of the tensor to its right, then the divergence will be calculated, otherwise the gradient will be calculated.\n",
    "\n",
    "**WARNING: When applying partial derivatives to tensors, the result generally does not transform like a tensor under a coordinate transformation.** For this reason, in general relativity we normally use the **covariant derivative** instead of a partial derivative. However, there are three important exceptions, where partial derivatives must be used: in the covariant derivative itself, the **Levi-Civita connection**, and the **Riemann tensor**, all of which will be discussed below.\n",
    "\n",
    "Of these three special cases, the covariant derivative and the Riemann tensor turn out to nonetheless transform like tensors under coordinate transformations, due to cancellations. However, the Levi-Civita connection, whose components are called the **Christoffel symbols**, has a special transformation rule, which is used automatically by OGRePy, as we will show.\n",
    "\n",
    "In all other cases, if the user creates an arbitrary tensor using partial derivatives, the result will generally **transform incorrectly** under a coordinate transformation in OGRePy. Therefore, it is highly recommended to avoid using partial derivatives in OGRePy unless you really know what you're doing.\n",
    "\n",
    "### The Christoffel symbols\n",
    "\n",
    "The **Christoffel symbols** are a very important tensor-like object in differential geometry. They are the components of the **Levi-Civita connection**, which is the unique torsion-free connection that preserves the metric. The Christoffel symbols are defined as follows:\n",
    "\n",
    "$$\n",
    "\\Gamma_ {\\mu\\nu}^{\\lambda} = \\frac{1}{2} g^{\\lambda\\sigma} \\left( \\partial_ {\\mu} g_ {\\nu\\sigma} + \\partial_ {\\nu} g_ {\\sigma\\mu} - \\partial_ {\\sigma} g_ {\\mu\\nu} \\right).\n",
    "$$\n",
    "\n",
    "Each of the terms inside the parentheses is a gradient of the metric, with different indices. For example, the first term $\\partial_ {\\mu} g_ {\\nu\\sigma}$ is represented in OGRePy as `T.PartialD(mu) @ metric(nu, sigma)` where `metric` is the tensor object representing the metric. Since OGRePy allows us to easily perform an arbitrary number of contraction, addition, multiplication by scalar, and partial derivative operations, we can calculate the Christoffel symbols of the Schwarzschild metric directly as follows: (We used SymPy's `Rational` class to create a symbolic 1/2 in the front, otherwise it would have been a numeric 0.5)"
   ]
  },
  {
   "cell_type": "code",
   "execution_count": 108,
   "id": "a298f263",
   "metadata": {
    "execution": {
     "iopub.execute_input": "2025-02-04T05:47:18.518578Z",
     "iopub.status.busy": "2025-02-04T05:47:18.518479Z",
     "iopub.status.idle": "2025-02-04T05:47:18.801017Z",
     "shell.execute_reply": "2025-02-04T05:47:18.800486Z"
    }
   },
   "outputs": [
    {
     "data": {
      "text/markdown": [
       "$$\\begin{align*}\n",
       "    \\Gamma{}^{t}{}_{t}{}_{r} = \\Gamma{}^{t}{}_{r}{}_{t} &= \\frac{M}{r \\left(- 2 M + r\\right)} \\\\\n",
       "    \\Gamma{}^{r}{}_{t}{}_{t} &= \\frac{M \\left(- 2 M + r\\right)}{r^{3}} \\\\\n",
       "    \\Gamma{}^{r}{}_{r}{}_{r} &= \\frac{M}{r \\left(2 M - r\\right)} \\\\\n",
       "    \\Gamma{}^{r}{}_{\\theta}{}_{\\theta} &= 2 M - r \\\\\n",
       "    \\Gamma{}^{r}{}_{\\phi}{}_{\\phi} &= \\left(2 M - r\\right) \\sin^{2}{\\left(\\theta \\right)} \\\\\n",
       "    \\Gamma{}^{\\theta}{}_{r}{}_{\\theta} = \\Gamma{}^{\\theta}{}_{\\theta}{}_{r} = \\Gamma{}^{\\phi}{}_{r}{}_{\\phi} = \\Gamma{}^{\\phi}{}_{\\phi}{}_{r} &= \\frac{1}{r} \\\\\n",
       "    \\Gamma{}^{\\theta}{}_{\\phi}{}_{\\phi} &= - \\frac{\\sin{\\left(2 \\theta \\right)}}{2} \\\\\n",
       "    \\Gamma{}^{\\phi}{}_{\\theta}{}_{\\phi} = \\Gamma{}^{\\phi}{}_{\\phi}{}_{\\theta} &= \\frac{1}{\\tan{\\left(\\theta \\right)}} \n",
       "\\end{align*}$$"
      ],
      "text/plain": [
       "<IPython.core.display.Markdown object>"
      ]
     },
     "metadata": {},
     "output_type": "display_data"
    }
   ],
   "source": [
    "from OGRePy.abc import lamda, sigma\n",
    "\n",
    "WrongSchwarzschildChristoffel = T.s.Rational(1, 2) * Schwarzschild(lamda, sigma) @ (T.PartialD(mu) @ Schwarzschild(nu, sigma) + T.PartialD(nu) @ Schwarzschild(sigma, mu) - T.PartialD(sigma) @ Schwarzschild(mu, nu))\n",
    "WrongSchwarzschildChristoffel.symbol = \"Gamma\"\n",
    "WrongSchwarzschildChristoffel.default_indices = (1, -1, -1)\n",
    "~WrongSchwarzschildChristoffel"
   ]
  },
  {
   "cell_type": "markdown",
   "id": "99977a92",
   "metadata": {},
   "source": [
    "However, there is a problem; as we mentioned above, **the Christoffel symbols are not the components of a tensor**, meaning that the Levi-Civita connection does not transform as a tensor does under a coordinate transformation. Indeed, by transforming the metric in the definition, one can show that\n",
    "\n",
    "$$\n",
    "\\Gamma_ {\\mu'\\nu'}^{\\lambda'} = \\frac{\\partial x^{\\mu}}{\\partial x^{\\mu'}} \\frac{\\partial x^{\\nu}}{\\partial x^{\\nu'}} \\frac{\\partial x^{\\lambda'}}{\\partial x^{\\lambda}} \\Gamma_ {\\mu\\nu}^{\\lambda} + \\frac{\\partial x^{\\lambda'}}{\\partial x^{\\lambda}} \\frac{\\partial^{2} x^{\\lambda}}{\\partial x^{\\mu'} \\partial x^{\\nu'}}.\n",
    "$$\n",
    "\n",
    "The first term is the familiar transformation rule for a tensor, with one factor of the Jacobian per index as usual. However, there is also an extra second term, meaning that the Christoffel symbols do not transform like a tensor.\n",
    "\n",
    "(Similarly, you are also not supposed to raise or lower indices in the Christoffel symbols, but in practice, you can do that as long as you make it clear that it's just an abuse of notation - you are only adding factors of the metric, not creating a new tensor representation with different transformation properties.)\n",
    "\n",
    "Due to the extra transformation term, the tensor object `WrongSchwarzschildChristoffel` we calculated manually above **must not be used**! Instead, we should use the method `christoffel()` of the `Metric` class, which not only performs the calculation automatically for us, but also marks the result as a special tensor object with special transformation properties (more precisely, it will be an instance of the `Christoffel` subclass):"
   ]
  },
  {
   "cell_type": "code",
   "execution_count": 109,
   "id": "5e7e2ee3",
   "metadata": {
    "execution": {
     "iopub.execute_input": "2025-02-04T05:47:18.802320Z",
     "iopub.status.busy": "2025-02-04T05:47:18.802201Z",
     "iopub.status.idle": "2025-02-04T05:47:18.927304Z",
     "shell.execute_reply": "2025-02-04T05:47:18.927035Z"
    }
   },
   "outputs": [
    {
     "data": {
      "text/markdown": [
       "$$\\begin{align*}\n",
       "    \\Gamma{}^{t}{}_{t}{}_{r} = \\Gamma{}^{t}{}_{r}{}_{t} &= \\frac{M}{r \\left(- 2 M + r\\right)} \\\\\n",
       "    \\Gamma{}^{r}{}_{t}{}_{t} &= \\frac{M \\left(- 2 M + r\\right)}{r^{3}} \\\\\n",
       "    \\Gamma{}^{r}{}_{r}{}_{r} &= \\frac{M}{r \\left(2 M - r\\right)} \\\\\n",
       "    \\Gamma{}^{r}{}_{\\theta}{}_{\\theta} &= 2 M - r \\\\\n",
       "    \\Gamma{}^{r}{}_{\\phi}{}_{\\phi} &= \\left(2 M - r\\right) \\sin^{2}{\\left(\\theta \\right)} \\\\\n",
       "    \\Gamma{}^{\\theta}{}_{r}{}_{\\theta} = \\Gamma{}^{\\theta}{}_{\\theta}{}_{r} = \\Gamma{}^{\\phi}{}_{r}{}_{\\phi} = \\Gamma{}^{\\phi}{}_{\\phi}{}_{r} &= \\frac{1}{r} \\\\\n",
       "    \\Gamma{}^{\\theta}{}_{\\phi}{}_{\\phi} &= - \\frac{\\sin{\\left(2 \\theta \\right)}}{2} \\\\\n",
       "    \\Gamma{}^{\\phi}{}_{\\theta}{}_{\\phi} = \\Gamma{}^{\\phi}{}_{\\phi}{}_{\\theta} &= \\frac{1}{\\tan{\\left(\\theta \\right)}} \n",
       "\\end{align*}$$"
      ],
      "text/plain": [
       "<IPython.core.display.Markdown object>"
      ]
     },
     "metadata": {},
     "output_type": "display_data"
    }
   ],
   "source": [
    "~Schwarzschild.christoffel()"
   ]
  },
  {
   "cell_type": "markdown",
   "id": "29706e38",
   "metadata": {},
   "source": [
    "These are the same components we got before, as can be seen by explicitly comparing the components of the two tensor objects using the `T.compare()` operator:"
   ]
  },
  {
   "cell_type": "code",
   "execution_count": 110,
   "id": "a9dfa516",
   "metadata": {
    "execution": {
     "iopub.execute_input": "2025-02-04T05:47:18.928383Z",
     "iopub.status.busy": "2025-02-04T05:47:18.928266Z",
     "iopub.status.idle": "2025-02-04T05:47:18.930971Z",
     "shell.execute_reply": "2025-02-04T05:47:18.930719Z"
    }
   },
   "outputs": [
    {
     "data": {
      "text/plain": [
       "True"
      ]
     },
     "execution_count": 110,
     "metadata": {},
     "output_type": "execute_result"
    }
   ],
   "source": [
    "T.compare(Schwarzschild.christoffel(), WrongSchwarzschildChristoffel)"
   ]
  },
  {
   "cell_type": "markdown",
   "id": "3ece5b36",
   "metadata": {},
   "source": [
    "However, this comparison is only done in the default coordinate system, which is `Spherical`. The crucial difference between `WrongSchwarzschildChristoffel` and `Schwarzschild.christoffel()` is that `WrongSchwarzschildChristoffel` has the correct components **only** in spherical coordinates, while `Schwarzschild.christoffel()` is guaranteed to have the correct components in any coordinate system. In addition, `Schwarzschild.christoffel()` automatically has the correct index configuration `(1, -1, -1)`.\n",
    "\n",
    "For maximal clarity, let us demonstrate the discrepancy in the coordinate transformation with a simple test metric:"
   ]
  },
  {
   "cell_type": "code",
   "execution_count": 111,
   "id": "3bfc490e",
   "metadata": {
    "execution": {
     "iopub.execute_input": "2025-02-04T05:47:18.932016Z",
     "iopub.status.busy": "2025-02-04T05:47:18.931896Z",
     "iopub.status.idle": "2025-02-04T05:47:18.935648Z",
     "shell.execute_reply": "2025-02-04T05:47:18.935406Z"
    }
   },
   "outputs": [
    {
     "data": {
      "text/markdown": [
       "$$g{}_{\\mu}{}_{\\nu}\\Bigg|_{\\left(t, x, y, z\\right)} = \\left(\\begin{matrix}- x & 0 & 0 & 0\\\\0 & 1 & 0 & 0\\\\0 & 0 & 1 & 0\\\\0 & 0 & 0 & 1\\end{matrix}\\right)$$"
      ],
      "text/plain": [
       "<OGRePy._core.Metric at 0x1d2e6c5ee60>"
      ]
     },
     "execution_count": 111,
     "metadata": {},
     "output_type": "execute_result"
    }
   ],
   "source": [
    "SimpleMetric = T.Metric(\n",
    "    coords=Cartesian,\n",
    "    components=T.diag(-x, 1, 1, 1),\n",
    ")"
   ]
  },
  {
   "cell_type": "markdown",
   "id": "a5e7463e",
   "metadata": {},
   "source": [
    "We calculate its Christoffel symbols in two ways. First manually, as we did above for the Schwarzschild metric:"
   ]
  },
  {
   "cell_type": "code",
   "execution_count": 112,
   "id": "389f5ee8",
   "metadata": {
    "execution": {
     "iopub.execute_input": "2025-02-04T05:47:18.936521Z",
     "iopub.status.busy": "2025-02-04T05:47:18.936423Z",
     "iopub.status.idle": "2025-02-04T05:47:18.972377Z",
     "shell.execute_reply": "2025-02-04T05:47:18.971874Z"
    }
   },
   "outputs": [
    {
     "data": {
      "text/markdown": [
       "$$\\begin{align*}\n",
       "    \\Gamma{}^{t}{}_{t}{}_{x} = \\Gamma{}^{t}{}_{x}{}_{t} &= \\frac{1}{2 x} \\\\\n",
       "    \\Gamma{}^{x}{}_{t}{}_{t} &= \\frac{1}{2} \n",
       "\\end{align*}$$"
      ],
      "text/plain": [
       "<IPython.core.display.Markdown object>"
      ]
     },
     "metadata": {},
     "output_type": "display_data"
    }
   ],
   "source": [
    "WrongSimpleMetricChristoffel = T.s.Rational(1, 2) * SimpleMetric(lamda, sigma) @ (T.PartialD(mu) @ SimpleMetric(nu, sigma) + T.PartialD(nu) @ SimpleMetric(sigma, mu) - T.PartialD(sigma) @ SimpleMetric(mu, nu))\n",
    "WrongSimpleMetricChristoffel.symbol = \"Gamma\"\n",
    "WrongSimpleMetricChristoffel.default_indices = (1, -1, -1)\n",
    "~WrongSimpleMetricChristoffel"
   ]
  },
  {
   "cell_type": "markdown",
   "id": "d98d9e19",
   "metadata": {},
   "source": [
    "Then, with the built-in `christoffel()` method:"
   ]
  },
  {
   "cell_type": "code",
   "execution_count": 113,
   "id": "c27e722e",
   "metadata": {
    "execution": {
     "iopub.execute_input": "2025-02-04T05:47:18.973627Z",
     "iopub.status.busy": "2025-02-04T05:47:18.973505Z",
     "iopub.status.idle": "2025-02-04T05:47:18.988801Z",
     "shell.execute_reply": "2025-02-04T05:47:18.988489Z"
    }
   },
   "outputs": [
    {
     "data": {
      "text/markdown": [
       "$$\\begin{align*}\n",
       "    \\Gamma{}^{t}{}_{t}{}_{x} = \\Gamma{}^{t}{}_{x}{}_{t} &= \\frac{1}{2 x} \\\\\n",
       "    \\Gamma{}^{x}{}_{t}{}_{t} &= \\frac{1}{2} \n",
       "\\end{align*}$$"
      ],
      "text/plain": [
       "<IPython.core.display.Markdown object>"
      ]
     },
     "metadata": {},
     "output_type": "display_data"
    }
   ],
   "source": [
    "~(SimpleMetricChristoffel := SimpleMetric.christoffel())"
   ]
  },
  {
   "cell_type": "markdown",
   "id": "55d77210",
   "metadata": {},
   "source": [
    "Note that in this example we used Python's \"walrus operator\" `:=`, which is an assignment operator which returns the result of the assignment (this is also called an \"assignment expression\"). This allowed us to easily call `list()` on the result by prepending the `~` operator, instead of having to write an additional line.\n",
    "\n",
    "The two results have the same components, as expected. But now, let us now transform them to spherical coordinates. First, we transform the tensor object obtained using `christoffel()`:"
   ]
  },
  {
   "cell_type": "code",
   "execution_count": 114,
   "id": "ed679750",
   "metadata": {
    "execution": {
     "iopub.execute_input": "2025-02-04T05:47:18.990015Z",
     "iopub.status.busy": "2025-02-04T05:47:18.989816Z",
     "iopub.status.idle": "2025-02-04T05:47:19.481197Z",
     "shell.execute_reply": "2025-02-04T05:47:19.480842Z"
    }
   },
   "outputs": [
    {
     "data": {
      "text/markdown": [
       "$$\\begin{align*}\n",
       "    \\Gamma{}^{t}{}_{t}{}_{r} = \\Gamma{}^{t}{}_{r}{}_{t} &= \\frac{1}{2 r} \\\\\n",
       "    \\Gamma{}^{t}{}_{t}{}_{\\theta} = \\Gamma{}^{t}{}_{\\theta}{}_{t} &= \\frac{1}{2 \\tan{\\left(\\theta \\right)}} \\\\\n",
       "    \\Gamma{}^{t}{}_{t}{}_{\\phi} = \\Gamma{}^{t}{}_{\\phi}{}_{t} &= - \\frac{\\tan{\\left(\\phi \\right)}}{2} \\\\\n",
       "    \\Gamma{}^{r}{}_{t}{}_{t} &= \\frac{\\sin{\\left(\\theta \\right)} \\cos{\\left(\\phi \\right)}}{2} \\\\\n",
       "    \\Gamma{}^{r}{}_{\\theta}{}_{\\theta} &= - r \\\\\n",
       "    \\Gamma{}^{r}{}_{\\phi}{}_{\\phi} &= - r \\sin^{2}{\\left(\\theta \\right)} \\\\\n",
       "    \\Gamma{}^{\\theta}{}_{t}{}_{t} &= \\frac{\\cos{\\left(\\phi \\right)} \\cos{\\left(\\theta \\right)}}{2 r} \\\\\n",
       "    \\Gamma{}^{\\theta}{}_{r}{}_{\\theta} = \\Gamma{}^{\\theta}{}_{\\theta}{}_{r} = \\Gamma{}^{\\phi}{}_{r}{}_{\\phi} = \\Gamma{}^{\\phi}{}_{\\phi}{}_{r} &= \\frac{1}{r} \\\\\n",
       "    \\Gamma{}^{\\theta}{}_{\\phi}{}_{\\phi} &= - \\frac{\\sin{\\left(2 \\theta \\right)}}{2} \\\\\n",
       "    \\Gamma{}^{\\phi}{}_{t}{}_{t} &= - \\frac{\\sin{\\left(\\phi \\right)}}{2 r \\sin{\\left(\\theta \\right)}} \\\\\n",
       "    \\Gamma{}^{\\phi}{}_{\\theta}{}_{\\phi} = \\Gamma{}^{\\phi}{}_{\\phi}{}_{\\theta} &= \\frac{1}{\\tan{\\left(\\theta \\right)}} \n",
       "\\end{align*}$$"
      ],
      "text/plain": [
       "<IPython.core.display.Markdown object>"
      ]
     },
     "metadata": {},
     "output_type": "display_data"
    }
   ],
   "source": [
    "SimpleMetricChristoffel.list(coords=Spherical)"
   ]
  },
  {
   "cell_type": "markdown",
   "id": "4f8ca17a",
   "metadata": {},
   "source": [
    "This is the **correct** representation of the Christoffel symbols in spherical coordinates, as the extra term in the transformation was taken into account. However, if we transform the Christoffel symbols we obtained by manual calculation, we get:"
   ]
  },
  {
   "cell_type": "code",
   "execution_count": 115,
   "id": "11af6215",
   "metadata": {
    "execution": {
     "iopub.execute_input": "2025-02-04T05:47:19.482355Z",
     "iopub.status.busy": "2025-02-04T05:47:19.482245Z",
     "iopub.status.idle": "2025-02-04T05:47:19.969098Z",
     "shell.execute_reply": "2025-02-04T05:47:19.968802Z"
    }
   },
   "outputs": [
    {
     "data": {
      "text/markdown": [
       "$$\\begin{align*}\n",
       "    \\Gamma{}^{t}{}_{t}{}_{r} = \\Gamma{}^{t}{}_{r}{}_{t} &= \\frac{1}{2 r} \\\\\n",
       "    \\Gamma{}^{t}{}_{t}{}_{\\theta} = \\Gamma{}^{t}{}_{\\theta}{}_{t} &= \\frac{1}{2 \\tan{\\left(\\theta \\right)}} \\\\\n",
       "    \\Gamma{}^{t}{}_{t}{}_{\\phi} = \\Gamma{}^{t}{}_{\\phi}{}_{t} &= - \\frac{\\tan{\\left(\\phi \\right)}}{2} \\\\\n",
       "    \\Gamma{}^{r}{}_{t}{}_{t} &= \\frac{\\sin{\\left(\\theta \\right)} \\cos{\\left(\\phi \\right)}}{2} \\\\\n",
       "    \\Gamma{}^{\\theta}{}_{t}{}_{t} &= \\frac{\\cos{\\left(\\phi \\right)} \\cos{\\left(\\theta \\right)}}{2 r} \\\\\n",
       "    \\Gamma{}^{\\phi}{}_{t}{}_{t} &= - \\frac{\\sin{\\left(\\phi \\right)}}{2 r \\sin{\\left(\\theta \\right)}} \n",
       "\\end{align*}$$"
      ],
      "text/plain": [
       "<IPython.core.display.Markdown object>"
      ]
     },
     "metadata": {},
     "output_type": "display_data"
    }
   ],
   "source": [
    "WrongSimpleMetricChristoffel.list(coords=Spherical)"
   ]
  },
  {
   "cell_type": "markdown",
   "id": "0147fe19",
   "metadata": {},
   "source": [
    "This is **not** the correct result, since the transformation did not take into account the extra term. To verify that the former result is indeed the correct one, let us change the default coordinate system of `SimpleMetric` to spherical:"
   ]
  },
  {
   "cell_type": "code",
   "execution_count": 116,
   "id": "3aeca9c9",
   "metadata": {
    "execution": {
     "iopub.execute_input": "2025-02-04T05:47:19.970365Z",
     "iopub.status.busy": "2025-02-04T05:47:19.970206Z",
     "iopub.status.idle": "2025-02-04T05:47:20.075673Z",
     "shell.execute_reply": "2025-02-04T05:47:20.075336Z"
    }
   },
   "outputs": [],
   "source": [
    "SimpleMetric.default_coords = Spherical"
   ]
  },
  {
   "cell_type": "markdown",
   "id": "28bcd6c0",
   "metadata": {},
   "source": [
    "Now, when we calculate the Christoffel symbols manually from this metric, we will get their correct representation in spherical coordinates. This is because OGRePy always performs the calculations internally in the default coordinates of the first tensor in any operation (e.g. `A` for the contraction `A @ B`), so the result will be calculated **from scratch** in spherical coordinates, instead of being calculated first in Cartesian coordinates and then transformed:"
   ]
  },
  {
   "cell_type": "code",
   "execution_count": 117,
   "id": "3a8906ac",
   "metadata": {
    "execution": {
     "iopub.execute_input": "2025-02-04T05:47:20.076945Z",
     "iopub.status.busy": "2025-02-04T05:47:20.076823Z",
     "iopub.status.idle": "2025-02-04T05:47:20.437932Z",
     "shell.execute_reply": "2025-02-04T05:47:20.437635Z"
    }
   },
   "outputs": [
    {
     "data": {
      "text/markdown": [
       "$$\\begin{align*}\n",
       "    \\Gamma{}^{t}{}_{t}{}_{r} = \\Gamma{}^{t}{}_{r}{}_{t} &= \\frac{1}{2 r} \\\\\n",
       "    \\Gamma{}^{t}{}_{t}{}_{\\theta} = \\Gamma{}^{t}{}_{\\theta}{}_{t} &= \\frac{1}{2 \\tan{\\left(\\theta \\right)}} \\\\\n",
       "    \\Gamma{}^{t}{}_{t}{}_{\\phi} = \\Gamma{}^{t}{}_{\\phi}{}_{t} &= - \\frac{\\tan{\\left(\\phi \\right)}}{2} \\\\\n",
       "    \\Gamma{}^{r}{}_{t}{}_{t} &= \\frac{\\sin{\\left(\\theta \\right)} \\cos{\\left(\\phi \\right)}}{2} \\\\\n",
       "    \\Gamma{}^{r}{}_{\\theta}{}_{\\theta} &= - r \\\\\n",
       "    \\Gamma{}^{r}{}_{\\phi}{}_{\\phi} &= - r \\sin^{2}{\\left(\\theta \\right)} \\\\\n",
       "    \\Gamma{}^{\\theta}{}_{t}{}_{t} &= \\frac{\\cos{\\left(\\phi \\right)} \\cos{\\left(\\theta \\right)}}{2 r} \\\\\n",
       "    \\Gamma{}^{\\theta}{}_{r}{}_{\\theta} = \\Gamma{}^{\\theta}{}_{\\theta}{}_{r} = \\Gamma{}^{\\phi}{}_{r}{}_{\\phi} = \\Gamma{}^{\\phi}{}_{\\phi}{}_{r} &= \\frac{1}{r} \\\\\n",
       "    \\Gamma{}^{\\theta}{}_{\\phi}{}_{\\phi} &= - \\frac{\\sin{\\left(2 \\theta \\right)}}{2} \\\\\n",
       "    \\Gamma{}^{\\phi}{}_{t}{}_{t} &= - \\frac{\\sin{\\left(\\phi \\right)}}{2 r \\sin{\\left(\\theta \\right)}} \\\\\n",
       "    \\Gamma{}^{\\phi}{}_{\\theta}{}_{\\phi} = \\Gamma{}^{\\phi}{}_{\\phi}{}_{\\theta} &= \\frac{1}{\\tan{\\left(\\theta \\right)}} \n",
       "\\end{align*}$$"
      ],
      "text/plain": [
       "<IPython.core.display.Markdown object>"
      ]
     },
     "metadata": {},
     "output_type": "display_data"
    }
   ],
   "source": [
    "WrongSimpleMetricChristoffel2 = T.s.Rational(1, 2) * SimpleMetric(lamda, sigma) @ (T.PartialD(mu) @ SimpleMetric(nu, sigma) + T.PartialD(nu) @ SimpleMetric(sigma, mu) - T.PartialD(sigma) @ SimpleMetric(mu, nu))\n",
    "WrongSimpleMetricChristoffel2.symbol = \"Gamma\"\n",
    "WrongSimpleMetricChristoffel2.default_indices = (1, -1, -1)\n",
    "~WrongSimpleMetricChristoffel2"
   ]
  },
  {
   "cell_type": "markdown",
   "id": "9d8f66f9",
   "metadata": {},
   "source": [
    "Indeed, this is the exact same result we got when we transformed `SimpleMetricChristoffel` to spherical coordinates. We have learned an important lesson: since the Christoffel symbols do not transform like a tensor, we should always use the built-in method `christoffel()` of the `Metric` class to calculate them, which ensures that they transform properly. (Of course, this method is also much more convenient than writing the explicit definition...)\n",
    "\n",
    "For future use, let us define the **Friedmann-Lemaitre-Robertson-Walker (FLRW) metric**, which describes an expanding universe:"
   ]
  },
  {
   "cell_type": "code",
   "execution_count": 118,
   "id": "10f13dcd",
   "metadata": {
    "execution": {
     "iopub.execute_input": "2025-02-04T05:47:20.439234Z",
     "iopub.status.busy": "2025-02-04T05:47:20.439109Z",
     "iopub.status.idle": "2025-02-04T05:47:20.445606Z",
     "shell.execute_reply": "2025-02-04T05:47:20.445210Z"
    }
   },
   "outputs": [
    {
     "data": {
      "text/markdown": [
       "$$g{}_{\\mu}{}_{\\nu}\\Bigg|_{\\left(t, r, \\theta, \\phi\\right)} = \\left(\\begin{matrix}-1 & 0 & 0 & 0\\\\0 & a^{2} & 0 & 0\\\\0 & 0 & a^{2} r^{2} & 0\\\\0 & 0 & 0 & a^{2} r^{2} \\sin^{2}{\\left(\\theta \\right)}\\end{matrix}\\right)$$"
      ],
      "text/plain": [
       "<OGRePy._core.Metric at 0x1d2e6d2f490>"
      ]
     },
     "execution_count": 118,
     "metadata": {},
     "output_type": "execute_result"
    }
   ],
   "source": [
    "a_t = T.func(\"a\")(t)\n",
    "FLRW = T.Metric(\n",
    "    coords=Spherical,\n",
    "    components=T.diag(-1, a_t**2, a_t**2 * r**2, a_t**2 * r**2 * T.s.sin(theta) ** 2),\n",
    ")"
   ]
  },
  {
   "cell_type": "markdown",
   "id": "ef84890a",
   "metadata": {},
   "source": [
    "Here, $a(t)$ is the **scale factor**. This metric has the line element:"
   ]
  },
  {
   "cell_type": "code",
   "execution_count": 119,
   "id": "f160b56d",
   "metadata": {
    "execution": {
     "iopub.execute_input": "2025-02-04T05:47:20.447442Z",
     "iopub.status.busy": "2025-02-04T05:47:20.447266Z",
     "iopub.status.idle": "2025-02-04T05:47:20.452033Z",
     "shell.execute_reply": "2025-02-04T05:47:20.451741Z"
    }
   },
   "outputs": [
    {
     "data": {
      "text/latex": [
       "$\\displaystyle \\mathrm{d}\\phi^{2} r^{2} a^{2}{\\left(t \\right)} \\sin^{2}{\\left(\\theta \\right)} + \\mathrm{d}\\theta^{2} r^{2} a^{2}{\\left(t \\right)} + \\mathrm{d}r^{2} a^{2}{\\left(t \\right)} - \\mathrm{d}t^{2}$"
      ],
      "text/plain": [
       "\\mathrm{d}\\phi**2*r**2*a(t)**2*sin(\\theta)**2 + \\mathrm{d}\\theta**2*r**2*a(t)**2 + \\mathrm{d}r**2*a(t)**2 - \\mathrm{d}t**2"
      ]
     },
     "execution_count": 119,
     "metadata": {},
     "output_type": "execute_result"
    }
   ],
   "source": [
    "FLRW.line_element()"
   ]
  },
  {
   "cell_type": "markdown",
   "id": "e3dd78fa",
   "metadata": {},
   "source": [
    "and the volume element squared:"
   ]
  },
  {
   "cell_type": "code",
   "execution_count": 120,
   "id": "3a99949d",
   "metadata": {
    "execution": {
     "iopub.execute_input": "2025-02-04T05:47:20.453646Z",
     "iopub.status.busy": "2025-02-04T05:47:20.453523Z",
     "iopub.status.idle": "2025-02-04T05:47:20.466663Z",
     "shell.execute_reply": "2025-02-04T05:47:20.466119Z"
    }
   },
   "outputs": [
    {
     "data": {
      "text/latex": [
       "$\\displaystyle - r^{4} a^{6}{\\left(t \\right)} \\sin^{2}{\\left(\\theta \\right)}$"
      ],
      "text/plain": [
       "-r**4*a(t)**6*sin(\\theta)**2"
      ]
     },
     "execution_count": 120,
     "metadata": {},
     "output_type": "execute_result"
    }
   ],
   "source": [
    "FLRW.volume_element_squared()"
   ]
  },
  {
   "cell_type": "markdown",
   "id": "13a16b54",
   "metadata": {},
   "source": [
    "Its Christoffel symbols can be easily calculated using `christoffel()`:"
   ]
  },
  {
   "cell_type": "code",
   "execution_count": 121,
   "id": "60f7d85e",
   "metadata": {
    "execution": {
     "iopub.execute_input": "2025-02-04T05:47:20.468145Z",
     "iopub.status.busy": "2025-02-04T05:47:20.468026Z",
     "iopub.status.idle": "2025-02-04T05:47:20.668569Z",
     "shell.execute_reply": "2025-02-04T05:47:20.668259Z"
    }
   },
   "outputs": [
    {
     "data": {
      "text/markdown": [
       "$$\\begin{align*}\n",
       "    \\Gamma{}^{t}{}_{r}{}_{r} &= \\partial_{t} a a \\\\\n",
       "    \\Gamma{}^{t}{}_{\\theta}{}_{\\theta} &= \\partial_{t} a a r^{2} \\\\\n",
       "    \\Gamma{}^{t}{}_{\\phi}{}_{\\phi} &= \\partial_{t} a a r^{2} \\sin^{2}{\\left(\\theta \\right)} \\\\\n",
       "    \\Gamma{}^{r}{}_{t}{}_{r} = \\Gamma{}^{r}{}_{r}{}_{t} = \\Gamma{}^{\\theta}{}_{t}{}_{\\theta} = \\Gamma{}^{\\theta}{}_{\\theta}{}_{t} = \\Gamma{}^{\\phi}{}_{t}{}_{\\phi} = \\Gamma{}^{\\phi}{}_{\\phi}{}_{t} &= \\frac{\\partial_{t} a}{a} \\\\\n",
       "    \\Gamma{}^{r}{}_{\\theta}{}_{\\theta} &= - r \\\\\n",
       "    \\Gamma{}^{r}{}_{\\phi}{}_{\\phi} &= - r \\sin^{2}{\\left(\\theta \\right)} \\\\\n",
       "    \\Gamma{}^{\\theta}{}_{r}{}_{\\theta} = \\Gamma{}^{\\theta}{}_{\\theta}{}_{r} = \\Gamma{}^{\\phi}{}_{r}{}_{\\phi} = \\Gamma{}^{\\phi}{}_{\\phi}{}_{r} &= \\frac{1}{r} \\\\\n",
       "    \\Gamma{}^{\\theta}{}_{\\phi}{}_{\\phi} &= - \\frac{\\sin{\\left(2 \\theta \\right)}}{2} \\\\\n",
       "    \\Gamma{}^{\\phi}{}_{\\theta}{}_{\\phi} = \\Gamma{}^{\\phi}{}_{\\phi}{}_{\\theta} &= \\frac{1}{\\tan{\\left(\\theta \\right)}} \n",
       "\\end{align*}$$"
      ],
      "text/plain": [
       "<IPython.core.display.Markdown object>"
      ]
     },
     "metadata": {},
     "output_type": "display_data"
    }
   ],
   "source": [
    "~FLRW.christoffel()"
   ]
  },
  {
   "cell_type": "markdown",
   "id": "965ae7b2",
   "metadata": {},
   "source": [
    "### The Riemann tensor\n",
    "\n",
    "The **Riemann curvature tensor** $R^{\\rho}{}_ {\\sigma\\mu\\nu}$ can be calculated from the Christoffel symbols using the definition:\n",
    "\n",
    "$$\n",
    "R^{\\rho}{}_ {\\sigma\\mu\\nu} = \\partial_ {\\mu}\\Gamma^{\\rho}_ {\\nu\\sigma} - \\partial_ {\\nu}\\Gamma^{\\rho}_ {\\mu\\sigma} + \\Gamma^{\\rho}_ {\\mu\\lambda} \\Gamma^{\\lambda}_ {\\nu\\sigma} - \\Gamma^{\\rho}_ {\\nu\\lambda} \\Gamma^{\\lambda}_ {\\mu\\sigma}\n",
    "$$\n",
    "\n",
    "Even though it contains partial derivatives, it nonetheless transforms like a tensor under a change of coordinates, because the extra transformation terms exactly cancel each other. To calculate this tensor, we can simply write down the formula explicitly with the correct indices contracted:"
   ]
  },
  {
   "cell_type": "code",
   "execution_count": 122,
   "id": "acaf86a3",
   "metadata": {
    "execution": {
     "iopub.execute_input": "2025-02-04T05:47:20.669551Z",
     "iopub.status.busy": "2025-02-04T05:47:20.669434Z",
     "iopub.status.idle": "2025-02-04T05:47:22.134939Z",
     "shell.execute_reply": "2025-02-04T05:47:22.134671Z"
    }
   },
   "outputs": [
    {
     "data": {
      "text/markdown": [
       "$$\\begin{align*}\n",
       "    \\partial{}_{t} \\Gamma{}^{t}{}_{r}{}_{r} - \\partial{}_{r} \\Gamma{}^{t}{}_{t}{}_{r} + \\Gamma{}^{t}{}_{t}{}_{\\mu} \\Gamma{}^{\\mu}{}_{r}{}_{r} - \\Gamma{}^{t}{}_{r}{}_{\\mu} \\Gamma{}^{\\mu}{}_{t}{}_{r} &= \\frac{2 M}{r^{2} \\left(- 2 M + r\\right)} \\\\\n",
       "    \\partial{}_{t} \\Gamma{}^{t}{}_{\\theta}{}_{\\theta} - \\partial{}_{\\theta} \\Gamma{}^{t}{}_{t}{}_{\\theta} + \\Gamma{}^{t}{}_{t}{}_{\\mu} \\Gamma{}^{\\mu}{}_{\\theta}{}_{\\theta} - \\Gamma{}^{t}{}_{\\theta}{}_{\\mu} \\Gamma{}^{\\mu}{}_{t}{}_{\\theta} = \\partial{}_{r} \\Gamma{}^{r}{}_{\\theta}{}_{\\theta} - \\partial{}_{\\theta} \\Gamma{}^{r}{}_{r}{}_{\\theta} + \\Gamma{}^{r}{}_{r}{}_{\\mu} \\Gamma{}^{\\mu}{}_{\\theta}{}_{\\theta} - \\Gamma{}^{r}{}_{\\theta}{}_{\\mu} \\Gamma{}^{\\mu}{}_{r}{}_{\\theta} = -\\partial{}_{\\theta} \\Gamma{}^{t}{}_{t}{}_{\\theta} - \\partial{}_{t} \\Gamma{}^{t}{}_{\\theta}{}_{\\theta} + \\Gamma{}^{t}{}_{\\theta}{}_{\\mu} \\Gamma{}^{\\mu}{}_{t}{}_{\\theta} - \\Gamma{}^{t}{}_{t}{}_{\\mu} \\Gamma{}^{\\mu}{}_{\\theta}{}_{\\theta} = -\\partial{}_{\\theta} \\Gamma{}^{r}{}_{r}{}_{\\theta} - \\partial{}_{r} \\Gamma{}^{r}{}_{\\theta}{}_{\\theta} + \\Gamma{}^{r}{}_{\\theta}{}_{\\mu} \\Gamma{}^{\\mu}{}_{r}{}_{\\theta} - \\Gamma{}^{r}{}_{r}{}_{\\mu} \\Gamma{}^{\\mu}{}_{\\theta}{}_{\\theta} &= - \\frac{M}{r} \\\\\n",
       "    \\partial{}_{t} \\Gamma{}^{t}{}_{\\phi}{}_{\\phi} - \\partial{}_{\\phi} \\Gamma{}^{t}{}_{t}{}_{\\phi} + \\Gamma{}^{t}{}_{t}{}_{\\mu} \\Gamma{}^{\\mu}{}_{\\phi}{}_{\\phi} - \\Gamma{}^{t}{}_{\\phi}{}_{\\mu} \\Gamma{}^{\\mu}{}_{t}{}_{\\phi} = \\partial{}_{r} \\Gamma{}^{r}{}_{\\phi}{}_{\\phi} - \\partial{}_{\\phi} \\Gamma{}^{r}{}_{r}{}_{\\phi} + \\Gamma{}^{r}{}_{r}{}_{\\mu} \\Gamma{}^{\\mu}{}_{\\phi}{}_{\\phi} - \\Gamma{}^{r}{}_{\\phi}{}_{\\mu} \\Gamma{}^{\\mu}{}_{r}{}_{\\phi} = -\\partial{}_{\\phi} \\Gamma{}^{t}{}_{t}{}_{\\phi} - \\partial{}_{t} \\Gamma{}^{t}{}_{\\phi}{}_{\\phi} + \\Gamma{}^{t}{}_{\\phi}{}_{\\mu} \\Gamma{}^{\\mu}{}_{t}{}_{\\phi} - \\Gamma{}^{t}{}_{t}{}_{\\mu} \\Gamma{}^{\\mu}{}_{\\phi}{}_{\\phi} = -\\partial{}_{\\phi} \\Gamma{}^{r}{}_{r}{}_{\\phi} - \\partial{}_{r} \\Gamma{}^{r}{}_{\\phi}{}_{\\phi} + \\Gamma{}^{r}{}_{\\phi}{}_{\\mu} \\Gamma{}^{\\mu}{}_{r}{}_{\\phi} - \\Gamma{}^{r}{}_{r}{}_{\\mu} \\Gamma{}^{\\mu}{}_{\\phi}{}_{\\phi} &= - \\frac{M \\sin^{2}{\\left(\\theta \\right)}}{r} \\\\\n",
       "    \\partial{}_{t} \\Gamma{}^{r}{}_{r}{}_{t} - \\partial{}_{r} \\Gamma{}^{r}{}_{t}{}_{t} + \\Gamma{}^{r}{}_{t}{}_{\\mu} \\Gamma{}^{\\mu}{}_{r}{}_{t} - \\Gamma{}^{r}{}_{r}{}_{\\mu} \\Gamma{}^{\\mu}{}_{t}{}_{t} &= \\frac{2 M \\left(- 2 M + r\\right)}{r^{4}} \\\\\n",
       "    \\partial{}_{t} \\Gamma{}^{\\theta}{}_{\\theta}{}_{t} - \\partial{}_{\\theta} \\Gamma{}^{\\theta}{}_{t}{}_{t} + \\Gamma{}^{\\theta}{}_{t}{}_{\\mu} \\Gamma{}^{\\mu}{}_{\\theta}{}_{t} - \\Gamma{}^{\\theta}{}_{\\theta}{}_{\\mu} \\Gamma{}^{\\mu}{}_{t}{}_{t} = \\partial{}_{t} \\Gamma{}^{\\phi}{}_{\\phi}{}_{t} - \\partial{}_{\\phi} \\Gamma{}^{\\phi}{}_{t}{}_{t} + \\Gamma{}^{\\phi}{}_{t}{}_{\\mu} \\Gamma{}^{\\mu}{}_{\\phi}{}_{t} - \\Gamma{}^{\\phi}{}_{\\phi}{}_{\\mu} \\Gamma{}^{\\mu}{}_{t}{}_{t} &= \\frac{M \\left(2 M - r\\right)}{r^{4}} \\\\\n",
       "    \\partial{}_{r} \\Gamma{}^{t}{}_{t}{}_{r} - \\partial{}_{t} \\Gamma{}^{t}{}_{r}{}_{r} + \\Gamma{}^{t}{}_{r}{}_{\\mu} \\Gamma{}^{\\mu}{}_{t}{}_{r} - \\Gamma{}^{t}{}_{t}{}_{\\mu} \\Gamma{}^{\\mu}{}_{r}{}_{r} &= \\frac{2 M}{r^{2} \\left(2 M - r\\right)} \\\\\n",
       "    \\partial{}_{r} \\Gamma{}^{r}{}_{t}{}_{t} - \\partial{}_{t} \\Gamma{}^{r}{}_{r}{}_{t} + \\Gamma{}^{r}{}_{r}{}_{\\mu} \\Gamma{}^{\\mu}{}_{t}{}_{t} - \\Gamma{}^{r}{}_{t}{}_{\\mu} \\Gamma{}^{\\mu}{}_{r}{}_{t} &= \\frac{2 M \\left(2 M - r\\right)}{r^{4}} \\\\\n",
       "    \\partial{}_{r} \\Gamma{}^{\\theta}{}_{\\theta}{}_{r} - \\partial{}_{\\theta} \\Gamma{}^{\\theta}{}_{r}{}_{r} + \\Gamma{}^{\\theta}{}_{r}{}_{\\mu} \\Gamma{}^{\\mu}{}_{\\theta}{}_{r} - \\Gamma{}^{\\theta}{}_{\\theta}{}_{\\mu} \\Gamma{}^{\\mu}{}_{r}{}_{r} = \\partial{}_{r} \\Gamma{}^{\\phi}{}_{\\phi}{}_{r} - \\partial{}_{\\phi} \\Gamma{}^{\\phi}{}_{r}{}_{r} + \\Gamma{}^{\\phi}{}_{r}{}_{\\mu} \\Gamma{}^{\\mu}{}_{\\phi}{}_{r} - \\Gamma{}^{\\phi}{}_{\\phi}{}_{\\mu} \\Gamma{}^{\\mu}{}_{r}{}_{r} &= \\frac{M}{r^{2} \\left(- 2 M + r\\right)} \\\\\n",
       "    \\partial{}_{\\theta} \\Gamma{}^{\\theta}{}_{t}{}_{t} - \\partial{}_{t} \\Gamma{}^{\\theta}{}_{\\theta}{}_{t} + \\Gamma{}^{\\theta}{}_{\\theta}{}_{\\mu} \\Gamma{}^{\\mu}{}_{t}{}_{t} - \\Gamma{}^{\\theta}{}_{t}{}_{\\mu} \\Gamma{}^{\\mu}{}_{\\theta}{}_{t} = \\partial{}_{\\phi} \\Gamma{}^{\\phi}{}_{t}{}_{t} - \\partial{}_{t} \\Gamma{}^{\\phi}{}_{\\phi}{}_{t} + \\Gamma{}^{\\phi}{}_{\\phi}{}_{\\mu} \\Gamma{}^{\\mu}{}_{t}{}_{t} - \\Gamma{}^{\\phi}{}_{t}{}_{\\mu} \\Gamma{}^{\\mu}{}_{\\phi}{}_{t} &= \\frac{M \\left(- 2 M + r\\right)}{r^{4}} \\\\\n",
       "    \\partial{}_{\\theta} \\Gamma{}^{\\theta}{}_{r}{}_{r} - \\partial{}_{r} \\Gamma{}^{\\theta}{}_{\\theta}{}_{r} + \\Gamma{}^{\\theta}{}_{\\theta}{}_{\\mu} \\Gamma{}^{\\mu}{}_{r}{}_{r} - \\Gamma{}^{\\theta}{}_{r}{}_{\\mu} \\Gamma{}^{\\mu}{}_{\\theta}{}_{r} = \\partial{}_{\\phi} \\Gamma{}^{\\phi}{}_{r}{}_{r} - \\partial{}_{r} \\Gamma{}^{\\phi}{}_{\\phi}{}_{r} + \\Gamma{}^{\\phi}{}_{\\phi}{}_{\\mu} \\Gamma{}^{\\mu}{}_{r}{}_{r} - \\Gamma{}^{\\phi}{}_{r}{}_{\\mu} \\Gamma{}^{\\mu}{}_{\\phi}{}_{r} &= \\frac{M}{r^{2} \\left(2 M - r\\right)} \\\\\n",
       "    \\partial{}_{\\theta} \\Gamma{}^{\\theta}{}_{\\phi}{}_{\\phi} - \\partial{}_{\\phi} \\Gamma{}^{\\theta}{}_{\\theta}{}_{\\phi} + \\Gamma{}^{\\theta}{}_{\\theta}{}_{\\mu} \\Gamma{}^{\\mu}{}_{\\phi}{}_{\\phi} - \\Gamma{}^{\\theta}{}_{\\phi}{}_{\\mu} \\Gamma{}^{\\mu}{}_{\\theta}{}_{\\phi} = -\\partial{}_{\\phi} \\Gamma{}^{\\theta}{}_{\\theta}{}_{\\phi} - \\partial{}_{\\theta} \\Gamma{}^{\\theta}{}_{\\phi}{}_{\\phi} + \\Gamma{}^{\\theta}{}_{\\phi}{}_{\\mu} \\Gamma{}^{\\mu}{}_{\\theta}{}_{\\phi} - \\Gamma{}^{\\theta}{}_{\\theta}{}_{\\mu} \\Gamma{}^{\\mu}{}_{\\phi}{}_{\\phi} &= \\frac{2 M \\sin^{2}{\\left(\\theta \\right)}}{r} \\\\\n",
       "    \\partial{}_{\\theta} \\Gamma{}^{\\phi}{}_{\\phi}{}_{\\theta} - \\partial{}_{\\phi} \\Gamma{}^{\\phi}{}_{\\theta}{}_{\\theta} + \\Gamma{}^{\\phi}{}_{\\theta}{}_{\\mu} \\Gamma{}^{\\mu}{}_{\\phi}{}_{\\theta} - \\Gamma{}^{\\phi}{}_{\\phi}{}_{\\mu} \\Gamma{}^{\\mu}{}_{\\theta}{}_{\\theta} = -\\partial{}_{\\phi} \\Gamma{}^{\\phi}{}_{\\theta}{}_{\\theta} - \\partial{}_{\\theta} \\Gamma{}^{\\phi}{}_{\\phi}{}_{\\theta} + \\Gamma{}^{\\phi}{}_{\\phi}{}_{\\mu} \\Gamma{}^{\\mu}{}_{\\theta}{}_{\\theta} - \\Gamma{}^{\\phi}{}_{\\theta}{}_{\\mu} \\Gamma{}^{\\mu}{}_{\\phi}{}_{\\theta} &= - \\frac{2 M}{r} \n",
       "\\end{align*}$$"
      ],
      "text/plain": [
       "<IPython.core.display.Markdown object>"
      ]
     },
     "metadata": {},
     "output_type": "display_data"
    }
   ],
   "source": [
    "~(SchwarzschildRiemann := (\n",
    "    T.PartialD(mu) @ Schwarzschild.christoffel(rho, nu, sigma) - T.PartialD(nu) @ Schwarzschild.christoffel(rho, mu, sigma) + Schwarzschild.christoffel(rho, mu, lamda) @ Schwarzschild.christoffel(lamda, nu, sigma) - Schwarzschild.christoffel(rho, nu, lamda) @ Schwarzschild.christoffel(lamda, mu, sigma)\n",
    "))"
   ]
  },
  {
   "cell_type": "markdown",
   "id": "1557ff55",
   "metadata": {},
   "source": [
    "Notice that this time we used the `christoffel()` method with arguments corresponding to an index specification; this is simply a shortcut for using the `()` operator on the resulting tensor, as we have done above. Let us change the symbol to $R$, since the current symbol contains the entire formula, and is very cumbersome to display multiple times:"
   ]
  },
  {
   "cell_type": "code",
   "execution_count": 123,
   "id": "d3f51630",
   "metadata": {
    "execution": {
     "iopub.execute_input": "2025-02-04T05:47:22.136260Z",
     "iopub.status.busy": "2025-02-04T05:47:22.136140Z",
     "iopub.status.idle": "2025-02-04T05:47:22.144762Z",
     "shell.execute_reply": "2025-02-04T05:47:22.144506Z"
    }
   },
   "outputs": [
    {
     "data": {
      "text/markdown": [
       "$$\\begin{align*}\n",
       "    R{}_{t}{}^{t}{}_{r}{}_{r} &= \\frac{2 M}{r^{2} \\left(- 2 M + r\\right)} \\\\\n",
       "    R{}_{t}{}^{t}{}_{\\theta}{}_{\\theta} = R{}_{r}{}^{r}{}_{\\theta}{}_{\\theta} = -R{}_{\\theta}{}^{t}{}_{t}{}_{\\theta} = -R{}_{\\theta}{}^{r}{}_{r}{}_{\\theta} &= - \\frac{M}{r} \\\\\n",
       "    R{}_{t}{}^{t}{}_{\\phi}{}_{\\phi} = R{}_{r}{}^{r}{}_{\\phi}{}_{\\phi} = -R{}_{\\phi}{}^{t}{}_{t}{}_{\\phi} = -R{}_{\\phi}{}^{r}{}_{r}{}_{\\phi} &= - \\frac{M \\sin^{2}{\\left(\\theta \\right)}}{r} \\\\\n",
       "    R{}_{t}{}^{r}{}_{r}{}_{t} &= \\frac{2 M \\left(- 2 M + r\\right)}{r^{4}} \\\\\n",
       "    R{}_{t}{}^{\\theta}{}_{\\theta}{}_{t} = R{}_{t}{}^{\\phi}{}_{\\phi}{}_{t} &= \\frac{M \\left(2 M - r\\right)}{r^{4}} \\\\\n",
       "    R{}_{r}{}^{t}{}_{t}{}_{r} &= \\frac{2 M}{r^{2} \\left(2 M - r\\right)} \\\\\n",
       "    R{}_{r}{}^{r}{}_{t}{}_{t} &= \\frac{2 M \\left(2 M - r\\right)}{r^{4}} \\\\\n",
       "    R{}_{r}{}^{\\theta}{}_{\\theta}{}_{r} = R{}_{r}{}^{\\phi}{}_{\\phi}{}_{r} &= \\frac{M}{r^{2} \\left(- 2 M + r\\right)} \\\\\n",
       "    R{}_{\\theta}{}^{\\theta}{}_{t}{}_{t} = R{}_{\\phi}{}^{\\phi}{}_{t}{}_{t} &= \\frac{M \\left(- 2 M + r\\right)}{r^{4}} \\\\\n",
       "    R{}_{\\theta}{}^{\\theta}{}_{r}{}_{r} = R{}_{\\phi}{}^{\\phi}{}_{r}{}_{r} &= \\frac{M}{r^{2} \\left(2 M - r\\right)} \\\\\n",
       "    R{}_{\\theta}{}^{\\theta}{}_{\\phi}{}_{\\phi} = -R{}_{\\phi}{}^{\\theta}{}_{\\theta}{}_{\\phi} &= \\frac{2 M \\sin^{2}{\\left(\\theta \\right)}}{r} \\\\\n",
       "    R{}_{\\theta}{}^{\\phi}{}_{\\phi}{}_{\\theta} = -R{}_{\\phi}{}^{\\phi}{}_{\\theta}{}_{\\theta} &= - \\frac{2 M}{r} \n",
       "\\end{align*}$$"
      ],
      "text/plain": [
       "<IPython.core.display.Markdown object>"
      ]
     },
     "metadata": {},
     "output_type": "display_data"
    }
   ],
   "source": [
    "SchwarzschildRiemann.symbol = \"R\"\n",
    "~SchwarzschildRiemann"
   ]
  },
  {
   "cell_type": "markdown",
   "id": "4ca2c7d2",
   "metadata": {},
   "source": [
    "Here we run into another issue: we wanted $R^{\\rho}{}_ {\\sigma\\mu\\nu}$, but what we actually got was $R_ {\\mu}^{\\rho}{}_ {\\nu\\sigma}$, since this is the order of indices from left to right in the definition. There are two ways to fix this in OGRePy. One is to use the `permute()` method. We simply need to call `permute()` with $\\mu \\rho \\nu \\sigma$ as the old indices and $\\rho \\sigma \\mu \\nu$ as the new indices to fix the issue:"
   ]
  },
  {
   "cell_type": "code",
   "execution_count": 124,
   "id": "84c1ff77",
   "metadata": {
    "execution": {
     "iopub.execute_input": "2025-02-04T05:47:22.145897Z",
     "iopub.status.busy": "2025-02-04T05:47:22.145781Z",
     "iopub.status.idle": "2025-02-04T05:47:22.157521Z",
     "shell.execute_reply": "2025-02-04T05:47:22.157292Z"
    }
   },
   "outputs": [
    {
     "data": {
      "text/markdown": [
       "$$\\begin{align*}\n",
       "    R{}^{t}{}_{r}{}_{t}{}_{r} &= \\frac{2 M}{r^{2} \\left(- 2 M + r\\right)} \\\\\n",
       "    R{}^{t}{}_{r}{}_{r}{}_{t} &= \\frac{2 M}{r^{2} \\left(2 M - r\\right)} \\\\\n",
       "    R{}^{t}{}_{\\theta}{}_{t}{}_{\\theta} = -R{}^{t}{}_{\\theta}{}_{\\theta}{}_{t} = R{}^{r}{}_{\\theta}{}_{r}{}_{\\theta} = -R{}^{r}{}_{\\theta}{}_{\\theta}{}_{r} &= - \\frac{M}{r} \\\\\n",
       "    R{}^{t}{}_{\\phi}{}_{t}{}_{\\phi} = -R{}^{t}{}_{\\phi}{}_{\\phi}{}_{t} = R{}^{r}{}_{\\phi}{}_{r}{}_{\\phi} = -R{}^{r}{}_{\\phi}{}_{\\phi}{}_{r} &= - \\frac{M \\sin^{2}{\\left(\\theta \\right)}}{r} \\\\\n",
       "    R{}^{r}{}_{t}{}_{t}{}_{r} &= \\frac{2 M \\left(- 2 M + r\\right)}{r^{4}} \\\\\n",
       "    R{}^{r}{}_{t}{}_{r}{}_{t} &= \\frac{2 M \\left(2 M - r\\right)}{r^{4}} \\\\\n",
       "    R{}^{\\theta}{}_{t}{}_{t}{}_{\\theta} = R{}^{\\phi}{}_{t}{}_{t}{}_{\\phi} &= \\frac{M \\left(2 M - r\\right)}{r^{4}} \\\\\n",
       "    R{}^{\\theta}{}_{t}{}_{\\theta}{}_{t} = R{}^{\\phi}{}_{t}{}_{\\phi}{}_{t} &= \\frac{M \\left(- 2 M + r\\right)}{r^{4}} \\\\\n",
       "    R{}^{\\theta}{}_{r}{}_{r}{}_{\\theta} = R{}^{\\phi}{}_{r}{}_{r}{}_{\\phi} &= \\frac{M}{r^{2} \\left(- 2 M + r\\right)} \\\\\n",
       "    R{}^{\\theta}{}_{r}{}_{\\theta}{}_{r} = R{}^{\\phi}{}_{r}{}_{\\phi}{}_{r} &= \\frac{M}{r^{2} \\left(2 M - r\\right)} \\\\\n",
       "    R{}^{\\theta}{}_{\\phi}{}_{\\theta}{}_{\\phi} = -R{}^{\\theta}{}_{\\phi}{}_{\\phi}{}_{\\theta} &= \\frac{2 M \\sin^{2}{\\left(\\theta \\right)}}{r} \\\\\n",
       "    R{}^{\\phi}{}_{\\theta}{}_{\\theta}{}_{\\phi} = -R{}^{\\phi}{}_{\\theta}{}_{\\phi}{}_{\\theta} &= - \\frac{2 M}{r} \n",
       "\\end{align*}$$"
      ],
      "text/plain": [
       "<IPython.core.display.Markdown object>"
      ]
     },
     "metadata": {},
     "output_type": "display_data"
    }
   ],
   "source": [
    "SchwarzschildRiemann = SchwarzschildRiemann.permute(old=[mu, rho, nu, sigma], new=[rho, sigma, mu, nu])\n",
    "~SchwarzschildRiemann"
   ]
  },
  {
   "cell_type": "markdown",
   "id": "8044d43d",
   "metadata": {},
   "source": [
    "Note that `permute()` creates a new tensor which is equal to the original tensor but with permuted indices; it does not change the original tensor. Tensor components in OGRePy are **immutable**, meaning that they are specified once and for all and cannot be changed. Therefore, the only way to permute the indices, which changes the tensor's components, is to create a new tensor with the permuted components.\n",
    "\n",
    "Now we have obtained the correct expression for the Riemann tensor of the Schwarzschild metric. In fact, we did not have to specify the old indices explicitly; since `SchwarzschildRiemann` is the result of a tensor calculation, it actually remembers the index specification it obtained as a result of the calculation, and this will be used automatically if the `old` argument is not specified.\n",
    "\n",
    "The other way to fix this is to wrap the original calculation inside the `calc()` function, which is simply a convenience function that allows us to calculate a tensor, change its symbol, and permute its indices in just one function call. We will show examples of its usage below.\n",
    "\n",
    "### Exact sign checks with `list()`\n",
    "\n",
    "The sharp-eyed reader may have noticed that, when we used `list()` on the Schwarzschild Riemann tensor above, it listed, for example, the components $R^{t}{}_ {rtr}$ and $R^{t}{}_ {rrt}$ separately, even though they are the negatives of each other. Unfortunately, SymPy's comparison operation is very rudimentary, comparing the general structure of the expression rather than an actual mathematical comparison. This can be seen on even simpler comparisons - for example, the following comparison will yield `False` even though the two expressions are clearly mathematically equal:"
   ]
  },
  {
   "cell_type": "code",
   "execution_count": 125,
   "id": "1d1c03aa",
   "metadata": {
    "execution": {
     "iopub.execute_input": "2025-02-04T05:47:22.158608Z",
     "iopub.status.busy": "2025-02-04T05:47:22.158496Z",
     "iopub.status.idle": "2025-02-04T05:47:22.161058Z",
     "shell.execute_reply": "2025-02-04T05:47:22.160661Z"
    }
   },
   "outputs": [
    {
     "data": {
      "text/plain": [
       "False"
      ]
     },
     "execution_count": 125,
     "metadata": {},
     "output_type": "execute_result"
    }
   ],
   "source": [
    "expr1 = 1 / (1 - x)\n",
    "expr2 = -(1 / (x - 1))\n",
    "expr1 == expr2"
   ]
  },
  {
   "cell_type": "markdown",
   "id": "1eb41a86",
   "metadata": {},
   "source": [
    "This can be resolved by noticing that $a = b$ if and only if $a - b = 0$. So if we subtract one expression from the other, simplify the result, and compare to zero, we will get a correct answer:"
   ]
  },
  {
   "cell_type": "code",
   "execution_count": 126,
   "id": "bcf88045",
   "metadata": {
    "execution": {
     "iopub.execute_input": "2025-02-04T05:47:22.162075Z",
     "iopub.status.busy": "2025-02-04T05:47:22.161973Z",
     "iopub.status.idle": "2025-02-04T05:47:22.166251Z",
     "shell.execute_reply": "2025-02-04T05:47:22.165991Z"
    }
   },
   "outputs": [
    {
     "data": {
      "text/plain": [
       "True"
      ]
     },
     "execution_count": 126,
     "metadata": {},
     "output_type": "execute_result"
    }
   ],
   "source": [
    "T.s.simplify(expr1 - expr2) == 0"
   ]
  },
  {
   "cell_type": "markdown",
   "id": "4ed9e41f",
   "metadata": {},
   "source": [
    "Normally, `list()` doesn't do this for every single component of the tensor, since that could be a very time-consuming task for large tensors with complicated components. However, we could ask `list()` to perform these more precise comparisons by adding the `exact=True` option:"
   ]
  },
  {
   "cell_type": "code",
   "execution_count": 127,
   "id": "d52cdff0",
   "metadata": {
    "execution": {
     "iopub.execute_input": "2025-02-04T05:47:22.167385Z",
     "iopub.status.busy": "2025-02-04T05:47:22.167278Z",
     "iopub.status.idle": "2025-02-04T05:47:23.633397Z",
     "shell.execute_reply": "2025-02-04T05:47:23.633119Z"
    }
   },
   "outputs": [
    {
     "data": {
      "text/markdown": [
       "$$\\begin{align*}\n",
       "    R{}^{t}{}_{r}{}_{t}{}_{r} = -R{}^{t}{}_{r}{}_{r}{}_{t} &= \\frac{2 M}{r^{2} \\left(- 2 M + r\\right)} \\\\\n",
       "    R{}^{t}{}_{\\theta}{}_{t}{}_{\\theta} = -R{}^{t}{}_{\\theta}{}_{\\theta}{}_{t} = R{}^{r}{}_{\\theta}{}_{r}{}_{\\theta} = -R{}^{r}{}_{\\theta}{}_{\\theta}{}_{r} &= - \\frac{M}{r} \\\\\n",
       "    R{}^{t}{}_{\\phi}{}_{t}{}_{\\phi} = -R{}^{t}{}_{\\phi}{}_{\\phi}{}_{t} = R{}^{r}{}_{\\phi}{}_{r}{}_{\\phi} = -R{}^{r}{}_{\\phi}{}_{\\phi}{}_{r} &= - \\frac{M \\sin^{2}{\\left(\\theta \\right)}}{r} \\\\\n",
       "    R{}^{r}{}_{t}{}_{t}{}_{r} = -R{}^{r}{}_{t}{}_{r}{}_{t} &= \\frac{2 M \\left(- 2 M + r\\right)}{r^{4}} \\\\\n",
       "    R{}^{\\theta}{}_{t}{}_{t}{}_{\\theta} = -R{}^{\\theta}{}_{t}{}_{\\theta}{}_{t} = R{}^{\\phi}{}_{t}{}_{t}{}_{\\phi} = -R{}^{\\phi}{}_{t}{}_{\\phi}{}_{t} &= \\frac{M \\left(2 M - r\\right)}{r^{4}} \\\\\n",
       "    R{}^{\\theta}{}_{r}{}_{r}{}_{\\theta} = -R{}^{\\theta}{}_{r}{}_{\\theta}{}_{r} = R{}^{\\phi}{}_{r}{}_{r}{}_{\\phi} = -R{}^{\\phi}{}_{r}{}_{\\phi}{}_{r} &= \\frac{M}{r^{2} \\left(- 2 M + r\\right)} \\\\\n",
       "    R{}^{\\theta}{}_{\\phi}{}_{\\theta}{}_{\\phi} = -R{}^{\\theta}{}_{\\phi}{}_{\\phi}{}_{\\theta} &= \\frac{2 M \\sin^{2}{\\left(\\theta \\right)}}{r} \\\\\n",
       "    R{}^{\\phi}{}_{\\theta}{}_{\\theta}{}_{\\phi} = -R{}^{\\phi}{}_{\\theta}{}_{\\phi}{}_{\\theta} &= - \\frac{2 M}{r} \n",
       "\\end{align*}$$"
      ],
      "text/plain": [
       "<IPython.core.display.Markdown object>"
      ]
     },
     "metadata": {},
     "output_type": "display_data"
    }
   ],
   "source": [
    "SchwarzschildRiemann.list(exact=True)"
   ]
  },
  {
   "cell_type": "markdown",
   "id": "72c28b87",
   "metadata": {},
   "source": [
    "You can see that now `list()` correctly identifies all of the components that are negatives of each other, resulting in a much shorter list. If you're wondering why this option only applies to comparing components that are the negative of each other, rather than all comparison - that is because OGRePy automatically simplifies all tensor components in advance, so if two components are the same, they should already be simplified to the exact same expression.\n",
    "\n",
    "The Riemann tensor with all its indices lowered satisfies the following symmetry and anti-symmetry relations:\n",
    "\n",
    "$$\n",
    "R_ {\\rho\\sigma\\mu\\nu} = -R_ {\\sigma\\rho\\mu\\nu} = -R_ {\\rho\\sigma\\nu\\mu} = R_ {\\mu\\nu\\rho\\sigma}\n",
    "$$\n",
    "\n",
    "We can verify this for the Schwarzschild Riemann tensor using `list()` with `exact=True`:"
   ]
  },
  {
   "cell_type": "code",
   "execution_count": 128,
   "id": "727db012",
   "metadata": {
    "execution": {
     "iopub.execute_input": "2025-02-04T05:47:23.634491Z",
     "iopub.status.busy": "2025-02-04T05:47:23.634372Z",
     "iopub.status.idle": "2025-02-04T05:47:25.383702Z",
     "shell.execute_reply": "2025-02-04T05:47:25.383279Z"
    }
   },
   "outputs": [
    {
     "data": {
      "text/markdown": [
       "$$\\begin{align*}\n",
       "    R{}_{t}{}_{r}{}_{t}{}_{r} = -R{}_{t}{}_{r}{}_{r}{}_{t} = -R{}_{r}{}_{t}{}_{t}{}_{r} = R{}_{r}{}_{t}{}_{r}{}_{t} &= - \\frac{2 M}{r^{3}} \\\\\n",
       "    R{}_{t}{}_{\\theta}{}_{t}{}_{\\theta} = -R{}_{t}{}_{\\theta}{}_{\\theta}{}_{t} = -R{}_{\\theta}{}_{t}{}_{t}{}_{\\theta} = R{}_{\\theta}{}_{t}{}_{\\theta}{}_{t} &= \\frac{M \\left(- 2 M + r\\right)}{r^{2}} \\\\\n",
       "    R{}_{t}{}_{\\phi}{}_{t}{}_{\\phi} = -R{}_{t}{}_{\\phi}{}_{\\phi}{}_{t} = -R{}_{\\phi}{}_{t}{}_{t}{}_{\\phi} = R{}_{\\phi}{}_{t}{}_{\\phi}{}_{t} &= \\frac{M \\left(- 2 M + r\\right) \\sin^{2}{\\left(\\theta \\right)}}{r^{2}} \\\\\n",
       "    R{}_{r}{}_{\\theta}{}_{r}{}_{\\theta} = -R{}_{r}{}_{\\theta}{}_{\\theta}{}_{r} = -R{}_{\\theta}{}_{r}{}_{r}{}_{\\theta} = R{}_{\\theta}{}_{r}{}_{\\theta}{}_{r} &= \\frac{M}{2 M - r} \\\\\n",
       "    R{}_{r}{}_{\\phi}{}_{r}{}_{\\phi} = -R{}_{r}{}_{\\phi}{}_{\\phi}{}_{r} = -R{}_{\\phi}{}_{r}{}_{r}{}_{\\phi} = R{}_{\\phi}{}_{r}{}_{\\phi}{}_{r} &= \\frac{M \\sin^{2}{\\left(\\theta \\right)}}{2 M - r} \\\\\n",
       "    R{}_{\\theta}{}_{\\phi}{}_{\\theta}{}_{\\phi} = -R{}_{\\theta}{}_{\\phi}{}_{\\phi}{}_{\\theta} = -R{}_{\\phi}{}_{\\theta}{}_{\\theta}{}_{\\phi} = R{}_{\\phi}{}_{\\theta}{}_{\\phi}{}_{\\theta} &= 2 M r \\sin^{2}{\\left(\\theta \\right)} \n",
       "\\end{align*}$$"
      ],
      "text/plain": [
       "<IPython.core.display.Markdown object>"
      ]
     },
     "metadata": {},
     "output_type": "display_data"
    }
   ],
   "source": [
    "SchwarzschildRiemann.list(indices=(-1, -1, -1, -1), exact=True)"
   ]
  },
  {
   "cell_type": "markdown",
   "id": "0f67b9a7",
   "metadata": {},
   "source": [
    "This shows that the symmetry and anti-symmetry relations are indeed satisfied.\n",
    "\n",
    "### The `riemann()` method and caching\n",
    "\n",
    "Don't worry - you don't need to write the explicit definition of the Riemann tensor every time you want to calculate it. Instead, OGRePy offers the method `riemann()` of the `Metric` class. For example, for the FLRW metric we get:"
   ]
  },
  {
   "cell_type": "code",
   "execution_count": 129,
   "id": "7add4f61",
   "metadata": {
    "execution": {
     "iopub.execute_input": "2025-02-04T05:47:25.384975Z",
     "iopub.status.busy": "2025-02-04T05:47:25.384870Z",
     "iopub.status.idle": "2025-02-04T05:47:28.372854Z",
     "shell.execute_reply": "2025-02-04T05:47:28.372613Z"
    }
   },
   "outputs": [
    {
     "data": {
      "text/markdown": [
       "$$\\begin{align*}\n",
       "    R{}^{t}{}_{r}{}_{t}{}_{r} = -R{}^{t}{}_{r}{}_{r}{}_{t} &= \\partial_{t^{2}} a a \\\\\n",
       "    R{}^{t}{}_{\\theta}{}_{t}{}_{\\theta} = -R{}^{t}{}_{\\theta}{}_{\\theta}{}_{t} &= \\partial_{t^{2}} a a r^{2} \\\\\n",
       "    R{}^{t}{}_{\\phi}{}_{t}{}_{\\phi} = -R{}^{t}{}_{\\phi}{}_{\\phi}{}_{t} &= \\partial_{t^{2}} a a r^{2} \\sin^{2}{\\left(\\theta \\right)} \\\\\n",
       "    R{}^{r}{}_{t}{}_{t}{}_{r} = -R{}^{r}{}_{t}{}_{r}{}_{t} = R{}^{\\theta}{}_{t}{}_{t}{}_{\\theta} = -R{}^{\\theta}{}_{t}{}_{\\theta}{}_{t} = R{}^{\\phi}{}_{t}{}_{t}{}_{\\phi} = -R{}^{\\phi}{}_{t}{}_{\\phi}{}_{t} &= \\frac{\\partial_{t^{2}} a}{a} \\\\\n",
       "    R{}^{r}{}_{\\theta}{}_{r}{}_{\\theta} = -R{}^{r}{}_{\\theta}{}_{\\theta}{}_{r} = -R{}^{\\phi}{}_{\\theta}{}_{\\theta}{}_{\\phi} = R{}^{\\phi}{}_{\\theta}{}_{\\phi}{}_{\\theta} &= \\partial_{t} a^{2} r^{2} \\\\\n",
       "    R{}^{r}{}_{\\phi}{}_{r}{}_{\\phi} = -R{}^{r}{}_{\\phi}{}_{\\phi}{}_{r} = R{}^{\\theta}{}_{\\phi}{}_{\\theta}{}_{\\phi} = -R{}^{\\theta}{}_{\\phi}{}_{\\phi}{}_{\\theta} &= \\partial_{t} a^{2} r^{2} \\sin^{2}{\\left(\\theta \\right)} \\\\\n",
       "    R{}^{\\theta}{}_{r}{}_{r}{}_{\\theta} = -R{}^{\\theta}{}_{r}{}_{\\theta}{}_{r} = R{}^{\\phi}{}_{r}{}_{r}{}_{\\phi} = -R{}^{\\phi}{}_{r}{}_{\\phi}{}_{r} &= - \\partial_{t} a^{2} \n",
       "\\end{align*}$$"
      ],
      "text/plain": [
       "<IPython.core.display.Markdown object>"
      ]
     },
     "metadata": {},
     "output_type": "display_data"
    }
   ],
   "source": [
    "FLRW.riemann().list(exact=True)"
   ]
  },
  {
   "cell_type": "markdown",
   "id": "81003d1f",
   "metadata": {},
   "source": [
    "Notice two things here. First, we did not save the result in a variable. The reason is that the results of the `riemann()` method, and in fact all similar methods such as `christoffel()`, are cached. This means that the next time we call `FLRW.riemann()`, we will get the exact same tensor - indeed, it won't just be another tensor with the same components, it will be a reference to the exact same object we got the first time.\n",
    "\n",
    "Second, calculating the Riemann tensor requires first calculating the Christoffel symbols, which we did not do. Behind the scenes, the `riemann()` method obtains the Christoffel symbols by calling the `christoffel()` method. In turn, the `christoffel()` checks if the Christoffel symbols have already been calculated. If so, it returns the cached results, and if not, it calculated, caches, and returns the results.\n",
    "\n",
    "As a result, even though we did not call `FLRW.christoffel()` before, the Christoffel symbols have in fact already been calculated and cached for us, so if we call it now we will get the result immediately:"
   ]
  },
  {
   "cell_type": "code",
   "execution_count": 130,
   "id": "f9e8659f",
   "metadata": {
    "execution": {
     "iopub.execute_input": "2025-02-04T05:47:28.374112Z",
     "iopub.status.busy": "2025-02-04T05:47:28.373989Z",
     "iopub.status.idle": "2025-02-04T05:47:28.378950Z",
     "shell.execute_reply": "2025-02-04T05:47:28.378563Z"
    }
   },
   "outputs": [
    {
     "data": {
      "text/markdown": [
       "$$\\begin{align*}\n",
       "    \\Gamma{}^{t}{}_{r}{}_{r} &= \\partial_{t} a a \\\\\n",
       "    \\Gamma{}^{t}{}_{\\theta}{}_{\\theta} &= \\partial_{t} a a r^{2} \\\\\n",
       "    \\Gamma{}^{t}{}_{\\phi}{}_{\\phi} &= \\partial_{t} a a r^{2} \\sin^{2}{\\left(\\theta \\right)} \\\\\n",
       "    \\Gamma{}^{r}{}_{t}{}_{r} = \\Gamma{}^{r}{}_{r}{}_{t} = \\Gamma{}^{\\theta}{}_{t}{}_{\\theta} = \\Gamma{}^{\\theta}{}_{\\theta}{}_{t} = \\Gamma{}^{\\phi}{}_{t}{}_{\\phi} = \\Gamma{}^{\\phi}{}_{\\phi}{}_{t} &= \\frac{\\partial_{t} a}{a} \\\\\n",
       "    \\Gamma{}^{r}{}_{\\theta}{}_{\\theta} &= - r \\\\\n",
       "    \\Gamma{}^{r}{}_{\\phi}{}_{\\phi} &= - r \\sin^{2}{\\left(\\theta \\right)} \\\\\n",
       "    \\Gamma{}^{\\theta}{}_{r}{}_{\\theta} = \\Gamma{}^{\\theta}{}_{\\theta}{}_{r} = \\Gamma{}^{\\phi}{}_{r}{}_{\\phi} = \\Gamma{}^{\\phi}{}_{\\phi}{}_{r} &= \\frac{1}{r} \\\\\n",
       "    \\Gamma{}^{\\theta}{}_{\\phi}{}_{\\phi} &= - \\frac{\\sin{\\left(2 \\theta \\right)}}{2} \\\\\n",
       "    \\Gamma{}^{\\phi}{}_{\\theta}{}_{\\phi} = \\Gamma{}^{\\phi}{}_{\\phi}{}_{\\theta} &= \\frac{1}{\\tan{\\left(\\theta \\right)}} \n",
       "\\end{align*}$$"
      ],
      "text/plain": [
       "<IPython.core.display.Markdown object>"
      ]
     },
     "metadata": {},
     "output_type": "display_data"
    }
   ],
   "source": [
    "~FLRW.christoffel()"
   ]
  },
  {
   "cell_type": "markdown",
   "id": "23d63335",
   "metadata": {},
   "source": [
    "The same principle also applies to the other built-in methods for calculating curvature tensors, which we will present below; they always calculate and cache any intermediate tensors in their definitions automatically as needed.\n",
    "\n",
    "**Standard practice when using OGRePy is to never save the Christoffel symbols, Riemann tensor, etc. in their own variables. Instead, you must call the `christoffel()`, `riemann()`, etc. methods every time you want to access these tensors.**\n",
    "\n",
    "The reason behind this is to maintain consistency between the metric and its curvature tensors. For example, let's say we decided to redefine the FLRW metric. Since tensor components in OGRePy are immutable, meaning they cannot be changed after the tensor object is created, this means we actually create a new `Metric` object and save it in the same `FLRW` variable. If we previously calculated the Christoffel symbols and saved them in a variable called `FLRWChristoffel`, that variable now stores the Christoffel symbols for the **old** FLRW metric, and is therefore inconsistent with the new one. On the other hand, if we simply use the `FLRW.christoffel()` method, we are guaranteed to always get the correct Christoffel symbols for the metric stored in the `FLRW` variable.\n",
    "\n",
    "In this documentation, we will continue to create variables for curvature tensors because we will be calculating them explicitly and therefore they are not cached, but in normal use you should instead simply rely on OGRePy's comprehensive caching algorithms.\n",
    "\n",
    "### The Kretschmann scalar\n",
    "\n",
    "The Kretschmann scalar is a curvature invariant calculated by contracting all the indices of the Riemann tensor with itself:\n",
    "\n",
    "$$\n",
    "K = R_ {\\rho\\sigma\\nu\\mu} R^{\\rho\\sigma\\nu\\mu}.\n",
    "$$\n",
    "\n",
    "Recall that above, we gave the Kretschmann scalar for the Schwarzschild metric as an example of a scalar. Now that we have the Riemann tensor, and the ability to contract tensors, we can actually calculate the Kretschmann scalar from scratch:"
   ]
  },
  {
   "cell_type": "code",
   "execution_count": 131,
   "id": "1bde4429",
   "metadata": {
    "execution": {
     "iopub.execute_input": "2025-02-04T05:47:28.380093Z",
     "iopub.status.busy": "2025-02-04T05:47:28.379978Z",
     "iopub.status.idle": "2025-02-04T05:47:47.264137Z",
     "shell.execute_reply": "2025-02-04T05:47:47.263813Z"
    }
   },
   "outputs": [
    {
     "data": {
      "text/markdown": [
       "$$R{}_{\\mu}{}_{\\nu}{}_{\\rho}{}_{\\sigma} R{}^{\\mu}{}^{\\nu}{}^{\\rho}{}^{\\sigma}\\Bigg|_{\\left(t, r, \\theta, \\phi\\right)} = \\frac{48 M^{2}}{r^{6}}$$"
      ],
      "text/plain": [
       "<OGRePy._core.Tensor at 0x1d2e6c0d440>"
      ]
     },
     "execution_count": 131,
     "metadata": {},
     "output_type": "execute_result"
    }
   ],
   "source": [
    "Schwarzschild.riemann(rho, sigma, mu, nu) @ Schwarzschild.riemann(rho, sigma, mu, nu)"
   ]
  },
  {
   "cell_type": "markdown",
   "id": "39432f3e",
   "metadata": {},
   "source": [
    "Note that like the `christoffel()` method, the `riemann()` method allows you to pass an index specification for use in calculations. As usual, OGRePy allows you to calculate this curvature tensor directly, using the method `kretschmann()` of the `Metric` class, without typing the formula explicitly.\n",
    "\n",
    "This method follows the same caching algorithm as `christoffel()` and `riemann()`: it will calculate the Riemann tensor (and as a side effect, the Christoffel symbols) if they have not already been calculated, otherwise it will use the cached results, and it will cache its own result for later use.\n",
    "\n",
    "### The Ricci tensor and scalar\n",
    "\n",
    "The **Ricci tensor** $R_ {\\mu\\nu}$ is the trace of the first and third indices of the Riemann tensor:\n",
    "\n",
    "$$\n",
    "R_ {\\mu\\nu} = R^{\\lambda}{}_ {\\mu\\lambda\\nu}.\n",
    "$$\n",
    "\n",
    "Therefore, we can calculate it by taking the trace, with the usual OGRePy syntax. For the Schwarzschild metric, the Ricci tensor vanishes:"
   ]
  },
  {
   "cell_type": "code",
   "execution_count": 132,
   "id": "2f381915",
   "metadata": {
    "execution": {
     "iopub.execute_input": "2025-02-04T05:47:47.265269Z",
     "iopub.status.busy": "2025-02-04T05:47:47.265151Z",
     "iopub.status.idle": "2025-02-04T05:47:47.271330Z",
     "shell.execute_reply": "2025-02-04T05:47:47.271005Z"
    }
   },
   "outputs": [
    {
     "data": {
      "text/markdown": [
       "$$\\text{No non-zero elements.}$$"
      ],
      "text/plain": [
       "<IPython.core.display.Markdown object>"
      ]
     },
     "metadata": {},
     "output_type": "display_data"
    }
   ],
   "source": [
    "~Schwarzschild.riemann(lamda, mu, lamda, nu)"
   ]
  },
  {
   "cell_type": "markdown",
   "id": "c146665e",
   "metadata": {},
   "source": [
    "We can also use the convenience method `ricci_tensor()` of the `Metric` class. For example, here is the Ricci tensor for the FLRW metric:"
   ]
  },
  {
   "cell_type": "code",
   "execution_count": 133,
   "id": "8499e9d1",
   "metadata": {
    "execution": {
     "iopub.execute_input": "2025-02-04T05:47:47.272631Z",
     "iopub.status.busy": "2025-02-04T05:47:47.272460Z",
     "iopub.status.idle": "2025-02-04T05:47:47.310384Z",
     "shell.execute_reply": "2025-02-04T05:47:47.310042Z"
    }
   },
   "outputs": [
    {
     "data": {
      "text/markdown": [
       "$$\\begin{align*}\n",
       "    R{}_{t}{}_{t} &= - \\frac{3 \\partial_{t^{2}} a}{a} \\\\\n",
       "    R{}_{r}{}_{r} &= \\partial_{t^{2}} a a + 2 \\partial_{t} a^{2} \\\\\n",
       "    R{}_{\\theta}{}_{\\theta} &= r^{2} \\left(\\partial_{t^{2}} a a + 2 \\partial_{t} a^{2}\\right) \\\\\n",
       "    R{}_{\\phi}{}_{\\phi} &= r^{2} \\left(\\partial_{t^{2}} a a + 2 \\partial_{t} a^{2}\\right) \\sin^{2}{\\left(\\theta \\right)} \n",
       "\\end{align*}$$"
      ],
      "text/plain": [
       "<IPython.core.display.Markdown object>"
      ]
     },
     "metadata": {},
     "output_type": "display_data"
    }
   ],
   "source": [
    "~FLRW.ricci_tensor()"
   ]
  },
  {
   "cell_type": "markdown",
   "id": "37ef68cb",
   "metadata": {},
   "source": [
    "The **Ricci scalar** is the trace of the Ricci tensor:\n",
    "\n",
    "$$\n",
    "R = R^{\\lambda}{}_ {\\lambda} = g^{\\mu\\nu} R_ {\\mu\\nu}\n",
    "$$\n",
    "\n",
    "We can calculate it from the Ricci tensor by taking the trace:"
   ]
  },
  {
   "cell_type": "code",
   "execution_count": 134,
   "id": "bdf95f50",
   "metadata": {
    "execution": {
     "iopub.execute_input": "2025-02-04T05:47:47.311693Z",
     "iopub.status.busy": "2025-02-04T05:47:47.311562Z",
     "iopub.status.idle": "2025-02-04T05:47:47.351904Z",
     "shell.execute_reply": "2025-02-04T05:47:47.351593Z"
    }
   },
   "outputs": [
    {
     "data": {
      "text/markdown": [
       "$$R{}_{\\mu}{}^{\\mu}\\Bigg|_{\\left(t, r, \\theta, \\phi\\right)} = \\frac{6 \\left(\\partial_{t^{2}} a a + \\partial_{t} a^{2}\\right)}{a^{2}}$$"
      ],
      "text/plain": [
       "<OGRePy._core.Tensor at 0x1d2e6c25670>"
      ]
     },
     "execution_count": 134,
     "metadata": {},
     "output_type": "execute_result"
    }
   ],
   "source": [
    "FLRW.ricci_tensor(mu, mu)"
   ]
  },
  {
   "cell_type": "markdown",
   "id": "9e1f4dba",
   "metadata": {},
   "source": [
    "Or, as usual, we can simply use the shorthand method `ricci_scalar()` to calculate it directly from the metric:"
   ]
  },
  {
   "cell_type": "code",
   "execution_count": 135,
   "id": "2d64b53e",
   "metadata": {
    "execution": {
     "iopub.execute_input": "2025-02-04T05:47:47.353247Z",
     "iopub.status.busy": "2025-02-04T05:47:47.353030Z",
     "iopub.status.idle": "2025-02-04T05:47:47.363847Z",
     "shell.execute_reply": "2025-02-04T05:47:47.363529Z"
    }
   },
   "outputs": [
    {
     "data": {
      "text/markdown": [
       "$$R\\Bigg|_{\\left(t, r, \\theta, \\phi\\right)} = \\frac{6 \\left(\\partial_{t^{2}} a a + \\partial_{t} a^{2}\\right)}{a^{2}}$$"
      ],
      "text/plain": [
       "<OGRePy._core.RicciScalar at 0x1d2e6ad9550>"
      ]
     },
     "execution_count": 135,
     "metadata": {},
     "output_type": "execute_result"
    }
   ],
   "source": [
    "FLRW.ricci_scalar()"
   ]
  },
  {
   "cell_type": "markdown",
   "id": "0a928a55",
   "metadata": {},
   "source": [
    "### The Einstein tensor\n",
    "\n",
    "The Einstein tensor $G_ {\\mu\\nu}$ is given by:\n",
    "\n",
    "$$\n",
    "G_ {\\mu\\nu} = R_ {\\mu\\nu} - \\frac{1}{2} R g_ {\\mu\\nu}.\n",
    "$$\n",
    "\n",
    "As with all other curvature tensors, we can calculate it by combining the previously calculated tensors with the usual syntax:"
   ]
  },
  {
   "cell_type": "code",
   "execution_count": 136,
   "id": "36e83395",
   "metadata": {
    "execution": {
     "iopub.execute_input": "2025-02-04T05:47:47.365230Z",
     "iopub.status.busy": "2025-02-04T05:47:47.364938Z",
     "iopub.status.idle": "2025-02-04T05:47:47.481008Z",
     "shell.execute_reply": "2025-02-04T05:47:47.480694Z"
    }
   },
   "outputs": [
    {
     "data": {
      "text/markdown": [
       "$$\\begin{align*}\n",
       "    R{}_{t}{}_{t} - \\frac{1}{2} R g{}_{t}{}_{t} &= \\frac{3 \\partial_{t} a^{2}}{a^{2}} \\\\\n",
       "    R{}_{r}{}_{r} - \\frac{1}{2} R g{}_{r}{}_{r} &= - 2 \\partial_{t^{2}} a a - \\partial_{t} a^{2} \\\\\n",
       "    R{}_{\\theta}{}_{\\theta} - \\frac{1}{2} R g{}_{\\theta}{}_{\\theta} &= r^{2} \\left(- 2 \\partial_{t^{2}} a a - \\partial_{t} a^{2}\\right) \\\\\n",
       "    R{}_{\\phi}{}_{\\phi} - \\frac{1}{2} R g{}_{\\phi}{}_{\\phi} &= r^{2} \\left(- 2 \\partial_{t^{2}} a a - \\partial_{t} a^{2}\\right) \\sin^{2}{\\left(\\theta \\right)} \n",
       "\\end{align*}$$"
      ],
      "text/plain": [
       "<IPython.core.display.Markdown object>"
      ]
     },
     "metadata": {},
     "output_type": "display_data"
    }
   ],
   "source": [
    "~(FLRW.ricci_tensor(mu, nu) - T.s.Rational(1, 2) * FLRW.ricci_scalar() @ FLRW(mu, nu))"
   ]
  },
  {
   "cell_type": "markdown",
   "id": "8f4cb69c",
   "metadata": {},
   "source": [
    "Or we can use the built-in module `einstein()`:"
   ]
  },
  {
   "cell_type": "code",
   "execution_count": 137,
   "id": "21c8fb92",
   "metadata": {
    "execution": {
     "iopub.execute_input": "2025-02-04T05:47:47.482104Z",
     "iopub.status.busy": "2025-02-04T05:47:47.481989Z",
     "iopub.status.idle": "2025-02-04T05:47:47.571937Z",
     "shell.execute_reply": "2025-02-04T05:47:47.571510Z"
    }
   },
   "outputs": [
    {
     "data": {
      "text/markdown": [
       "$$\\begin{align*}\n",
       "    G{}_{t}{}_{t} &= \\frac{3 \\partial_{t} a^{2}}{a^{2}} \\\\\n",
       "    G{}_{r}{}_{r} &= - 2 \\partial_{t^{2}} a a - \\partial_{t} a^{2} \\\\\n",
       "    G{}_{\\theta}{}_{\\theta} &= r^{2} \\left(- 2 \\partial_{t^{2}} a a - \\partial_{t} a^{2}\\right) \\\\\n",
       "    G{}_{\\phi}{}_{\\phi} &= r^{2} \\left(- 2 \\partial_{t^{2}} a a - \\partial_{t} a^{2}\\right) \\sin^{2}{\\left(\\theta \\right)} \n",
       "\\end{align*}$$"
      ],
      "text/plain": [
       "<IPython.core.display.Markdown object>"
      ]
     },
     "metadata": {},
     "output_type": "display_data"
    }
   ],
   "source": [
    "~FLRW.einstein()"
   ]
  },
  {
   "cell_type": "markdown",
   "id": "88bfcb9c",
   "metadata": {},
   "source": [
    "### Covariant derivatives\n",
    "\n",
    "The partial derivative has limited use in general relativity, as **it does not transform like a tensor**. Therefore, it is only used in special cases, such as calculating the Christoffel symbols and the Riemann tensor. The **covariant derivative** $\\nabla_ {\\mu}$ is a generalization of the partial derivative, which does transform like a tensor (as long as it acts on a proper tensor). It is defined as follows:\n",
    "\n",
    "* On a scalar $\\Phi$, the covariant derivative acts as $\\nabla_ {\\mu} \\Phi = \\partial_ {\\mu} \\Phi$.\n",
    "* On a vector $v^{\\mu}$, the covariant derivative acts as $\\nabla_ {\\mu} v^{\\nu} = \\partial_ {\\mu} v^{\\nu} + \\Gamma^{\\nu}_ {\\mu\\lambda} v^{\\lambda}$.\n",
    "* On a covector $w_ {\\mu}$, the covariant derivative acts as $\\nabla_ {\\mu} w_ {\\nu} = \\partial_ {\\mu} w_ {\\nu} - \\Gamma^{\\lambda}_ {\\mu\\nu} w_ {\\lambda}$.\n",
    "\n",
    "More generally, on a rank $(p, q)$ tensor with components $T^{\\nu_ {1} \\cdots \\nu_ {p}}{}_ {\\sigma_ {1} \\cdots \\sigma_ {q}}$, the covariant derivative $\\nabla_ {\\mu} T^{\\nu_ {1} \\cdots \\nu_ {p}}{}_ {\\sigma_ {1} \\cdots \\sigma_ {q}}$ is defined as follows:\n",
    "\n",
    "* The first term will be the partial derivative $\\partial_ {\\mu} T^{\\nu_ {1} \\cdots \\nu_ {p}}{}_ {\\sigma_ {1} \\cdots \\sigma_ {q}}$.\n",
    "* We **add** one term $\\Gamma^{\\nu_ {i}}_ {\\mu\\lambda} T^{\\nu_ {1} \\cdots \\lambda \\cdots \\nu_ {p}}{}_ {\\sigma_ {1} \\cdots \\sigma_ {q}}$ for each **upper** index $\\nu_ {i}$.\n",
    "* We **subtract** one term $\\Gamma^{\\lambda}_ {\\mu\\sigma_ {i}} T^{\\nu_ {1} \\cdots \\nu_ {p}}{}_ {\\sigma_ {1} \\cdots \\lambda \\cdots \\sigma_ {q}}$ for each **lower** index $\\sigma_ {i}$.\n",
    "\n",
    "Note that even though the covariant derivative is made from ingredients that do not transform like tensors - the partial derivative and the Christoffel symbols - the unwanted terms in the transformations of these ingredients cancel each other exactly, so that in the end, the entire sum does transform like a tensor.\n",
    "\n",
    "As usual, we can, of course, write down the covariant derivative manually. For example, the covariant divergence of the metric is:\n",
    "\n",
    "$$\n",
    "\\nabla_ {\\mu} g_ {\\alpha\\beta} = \\partial_ {\\mu} g_ {\\alpha\\beta} - \\Gamma^{\\lambda}_ {\\mu\\alpha} g_ {\\lambda\\beta} - \\Gamma^{\\lambda}_ {\\mu\\beta} g_ {\\alpha\\lambda}.\n",
    "$$\n",
    "\n",
    "It should vanish, by definition, for any metric; this is what we meant when we said the Levi-Civita connection **preserves** the metric. Indeed, we have for the Schwarzschild metric:"
   ]
  },
  {
   "cell_type": "code",
   "execution_count": 138,
   "id": "9920ceb3",
   "metadata": {
    "execution": {
     "iopub.execute_input": "2025-02-04T05:47:47.573300Z",
     "iopub.status.busy": "2025-02-04T05:47:47.573060Z",
     "iopub.status.idle": "2025-02-04T05:47:47.783242Z",
     "shell.execute_reply": "2025-02-04T05:47:47.782946Z"
    }
   },
   "outputs": [
    {
     "data": {
      "text/markdown": [
       "$$\\text{No non-zero elements.}$$"
      ],
      "text/plain": [
       "<IPython.core.display.Markdown object>"
      ]
     },
     "metadata": {},
     "output_type": "display_data"
    }
   ],
   "source": [
    "from OGRePy.abc import alpha, beta\n",
    "\n",
    "~(T.PartialD(mu) @ Schwarzschild(alpha, beta) - Schwarzschild.christoffel(lamda, mu, alpha) @ Schwarzschild(lamda, beta) - Schwarzschild.christoffel(lamda, mu, beta) @ Schwarzschild(alpha, lamda))"
   ]
  },
  {
   "cell_type": "markdown",
   "id": "eb965799",
   "metadata": {},
   "source": [
    "Much more conveniently, the covariant derivative is represented in OGRePy using the class `CovariantD`. It will automatically add the correct terms, as detailed above, for each of the tensor's indices, using the (possibly cached) Christoffel symbols of the tensor's associated metric. To use it, simply contract it with any tensor, just like `PartialD`. For example, we can check that the covariant derivative of the FLRW metric also vanishes:"
   ]
  },
  {
   "cell_type": "code",
   "execution_count": 139,
   "id": "ffb8fbd0",
   "metadata": {
    "execution": {
     "iopub.execute_input": "2025-02-04T05:47:47.784643Z",
     "iopub.status.busy": "2025-02-04T05:47:47.784490Z",
     "iopub.status.idle": "2025-02-04T05:47:48.126285Z",
     "shell.execute_reply": "2025-02-04T05:47:48.125769Z"
    }
   },
   "outputs": [
    {
     "data": {
      "text/markdown": [
       "$$\\text{No non-zero elements.}$$"
      ],
      "text/plain": [
       "<IPython.core.display.Markdown object>"
      ]
     },
     "metadata": {},
     "output_type": "display_data"
    }
   ],
   "source": [
    "~(T.CovariantD(mu) @ FLRW(mu, nu))"
   ]
  },
  {
   "cell_type": "markdown",
   "id": "41879c8f",
   "metadata": {},
   "source": [
    "The covariant divergence of the Einstein tensor is:\n",
    "\n",
    "$$\n",
    "\\nabla_ {\\mu} G^{\\mu\\nu} = \\partial_ {\\mu} G^{\\mu\\nu} + \\Gamma^{\\mu}_ {\\mu\\lambda} G^{\\lambda\\nu} + \\Gamma^{\\nu}_ {\\mu\\lambda} G^{\\mu\\lambda}.\n",
    "$$\n",
    "\n",
    "Note that it involves a contraction in the index $\\mu$, which becomes a trace in the first Christoffel symbol. This expression vanishes because of the **Bianchi identity**:\n",
    "\n",
    "$$\n",
    "\\nabla_ {\\mu} R^{\\mu\\nu} = \\frac{1}{2} \\nabla^{\\nu} R \\quad \\Longrightarrow \\quad \\nabla_ {\\mu} G^{\\mu\\nu} = 0.\n",
    "$$\n",
    "\n",
    "To calculate it in OGRePy, we simply write:"
   ]
  },
  {
   "cell_type": "code",
   "execution_count": 140,
   "id": "45da15f5",
   "metadata": {
    "execution": {
     "iopub.execute_input": "2025-02-04T05:47:48.127477Z",
     "iopub.status.busy": "2025-02-04T05:47:48.127355Z",
     "iopub.status.idle": "2025-02-04T05:47:49.194454Z",
     "shell.execute_reply": "2025-02-04T05:47:49.193966Z"
    }
   },
   "outputs": [
    {
     "data": {
      "text/markdown": [
       "$$\\text{No non-zero elements.}$$"
      ],
      "text/plain": [
       "<IPython.core.display.Markdown object>"
      ]
     },
     "metadata": {},
     "output_type": "display_data"
    }
   ],
   "source": [
    "~(T.CovariantD(mu) @ FLRW.einstein(mu, nu))"
   ]
  },
  {
   "cell_type": "markdown",
   "id": "4fdaf88a",
   "metadata": {},
   "source": [
    "Finally, for a non-trivial result, let us recall that the stress-energy tensor should be **conserved**:\n",
    "\n",
    "$$\n",
    "\\nabla_ {\\mu} T^{\\mu\\nu} = \\partial_ {\\mu} T^{\\mu\\nu} + \\Gamma^{\\mu}_ {\\mu\\lambda} T^{\\lambda\\nu} + \\Gamma^{\\nu}_ {\\mu\\lambda} T^{\\mu\\lambda} = 0.\n",
    "$$\n",
    "\n",
    "This follows from the fact that $\\nabla_ {\\mu} G^{\\mu\\nu} = 0$, combined with the **Einstein equation**:\n",
    "\n",
    "$$\n",
    "G_ {\\mu\\nu} = \\kappa T_ {\\mu\\nu},\n",
    "$$\n",
    "\n",
    "where $\\kappa = 8 \\pi G$ and $G$ is Newton's gravitational constant. However, unlike $\\nabla_ {\\mu} G^{\\mu\\nu} = 0$, the relation $\\nabla_ {\\mu} T^{\\mu\\nu} = 0$ is **not** an identity; it is an **energy-momentum conservation equation**. To derive the equation for the FLRW metric, let us first define the rest-frame fluid 4-velocity in this spacetime:"
   ]
  },
  {
   "cell_type": "code",
   "execution_count": 141,
   "id": "6c4e7ddf",
   "metadata": {
    "execution": {
     "iopub.execute_input": "2025-02-04T05:47:49.196046Z",
     "iopub.status.busy": "2025-02-04T05:47:49.195900Z",
     "iopub.status.idle": "2025-02-04T05:47:49.198645Z",
     "shell.execute_reply": "2025-02-04T05:47:49.198391Z"
    }
   },
   "outputs": [
    {
     "data": {
      "text/markdown": [
       "$$u{}^{\\mu}\\Bigg|_{\\left(t, r, \\theta, \\phi\\right)} = \\left(\\begin{matrix}1\\\\0\\\\0\\\\0\\end{matrix}\\right)$$"
      ],
      "text/plain": [
       "<OGRePy._core.Tensor at 0x1d2e6e4a2a0>"
      ]
     },
     "execution_count": 141,
     "metadata": {},
     "output_type": "execute_result"
    }
   ],
   "source": [
    "RestVelocity = T.Tensor(metric=FLRW, coords=Spherical, indices=(1,), components=[1, 0, 0, 0], symbol=\"u\")"
   ]
  },
  {
   "cell_type": "markdown",
   "id": "ad66979f",
   "metadata": {},
   "source": [
    "Using the 4-velocity and the metric, we redefine the perfect fluid stress tensor in the FLRW spacetime using the formula $T^{\\mu\\nu} = (\\rho + p) u^{\\mu} u^{\\nu} + p g^{\\mu\\nu}$, and give $\\rho$ and $p$ spacetime dependence:"
   ]
  },
  {
   "cell_type": "code",
   "execution_count": 142,
   "id": "088511a2",
   "metadata": {
    "execution": {
     "iopub.execute_input": "2025-02-04T05:47:49.199628Z",
     "iopub.status.busy": "2025-02-04T05:47:49.199511Z",
     "iopub.status.idle": "2025-02-04T05:47:49.258242Z",
     "shell.execute_reply": "2025-02-04T05:47:49.257896Z"
    }
   },
   "outputs": [
    {
     "data": {
      "text/markdown": [
       "$$T{}^{\\mu}{}^{\\nu}\\Bigg|_{\\left(t, r, \\theta, \\phi\\right)} = \\left(\\begin{matrix}\\rho{\\left(t,r,\\theta,\\phi \\right)} & 0 & 0 & 0\\\\0 & \\frac{p}{a^{2}} & 0 & 0\\\\0 & 0 & \\frac{p}{a^{2} r^{2}} & 0\\\\0 & 0 & 0 & \\frac{p}{a^{2} r^{2} \\sin^{2}{\\left(\\theta \\right)}}\\end{matrix}\\right)$$"
      ],
      "text/plain": [
       "<OGRePy._core.Tensor at 0x1d2e6975ad0>"
      ]
     },
     "execution_count": 142,
     "metadata": {},
     "output_type": "execute_result"
    }
   ],
   "source": [
    "rho_t_r_t_p = T.func(\"rho\")(t, r, theta, phi)\n",
    "p_t_r_t_p = T.func(\"p\")(t, r, theta, phi)\n",
    "PerfectFluidFLRW = T.calc(\n",
    "    formula=(rho_t_r_t_p + p_t_r_t_p) * RestVelocity(mu) @ RestVelocity(nu) + p_t_r_t_p * FLRW(mu, nu),\n",
    "    symbol=\"T\",\n",
    ")"
   ]
  },
  {
   "cell_type": "markdown",
   "id": "08944f63",
   "metadata": {},
   "source": [
    "Finally, we take the covariant derivative of the stress tensor:"
   ]
  },
  {
   "cell_type": "code",
   "execution_count": 143,
   "id": "d1bca5ca",
   "metadata": {
    "execution": {
     "iopub.execute_input": "2025-02-04T05:47:49.259655Z",
     "iopub.status.busy": "2025-02-04T05:47:49.259465Z",
     "iopub.status.idle": "2025-02-04T05:47:49.703104Z",
     "shell.execute_reply": "2025-02-04T05:47:49.702822Z"
    }
   },
   "outputs": [
    {
     "data": {
      "text/markdown": [
       "$$\\begin{align*}\n",
       "    \\nabla{}_{\\mu} T{}^{\\mu}{}^{t} &= \\frac{\\partial_{t} \\rho{\\left(t,r,\\theta,\\phi \\right)} a + 3 \\partial_{t} a \\left(p + \\rho{\\left(t,r,\\theta,\\phi \\right)}\\right)}{a} \\\\\n",
       "    \\nabla{}_{\\mu} T{}^{\\mu}{}^{r} &= \\frac{\\partial_{r} p}{a^{2}} \\\\\n",
       "    \\nabla{}_{\\mu} T{}^{\\mu}{}^{\\theta} &= \\frac{\\partial_{\\theta} p}{a^{2} r^{2}} \\\\\n",
       "    \\nabla{}_{\\mu} T{}^{\\mu}{}^{\\phi} &= \\frac{\\partial_{\\phi} p}{a^{2} r^{2} \\sin^{2}{\\left(\\theta \\right)}} \n",
       "\\end{align*}$$"
      ],
      "text/plain": [
       "<IPython.core.display.Markdown object>"
      ]
     },
     "metadata": {},
     "output_type": "display_data"
    }
   ],
   "source": [
    "~(T.CovariantD(mu) @ PerfectFluidFLRW(mu, nu))"
   ]
  },
  {
   "cell_type": "markdown",
   "id": "f646a66c",
   "metadata": {},
   "source": [
    "From demanding that the $t$ component vanishes, we get the following equation:\n",
    "\n",
    "$$\n",
    "\\dot{\\rho} = -3 (\\rho + p) \\frac{\\dot{a}}{a}.\n",
    "$$\n",
    "\n",
    "We see that in an expanding universe, energy is not conserved, but rather, the energy density changes with time in a way that depends on the scale factor. If the universe is not expanding, that is, $\\dot{a} = 0$, then energy will be conserved.\n",
    "\n",
    "## Curves and geodesics\n",
    "\n",
    "### The curve Lagrangian\n",
    "\n",
    "Consider a **curve**, which is a function $x^{\\mu}(\\lambda)$ on the manifold where $\\lambda$ is called the **curve parameter**. The **curve Lagrangian** of a metric is defined as the norm-squared of the tangent to the curve:\n",
    "\n",
    "$$\n",
    "L=g_ {\\mu\\nu} \\dot{x}^{\\mu} \\dot{x}^{\\nu},\n",
    "$$\n",
    "\n",
    "where $\\dot{x}^{\\mu}$ is the first derivative of $x^{\\mu}$ with respect to the curve parameter $\\lambda$ (in Newton dot notation). We can calculate it using the method `lagrangian()` of the `Metric` class. For example:"
   ]
  },
  {
   "cell_type": "code",
   "execution_count": 144,
   "id": "0f2ad828",
   "metadata": {
    "execution": {
     "iopub.execute_input": "2025-02-04T05:47:49.704253Z",
     "iopub.status.busy": "2025-02-04T05:47:49.704007Z",
     "iopub.status.idle": "2025-02-04T05:47:49.727875Z",
     "shell.execute_reply": "2025-02-04T05:47:49.727573Z"
    }
   },
   "outputs": [
    {
     "data": {
      "text/markdown": [
       "$$L\\Bigg|_{\\left(t, x, y, z\\right)} = - \\dot{t}^{2} + \\dot{x}^{2} + \\dot{y}^{2} + \\dot{z}^{2}$$"
      ],
      "text/plain": [
       "<OGRePy._core.Lagrangian at 0x1d2e6a7f350>"
      ]
     },
     "execution_count": 144,
     "metadata": {},
     "output_type": "execute_result"
    }
   ],
   "source": [
    "Minkowski.lagrangian()"
   ]
  },
  {
   "cell_type": "code",
   "execution_count": 145,
   "id": "602149b4",
   "metadata": {
    "execution": {
     "iopub.execute_input": "2025-02-04T05:47:49.728864Z",
     "iopub.status.busy": "2025-02-04T05:47:49.728753Z",
     "iopub.status.idle": "2025-02-04T05:47:49.901464Z",
     "shell.execute_reply": "2025-02-04T05:47:49.901079Z"
    }
   },
   "outputs": [
    {
     "data": {
      "text/markdown": [
       "$$L\\Bigg|_{\\left(t, r, \\theta, \\phi\\right)} = \\frac{- \\dot{r}^{2} r^{2} + \\dot{t}^{2} \\left(2 M - r\\right)^{2} + r^{3} \\left(2 M - r\\right) \\left(\\dot{\\phi}^{2} \\sin^{2}{\\left(\\theta \\right)} + \\dot{\\theta}^{2}\\right)}{r \\left(2 M - r\\right)}$$"
      ],
      "text/plain": [
       "<OGRePy._core.Lagrangian at 0x1d2e6a7d4f0>"
      ]
     },
     "execution_count": 145,
     "metadata": {},
     "output_type": "execute_result"
    }
   ],
   "source": [
    "Schwarzschild.lagrangian()"
   ]
  },
  {
   "cell_type": "code",
   "execution_count": 146,
   "id": "8b1c59d2",
   "metadata": {
    "execution": {
     "iopub.execute_input": "2025-02-04T05:47:49.902755Z",
     "iopub.status.busy": "2025-02-04T05:47:49.902541Z",
     "iopub.status.idle": "2025-02-04T05:47:49.963749Z",
     "shell.execute_reply": "2025-02-04T05:47:49.963365Z"
    }
   },
   "outputs": [
    {
     "data": {
      "text/markdown": [
       "$$L\\Bigg|_{\\left(t, r, \\theta, \\phi\\right)} = \\dot{\\phi}^{2} a^{2} r^{2} \\sin^{2}{\\left(\\theta \\right)} + \\dot{\\theta}^{2} a^{2} r^{2} + \\dot{r}^{2} a^{2} - \\dot{t}^{2}$$"
      ],
      "text/plain": [
       "<OGRePy._core.Lagrangian at 0x1d2e697cad0>"
      ]
     },
     "execution_count": 146,
     "metadata": {},
     "output_type": "execute_result"
    }
   ],
   "source": [
    "FLRW.lagrangian()"
   ]
  },
  {
   "cell_type": "code",
   "execution_count": 147,
   "id": "96c9a32a",
   "metadata": {
    "execution": {
     "iopub.execute_input": "2025-02-04T05:47:49.964977Z",
     "iopub.status.busy": "2025-02-04T05:47:49.964824Z",
     "iopub.status.idle": "2025-02-04T05:47:50.008925Z",
     "shell.execute_reply": "2025-02-04T05:47:50.008619Z"
    }
   },
   "outputs": [
    {
     "data": {
      "text/markdown": [
       "$$L\\Bigg|_{\\left(t, x, y, z\\right)} = \\dot{t}^{2} \\left(f^{2} v^{2} - 1\\right) - 2 \\dot{t} \\dot{z} f v + \\dot{x}^{2} + \\dot{y}^{2} + \\dot{z}^{2}$$"
      ],
      "text/plain": [
       "<OGRePy._core.Lagrangian at 0x1d2e6b3c7d0>"
      ]
     },
     "execution_count": 147,
     "metadata": {},
     "output_type": "execute_result"
    }
   ],
   "source": [
    "Alcubierre.lagrangian()"
   ]
  },
  {
   "cell_type": "markdown",
   "id": "cb8dc6a3",
   "metadata": {},
   "source": [
    "Notice how `show()` (and `list()` as well) use Newton dot notation for the derivatives of the coordinate functions, for improved readability. To get the full expressions with the explicit derivatives, we can use `components()`. For example:"
   ]
  },
  {
   "cell_type": "code",
   "execution_count": 148,
   "id": "d7a3ce92",
   "metadata": {
    "execution": {
     "iopub.execute_input": "2025-02-04T05:47:50.009964Z",
     "iopub.status.busy": "2025-02-04T05:47:50.009838Z",
     "iopub.status.idle": "2025-02-04T05:47:50.013613Z",
     "shell.execute_reply": "2025-02-04T05:47:50.013321Z"
    }
   },
   "outputs": [
    {
     "data": {
      "text/markdown": [
       "**OGRePy**: Using default coordinate system `Cartesian` and default index configuration ()."
      ],
      "text/plain": [
       "<IPython.core.display.Markdown object>"
      ]
     },
     "metadata": {},
     "output_type": "display_data"
    },
    {
     "data": {
      "text/latex": [
       "$\\displaystyle \\left[\\begin{matrix}- \\left(\\frac{d}{d \\lambda} t{\\left(\\lambda \\right)}\\right)^{2} + \\left(\\frac{d}{d \\lambda} x{\\left(\\lambda \\right)}\\right)^{2} + \\left(\\frac{d}{d \\lambda} y{\\left(\\lambda \\right)}\\right)^{2} + \\left(\\frac{d}{d \\lambda} z{\\left(\\lambda \\right)}\\right)^{2}\\end{matrix}\\right]$"
      ],
      "text/plain": [
       "[-Derivative(t(\\lambda), \\lambda)**2 + Derivative(x(\\lambda), \\lambda)**2 + Derivative(y(\\lambda), \\lambda)**2 + Derivative(z(\\lambda), \\lambda)**2]"
      ]
     },
     "execution_count": 148,
     "metadata": {},
     "output_type": "execute_result"
    }
   ],
   "source": [
    "Minkowski.lagrangian().components()"
   ]
  },
  {
   "cell_type": "markdown",
   "id": "0e8c5c45",
   "metadata": {},
   "source": [
    "### Geodesic equations from the Lagrangian\n",
    "\n",
    "By applying the **Euler-Lagrange equations** to the curve Lagrangian:\n",
    "\n",
    "$$\n",
    "\\frac{\\mathrm{d}}{\\mathrm{d}\\lambda} \\left( \\frac{\\partial L}{\\partial\\dot{x}^{\\mu}} \\right) - \\frac{\\partial L}{\\partial x^{\\mu}} = 0,\n",
    "$$\n",
    "\n",
    "we can obtain the geodesic equations for our spacetime. This is done using the method `geodesic_from_lagrangian()` of the `Metric` class. For the Minkowski metric, the geodesic equations are:"
   ]
  },
  {
   "cell_type": "code",
   "execution_count": 149,
   "id": "e378d905",
   "metadata": {
    "execution": {
     "iopub.execute_input": "2025-02-04T05:47:50.014631Z",
     "iopub.status.busy": "2025-02-04T05:47:50.014467Z",
     "iopub.status.idle": "2025-02-04T05:47:50.045644Z",
     "shell.execute_reply": "2025-02-04T05:47:50.045376Z"
    }
   },
   "outputs": [
    {
     "data": {
      "text/markdown": [
       "$$\\begin{align*}\n",
       "    0{}^{t} &= - \\partial_{\\lambda} \\left(- \\dot{t}\\right) \\\\\n",
       "    0{}^{x} &= - \\ddot{x} \\\\\n",
       "    0{}^{y} &= - \\ddot{y} \\\\\n",
       "    0{}^{z} &= - \\ddot{z} \n",
       "\\end{align*}$$"
      ],
      "text/plain": [
       "<IPython.core.display.Markdown object>"
      ]
     },
     "metadata": {},
     "output_type": "display_data"
    }
   ],
   "source": [
    "~Minkowski.geodesic_from_lagrangian()"
   ]
  },
  {
   "cell_type": "markdown",
   "id": "fc32abd1",
   "metadata": {},
   "source": [
    "Note that this method only calculates the left-hand side of the Euler-Lagrange equations; if we equate the result to zero, we will get the actual geodesics equations. This is hinted at visually by setting the resulting tensor's symbol to 0, so that you actually see the equations when using `list()`. It is trivial to see that the solution to these equations is simply a curve with a constant velocity; in a flat Minkowski spacetime, particles experience no gravitational force, and thus no acceleration (unless some other force acts on them, of course).\n",
    "\n",
    "The derivatives with respect to the curve parameter $\\lambda$ are kept unevaluated in the output of `geodesic_from_lagrangian()`, by using the SymPy `Derivative` class and passing `doit=False` to `simplify()`. This simplifies the equations, and can sometimes help solve them by inspection. In this simple example, since SymPy simplifies the second derivatives even if `doit=False` is used, the second derivatives are actually evaluated (except from the first one, due to the minus sign), but in more complicated metrics they will remain unevaluated.\n",
    "\n",
    "If we want to activate the derivatives, we simply need to apply the `doit()` method to them. Recall that `list()` and `show()` can apply a function to the tensor's components before displaying them, so we just need to pass a `lambda` function that executes the `doit()` method on each component:"
   ]
  },
  {
   "cell_type": "code",
   "execution_count": 150,
   "id": "bfb24c2c",
   "metadata": {
    "execution": {
     "iopub.execute_input": "2025-02-04T05:47:50.046714Z",
     "iopub.status.busy": "2025-02-04T05:47:50.046589Z",
     "iopub.status.idle": "2025-02-04T05:47:50.053312Z",
     "shell.execute_reply": "2025-02-04T05:47:50.053033Z"
    }
   },
   "outputs": [
    {
     "data": {
      "text/markdown": [
       "$$\\begin{align*}\n",
       "    0{}^{t} &= \\ddot{t} \\\\\n",
       "    0{}^{x} &= - \\ddot{x} \\\\\n",
       "    0{}^{y} &= - \\ddot{y} \\\\\n",
       "    0{}^{z} &= - \\ddot{z} \n",
       "\\end{align*}$$"
      ],
      "text/plain": [
       "<IPython.core.display.Markdown object>"
      ]
     },
     "metadata": {},
     "output_type": "display_data"
    }
   ],
   "source": [
    "Minkowski.geodesic_from_lagrangian().list(function=lambda x: x.doit())"
   ]
  },
  {
   "cell_type": "markdown",
   "id": "78029590",
   "metadata": {},
   "source": [
    "Now the derivatives have been activated.\n",
    "\n",
    "As with the Lagrangian itself, the geodesic equations are displayed in compact notation when using `list()`. If we want the full expressions with the explicit derivatives, for example in order to pass them to `dsolve()` and actually solve the equations, we can use `components()` - remembering to apply `doit()` to activate the derivatives:"
   ]
  },
  {
   "cell_type": "code",
   "execution_count": 151,
   "id": "8d2e9aa9",
   "metadata": {
    "execution": {
     "iopub.execute_input": "2025-02-04T05:47:50.054321Z",
     "iopub.status.busy": "2025-02-04T05:47:50.054208Z",
     "iopub.status.idle": "2025-02-04T05:47:50.057957Z",
     "shell.execute_reply": "2025-02-04T05:47:50.057761Z"
    }
   },
   "outputs": [
    {
     "data": {
      "text/markdown": [
       "**OGRePy**: Using default coordinate system `Cartesian` and default index configuration (1,)."
      ],
      "text/plain": [
       "<IPython.core.display.Markdown object>"
      ]
     },
     "metadata": {},
     "output_type": "display_data"
    },
    {
     "data": {
      "text/latex": [
       "$\\displaystyle \\left[\\begin{matrix}\\frac{d^{2}}{d \\lambda^{2}} t{\\left(\\lambda \\right)} & - \\frac{d^{2}}{d \\lambda^{2}} x{\\left(\\lambda \\right)} & - \\frac{d^{2}}{d \\lambda^{2}} y{\\left(\\lambda \\right)} & - \\frac{d^{2}}{d \\lambda^{2}} z{\\left(\\lambda \\right)}\\end{matrix}\\right]$"
      ],
      "text/plain": [
       "[Derivative(t(\\lambda), (\\lambda, 2)), -Derivative(x(\\lambda), (\\lambda, 2)), -Derivative(y(\\lambda), (\\lambda, 2)), -Derivative(z(\\lambda), (\\lambda, 2))]"
      ]
     },
     "execution_count": 151,
     "metadata": {},
     "output_type": "execute_result"
    }
   ],
   "source": [
    "Minkowski.geodesic_from_lagrangian().components().doit()"
   ]
  },
  {
   "cell_type": "markdown",
   "id": "bfe68fee",
   "metadata": {},
   "source": [
    "This is a SymPy `Array` where each of the 4 components is a differential equation (with $= 0$ assumed). It can be easily solved by passing it to SymPy's `dsolve()`:"
   ]
  },
  {
   "cell_type": "code",
   "execution_count": 152,
   "id": "a10a290d",
   "metadata": {
    "execution": {
     "iopub.execute_input": "2025-02-04T05:47:50.058815Z",
     "iopub.status.busy": "2025-02-04T05:47:50.058710Z",
     "iopub.status.idle": "2025-02-04T05:47:50.153272Z",
     "shell.execute_reply": "2025-02-04T05:47:50.153002Z"
    }
   },
   "outputs": [
    {
     "data": {
      "text/markdown": [
       "**OGRePy**: Using default coordinate system `Cartesian` and default index configuration (1,)."
      ],
      "text/plain": [
       "<IPython.core.display.Markdown object>"
      ]
     },
     "metadata": {},
     "output_type": "display_data"
    },
    {
     "data": {
      "text/latex": [
       "$\\displaystyle \\left[\\begin{matrix}t{\\left(\\lambda \\right)} = C_{1} + C_{2} \\lambda & x{\\left(\\lambda \\right)} = C_{3} + C_{4} \\lambda & y{\\left(\\lambda \\right)} = C_{5} + C_{6} \\lambda & z{\\left(\\lambda \\right)} = C_{7} + C_{8} \\lambda\\end{matrix}\\right]$"
      ],
      "text/plain": [
       "[Eq(t(\\lambda), C1 + C2*\\lambda), Eq(x(\\lambda), C3 + C4*\\lambda), Eq(y(\\lambda), C5 + C6*\\lambda), Eq(z(\\lambda), C7 + C8*\\lambda)]"
      ]
     },
     "execution_count": 152,
     "metadata": {},
     "output_type": "execute_result"
    }
   ],
   "source": [
    "T.s.Array(T.s.dsolve(Minkowski.geodesic_from_lagrangian().components().doit()))"
   ]
  },
  {
   "cell_type": "markdown",
   "id": "8e2b6bbf",
   "metadata": {},
   "source": [
    "Note that this will return a list of solutions, so we converted it back to a SymPy `Array` so it will be displayed nicely in the notebook.\n",
    "\n",
    "We can similarly find the geodesic equations of other metrics. For example, here they are for the Schwarzschild metric:"
   ]
  },
  {
   "cell_type": "code",
   "execution_count": 153,
   "id": "0040e397",
   "metadata": {
    "execution": {
     "iopub.execute_input": "2025-02-04T05:47:50.154257Z",
     "iopub.status.busy": "2025-02-04T05:47:50.154139Z",
     "iopub.status.idle": "2025-02-04T05:47:50.625554Z",
     "shell.execute_reply": "2025-02-04T05:47:50.625049Z"
    }
   },
   "outputs": [
    {
     "data": {
      "text/markdown": [
       "$$\\begin{align*}\n",
       "    0{}^{t} &= - \\partial_{\\lambda} \\left(\\frac{\\dot{t} \\left(2 M - r\\right)}{r}\\right) \\\\\n",
       "    0{}^{r} &= \\frac{- 4 M^{3} \\dot{t}^{2} + 4 M^{2} \\dot{\\phi}^{2} r^{3} \\sin^{2}{\\left(\\theta \\right)} + 4 M^{2} \\dot{\\theta}^{2} r^{3} + 4 M^{2} \\dot{t}^{2} r - 4 M^{2} \\partial_{\\lambda} \\left(- \\frac{\\dot{r} r}{2 M - r}\\right) r^{2} - 4 M \\dot{\\phi}^{2} r^{4} \\sin^{2}{\\left(\\theta \\right)} - 4 M \\dot{\\theta}^{2} r^{4} - M \\dot{r}^{2} r^{2} - M \\dot{t}^{2} r^{2} + 4 M \\partial_{\\lambda} \\left(- \\frac{\\dot{r} r}{2 M - r}\\right) r^{3} + \\dot{\\phi}^{2} r^{5} \\sin^{2}{\\left(\\theta \\right)} + \\dot{\\theta}^{2} r^{5} - \\partial_{\\lambda} \\left(- \\frac{\\dot{r} r}{2 M - r}\\right) r^{4}}{r^{2} \\left(4 M^{2} - 4 M r + r^{2}\\right)} \\\\\n",
       "    0{}^{\\theta} &= \\frac{\\dot{\\phi}^{2} r^{2} \\sin{\\left(2 \\theta \\right)}}{2} - \\partial_{\\lambda} \\left(\\dot{\\theta} r^{2}\\right) \\\\\n",
       "    0{}^{\\phi} &= - \\partial_{\\lambda} \\left(\\dot{\\phi} r^{2} \\sin^{2}{\\left(\\theta \\right)}\\right) \n",
       "\\end{align*}$$"
      ],
      "text/plain": [
       "<IPython.core.display.Markdown object>"
      ]
     },
     "metadata": {},
     "output_type": "display_data"
    }
   ],
   "source": [
    "~Schwarzschild.geodesic_from_lagrangian()"
   ]
  },
  {
   "cell_type": "markdown",
   "id": "d03c5569",
   "metadata": {},
   "source": [
    "<div style=\"font-size: smaller\">\n",
    "\n",
    "(Note that the $r$ component is very long, ugly, and complicated. In the [Mathematica version of OGRe](https://github.com/bshoshany/OGRe), we get a much shorter and nicer expression, but if the two expressions are compared by exporting this expression from SymPy to Mathematica (which can be done using the `mathematica()` method), it turns out that the SymPy expression is in fact correct, just not simplified properly. This appears to be an issue with SymPy's `simplify()` function, but it could perhaps be resolved by using [specific SymPy simplification functions](https://docs.sympy.org/latest/modules/simplify/simplify.html), and it is possible that in the future SymPy's simplification algorithms will improve.)\n",
    "\n",
    "</div>\n",
    "\n",
    "As another example, here are the geodesic equations for the FLRW metric:"
   ]
  },
  {
   "cell_type": "code",
   "execution_count": 154,
   "id": "f849181a",
   "metadata": {
    "execution": {
     "iopub.execute_input": "2025-02-04T05:47:50.626811Z",
     "iopub.status.busy": "2025-02-04T05:47:50.626608Z",
     "iopub.status.idle": "2025-02-04T05:47:50.826789Z",
     "shell.execute_reply": "2025-02-04T05:47:50.826543Z"
    }
   },
   "outputs": [
    {
     "data": {
      "text/markdown": [
       "$$\\begin{align*}\n",
       "    0{}^{t} &= \\dot{\\phi}^{2} \\partial_{t} a a r^{2} \\sin^{2}{\\left(\\theta \\right)} + \\dot{\\theta}^{2} \\partial_{t} a a r^{2} + \\dot{r}^{2} \\partial_{t} a a - \\partial_{\\lambda} \\left(- \\dot{t}\\right) \\\\\n",
       "    0{}^{r} &= \\dot{\\phi}^{2} a^{2} r \\sin^{2}{\\left(\\theta \\right)} + \\dot{\\theta}^{2} a^{2} r - \\partial_{\\lambda} \\left(\\dot{r} a^{2}\\right) \\\\\n",
       "    0{}^{\\theta} &= \\frac{\\dot{\\phi}^{2} a^{2} r^{2} \\sin{\\left(2 \\theta \\right)}}{2} - \\partial_{\\lambda} \\left(\\dot{\\theta} a^{2} r^{2}\\right) \\\\\n",
       "    0{}^{\\phi} &= - \\partial_{\\lambda} \\left(\\dot{\\phi} a^{2} r^{2} \\sin^{2}{\\left(\\theta \\right)}\\right) \n",
       "\\end{align*}$$"
      ],
      "text/plain": [
       "<IPython.core.display.Markdown object>"
      ]
     },
     "metadata": {},
     "output_type": "display_data"
    }
   ],
   "source": [
    "~FLRW.geodesic_from_lagrangian()"
   ]
  },
  {
   "cell_type": "markdown",
   "id": "d9665b56",
   "metadata": {},
   "source": [
    "And finally, here they are for the Alcubierre metric:"
   ]
  },
  {
   "cell_type": "code",
   "execution_count": 155,
   "id": "9f8fd258",
   "metadata": {
    "execution": {
     "iopub.execute_input": "2025-02-04T05:47:50.828027Z",
     "iopub.status.busy": "2025-02-04T05:47:50.827901Z",
     "iopub.status.idle": "2025-02-04T05:47:51.030064Z",
     "shell.execute_reply": "2025-02-04T05:47:51.029761Z"
    }
   },
   "outputs": [
    {
     "data": {
      "text/markdown": [
       "$$\\begin{align*}\n",
       "    0{}^{t} &= \\dot{t}^{2} f v \\left(\\partial_{t} f v + \\partial_{t} v f\\right) - \\dot{t} \\dot{z} \\partial_{t} f v - \\dot{t} \\dot{z} \\partial_{t} v f - \\partial_{\\lambda} \\left(\\dot{t} \\left(f^{2} v^{2} - 1\\right) - \\dot{z} f v\\right) \\\\\n",
       "    0{}^{x} &= - \\ddot{x} + \\dot{t}^{2} \\partial_{x} f f v^{2} - \\dot{t} \\dot{z} \\partial_{x} f v \\\\\n",
       "    0{}^{y} &= - \\ddot{y} + \\dot{t}^{2} \\partial_{y} f f v^{2} - \\dot{t} \\dot{z} \\partial_{y} f v \\\\\n",
       "    0{}^{z} &= \\dot{t}^{2} \\partial_{z} f f v^{2} - \\dot{t} \\dot{z} \\partial_{z} f v - \\partial_{\\lambda} \\left(- \\dot{t} f v + \\dot{z}\\right) \n",
       "\\end{align*}$$"
      ],
      "text/plain": [
       "<IPython.core.display.Markdown object>"
      ]
     },
     "metadata": {},
     "output_type": "display_data"
    }
   ],
   "source": [
    "~Alcubierre.geodesic_from_lagrangian()"
   ]
  },
  {
   "cell_type": "markdown",
   "id": "4d508e4f",
   "metadata": {},
   "source": [
    "The latter is a good example of how we can solve the geodesic equations by inspection. Indeed, it is easy to see that\n",
    "\n",
    "$$\n",
    "\\dot{x}^{\\mu} = (1, 0, 0, vf)\n",
    "$$\n",
    "\n",
    "is a solution to this system of equations, since then we have $\\dot{x} = \\dot{y} = 0$ and $(f v \\dot{t} - \\dot{z}) = 0$, and both terms in each equation vanish (the last term in the first equation will reduce to $\\partial_ {\\lambda}(-1)$, which is of course zero). We can check this solution by replacing the coordinate functions with their solutions; since we will be left with $\\partial_ {\\lambda}(-1)$ in the first equation, we must also activate the derivative.\n",
    "\n",
    "However, for this we have to write the coordinates explicitly as functions of the curve parameter, even when they are arguments of a function; for example, $v(t)$ should be instead be $v(t(\\lambda))$. Luckily, OGRePy offers several ways to simplify this process. The `Coordinates` class contains the method `of_param()`, which returns the coordinates as functions of the curve parameter:"
   ]
  },
  {
   "cell_type": "code",
   "execution_count": 156,
   "id": "ad558130",
   "metadata": {
    "execution": {
     "iopub.execute_input": "2025-02-04T05:47:51.031235Z",
     "iopub.status.busy": "2025-02-04T05:47:51.031049Z",
     "iopub.status.idle": "2025-02-04T05:47:51.033499Z",
     "shell.execute_reply": "2025-02-04T05:47:51.033265Z"
    }
   },
   "outputs": [
    {
     "data": {
      "text/plain": [
       "[t(\\lambda), x(\\lambda), y(\\lambda), z(\\lambda)]"
      ]
     },
     "execution_count": 156,
     "metadata": {},
     "output_type": "execute_result"
    }
   ],
   "source": [
    "Cartesian.of_param()"
   ]
  },
  {
   "cell_type": "markdown",
   "id": "344c4ebe",
   "metadata": {},
   "source": [
    "However, what we really want is an easy way to **replace** the coordinates with functions of the curve parameter. We can obtain a list of such replacements using the method `of_param_dict()`:"
   ]
  },
  {
   "cell_type": "code",
   "execution_count": 157,
   "id": "351ebfec",
   "metadata": {
    "execution": {
     "iopub.execute_input": "2025-02-04T05:47:51.034461Z",
     "iopub.status.busy": "2025-02-04T05:47:51.034349Z",
     "iopub.status.idle": "2025-02-04T05:47:51.036896Z",
     "shell.execute_reply": "2025-02-04T05:47:51.036490Z"
    }
   },
   "outputs": [
    {
     "data": {
      "text/plain": [
       "{t: t(\\lambda), x: x(\\lambda), y: y(\\lambda), z: z(\\lambda)}"
      ]
     },
     "execution_count": 157,
     "metadata": {},
     "output_type": "execute_result"
    }
   ],
   "source": [
    "param = Cartesian.of_param_dict()"
   ]
  },
  {
   "cell_type": "markdown",
   "id": "9d3d20ad",
   "metadata": {},
   "source": [
    "Similarly, `of_param_dot()` returns the first derivatives of the coordinates:"
   ]
  },
  {
   "cell_type": "code",
   "execution_count": 158,
   "id": "0dec5a4b",
   "metadata": {
    "execution": {
     "iopub.execute_input": "2025-02-04T05:47:51.037925Z",
     "iopub.status.busy": "2025-02-04T05:47:51.037816Z",
     "iopub.status.idle": "2025-02-04T05:47:51.040344Z",
     "shell.execute_reply": "2025-02-04T05:47:51.040107Z"
    }
   },
   "outputs": [
    {
     "data": {
      "text/plain": [
       "[Derivative(t(\\lambda), \\lambda),\n",
       " Derivative(x(\\lambda), \\lambda),\n",
       " Derivative(y(\\lambda), \\lambda),\n",
       " Derivative(z(\\lambda), \\lambda)]"
      ]
     },
     "execution_count": 158,
     "metadata": {},
     "output_type": "execute_result"
    }
   ],
   "source": [
    "Cartesian.of_param_dot()"
   ]
  },
  {
   "cell_type": "markdown",
   "id": "1aaab4be",
   "metadata": {},
   "source": [
    "But again, what we really want is a dictionary of replacements, obtained using `of_param_dot_dict()`:"
   ]
  },
  {
   "cell_type": "code",
   "execution_count": 159,
   "id": "fbfd1ffc",
   "metadata": {
    "execution": {
     "iopub.execute_input": "2025-02-04T05:47:51.041308Z",
     "iopub.status.busy": "2025-02-04T05:47:51.041104Z",
     "iopub.status.idle": "2025-02-04T05:47:51.043714Z",
     "shell.execute_reply": "2025-02-04T05:47:51.043476Z"
    }
   },
   "outputs": [
    {
     "data": {
      "text/plain": [
       "{t: Derivative(t(\\lambda), \\lambda),\n",
       " x: Derivative(x(\\lambda), \\lambda),\n",
       " y: Derivative(y(\\lambda), \\lambda),\n",
       " z: Derivative(z(\\lambda), \\lambda)}"
      ]
     },
     "execution_count": 159,
     "metadata": {},
     "output_type": "execute_result"
    }
   ],
   "source": [
    "dot = Cartesian.of_param_dot_dict()"
   ]
  },
  {
   "cell_type": "markdown",
   "id": "fa1a8e44",
   "metadata": {},
   "source": [
    "We can now use the `param` dictionary as an argument to the `subs()` method to replace the arguments in the function $v$ and $f$:"
   ]
  },
  {
   "cell_type": "code",
   "execution_count": 160,
   "id": "0fc301af",
   "metadata": {
    "execution": {
     "iopub.execute_input": "2025-02-04T05:47:51.044553Z",
     "iopub.status.busy": "2025-02-04T05:47:51.044440Z",
     "iopub.status.idle": "2025-02-04T05:47:51.047647Z",
     "shell.execute_reply": "2025-02-04T05:47:51.047388Z"
    }
   },
   "outputs": [
    {
     "data": {
      "text/latex": [
       "$\\displaystyle v{\\left(t{\\left(\\lambda \\right)} \\right)}$"
      ],
      "text/plain": [
       "v(t(\\lambda))"
      ]
     },
     "metadata": {},
     "output_type": "display_data"
    },
    {
     "data": {
      "text/latex": [
       "$\\displaystyle f{\\left(t{\\left(\\lambda \\right)},x{\\left(\\lambda \\right)},y{\\left(\\lambda \\right)},z{\\left(\\lambda \\right)} \\right)}$"
      ],
      "text/plain": [
       "f(t(\\lambda), x(\\lambda), y(\\lambda), z(\\lambda))"
      ]
     },
     "metadata": {},
     "output_type": "display_data"
    }
   ],
   "source": [
    "display(v_t.subs(param))\n",
    "display(f_t_x_y_z.subs(param))"
   ]
  },
  {
   "cell_type": "markdown",
   "id": "ca9b9b80",
   "metadata": {},
   "source": [
    "The explicit solution is given by\n",
    "\n",
    "$$\n",
    "\\begin{align*}\n",
    "    \\dot{t}(\\lambda) &= 1, \\\\\n",
    "    \\dot{x}(\\lambda) &= 0, \\\\\n",
    "    \\dot{y}(\\lambda) &= 0, \\\\\n",
    "    \\dot{z}(\\lambda) &= v(t(\\lambda)) \\times f(t(\\lambda), x(\\lambda), y(\\lambda), z(\\lambda)). \\\\\n",
    "\\end{align*}\n",
    "$$\n",
    "\n",
    "Let us define a dictionary of replacements which maps each derivative of the coordinates to its solution:"
   ]
  },
  {
   "cell_type": "code",
   "execution_count": 161,
   "id": "e7bf1b44",
   "metadata": {
    "execution": {
     "iopub.execute_input": "2025-02-04T05:47:51.048663Z",
     "iopub.status.busy": "2025-02-04T05:47:51.048556Z",
     "iopub.status.idle": "2025-02-04T05:47:51.051167Z",
     "shell.execute_reply": "2025-02-04T05:47:51.050935Z"
    }
   },
   "outputs": [
    {
     "data": {
      "text/plain": [
       "{Derivative(t(\\lambda), \\lambda): 1,\n",
       " Derivative(x(\\lambda), \\lambda): 0,\n",
       " Derivative(y(\\lambda), \\lambda): 0,\n",
       " Derivative(z(\\lambda), \\lambda): f(t(\\lambda), x(\\lambda), y(\\lambda), z(\\lambda))*v(t(\\lambda))}"
      ]
     },
     "execution_count": 161,
     "metadata": {},
     "output_type": "execute_result"
    }
   ],
   "source": [
    "solution = {dot[t]: 1, dot[x]: 0, dot[y]: 0, dot[z]: v_t.subs(param) * f_t_x_y_z.subs(param)}"
   ]
  },
  {
   "cell_type": "markdown",
   "id": "9157b68f",
   "metadata": {},
   "source": [
    "Now all we need to do is perform these substitution, and then simplify. We can do this by passing the dictionary as the value of the `replace` argument to instruct `list()`, and setting `simplify=True` to the expression after doing the replacement. Note that `simplify()` will also automatically call `doit()` to evaluate the derivatives with respect to $\\lambda$:"
   ]
  },
  {
   "cell_type": "code",
   "execution_count": 162,
   "id": "d4d4c957",
   "metadata": {
    "execution": {
     "iopub.execute_input": "2025-02-04T05:47:51.052199Z",
     "iopub.status.busy": "2025-02-04T05:47:51.052101Z",
     "iopub.status.idle": "2025-02-04T05:47:51.089555Z",
     "shell.execute_reply": "2025-02-04T05:47:51.089255Z"
    }
   },
   "outputs": [
    {
     "data": {
      "text/markdown": [
       "$$\\text{No non-zero elements.}$$"
      ],
      "text/plain": [
       "<IPython.core.display.Markdown object>"
      ]
     },
     "metadata": {},
     "output_type": "display_data"
    }
   ],
   "source": [
    "Alcubierre.geodesic_from_lagrangian().list(replace=solution, simplify=True)"
   ]
  },
  {
   "cell_type": "markdown",
   "id": "ace98182",
   "metadata": {},
   "source": [
    "Since this solution zeros all the elements, it must be the correct solution to the geodesic equations. We could use a substitution procedure similar to the one we used here to verify solutions to any geodesic equations.\n",
    "\n",
    "This solution indicates that we are traveling with velocity $v$ in the $z$ direction; the warp bubble (inside which, as you recall, $f = 1$) moves whatever is inside it, such as a spaceship, through space at the velocity $v$, but there is no limit on $v$ - it can even be faster than light!\n",
    "\n",
    "### Geodesic equations from the Christoffel symbols\n",
    "\n",
    "Another way of obtaining the geodesic equations is using the covariant derivative, and thus the Christoffel symbols:\n",
    "\n",
    "$$\n",
    "\\dot{x}^{\\rho} \\nabla_ {\\rho} \\dot{x}^{\\sigma} = 0 \\quad \\Longrightarrow \\quad \\ddot{x}^{\\sigma} + \\Gamma^{\\sigma}_ {\\mu\\nu} \\dot{x}^{\\mu} \\dot{x}^{\\nu} = 0.\n",
    "$$\n",
    "\n",
    "In OGRePy, we can calculate the left-hand side of this equation using the `geodesic_from_christoffel()` method of the `Metric` class. For example:"
   ]
  },
  {
   "cell_type": "code",
   "execution_count": 163,
   "id": "0a3788a7",
   "metadata": {
    "execution": {
     "iopub.execute_input": "2025-02-04T05:47:51.090548Z",
     "iopub.status.busy": "2025-02-04T05:47:51.090422Z",
     "iopub.status.idle": "2025-02-04T05:47:52.538055Z",
     "shell.execute_reply": "2025-02-04T05:47:52.537730Z"
    }
   },
   "outputs": [
    {
     "data": {
      "text/markdown": [
       "$$\\begin{align*}\n",
       "    0{}^{t} &= \\ddot{t} \\\\\n",
       "    0{}^{x} &= \\ddot{x} \\\\\n",
       "    0{}^{y} &= \\ddot{y} \\\\\n",
       "    0{}^{z} &= \\ddot{z} \n",
       "\\end{align*}$$"
      ],
      "text/plain": [
       "<IPython.core.display.Markdown object>"
      ]
     },
     "metadata": {},
     "output_type": "display_data"
    },
    {
     "data": {
      "text/markdown": [
       "$$\\begin{align*}\n",
       "    0{}^{t} &= \\frac{- 2 M \\dot{r} \\dot{t} + \\ddot{t} r \\left(2 M - r\\right)}{r \\left(2 M - r\\right)} \\\\\n",
       "    0{}^{r} &= \\frac{M \\dot{r}^{2} r^{2} - M \\dot{t}^{2} \\left(2 M - r\\right)^{2} + r^{3} \\left(2 M - r\\right) \\left(\\ddot{r} + \\dot{\\phi}^{2} \\left(2 M - r\\right) \\sin^{2}{\\left(\\theta \\right)} + \\dot{\\theta}^{2} \\left(2 M - r\\right)\\right)}{r^{3} \\left(2 M - r\\right)} \\\\\n",
       "    0{}^{\\theta} &= \\ddot{\\theta} - \\frac{\\dot{\\phi}^{2} \\sin{\\left(2 \\theta \\right)}}{2} + \\frac{2 \\dot{\\theta} \\dot{r}}{r} \\\\\n",
       "    0{}^{\\phi} &= \\ddot{\\phi} + \\frac{2 \\dot{\\phi} \\dot{\\theta}}{\\tan{\\left(\\theta \\right)}} + \\frac{2 \\dot{\\phi} \\dot{r}}{r} \n",
       "\\end{align*}$$"
      ],
      "text/plain": [
       "<IPython.core.display.Markdown object>"
      ]
     },
     "metadata": {},
     "output_type": "display_data"
    },
    {
     "data": {
      "text/markdown": [
       "$$\\begin{align*}\n",
       "    0{}^{t} &= \\ddot{t} + \\dot{\\phi}^{2} \\partial_{t} a a r^{2} \\sin^{2}{\\left(\\theta \\right)} + \\dot{\\theta}^{2} \\partial_{t} a a r^{2} + \\dot{r}^{2} \\partial_{t} a a \\\\\n",
       "    0{}^{r} &= \\ddot{r} - \\dot{\\phi}^{2} r \\sin^{2}{\\left(\\theta \\right)} - \\dot{\\theta}^{2} r + \\frac{2 \\dot{r} \\dot{t} \\partial_{t} a}{a} \\\\\n",
       "    0{}^{\\theta} &= \\ddot{\\theta} - \\frac{\\dot{\\phi}^{2} \\sin{\\left(2 \\theta \\right)}}{2} + \\frac{2 \\dot{\\theta} \\dot{r}}{r} + \\frac{2 \\dot{\\theta} \\dot{t} \\partial_{t} a}{a} \\\\\n",
       "    0{}^{\\phi} &= \\ddot{\\phi} + \\frac{2 \\dot{\\phi} \\dot{\\theta}}{\\tan{\\left(\\theta \\right)}} + \\frac{2 \\dot{\\phi} \\dot{r}}{r} + \\frac{2 \\dot{\\phi} \\dot{t} \\partial_{t} a}{a} \n",
       "\\end{align*}$$"
      ],
      "text/plain": [
       "<IPython.core.display.Markdown object>"
      ]
     },
     "metadata": {},
     "output_type": "display_data"
    },
    {
     "data": {
      "text/markdown": [
       "$$\\begin{align*}\n",
       "    0{}^{t} &= \\ddot{t} + \\dot{t}^{2} \\partial_{z} f f^{2} v^{3} - \\dot{t} \\dot{x} \\partial_{x} f f v^{2} - \\dot{t} \\dot{y} \\partial_{y} f f v^{2} - 2 \\dot{t} \\dot{z} \\partial_{z} f f v^{2} + \\dot{x} \\dot{z} \\partial_{x} f v + \\dot{y} \\dot{z} \\partial_{y} f v + \\dot{z}^{2} \\partial_{z} f v \\\\\n",
       "    0{}^{x} &= \\ddot{x} - \\dot{t}^{2} \\partial_{x} f f v^{2} + \\dot{t} \\dot{z} \\partial_{x} f v \\\\\n",
       "    0{}^{y} &= \\ddot{y} - \\dot{t}^{2} \\partial_{y} f f v^{2} + \\dot{t} \\dot{z} \\partial_{y} f v \\\\\n",
       "    0{}^{z} &= \\ddot{z} + \\dot{t}^{2} \\left(- \\partial_{t} f v - \\partial_{t} v f + \\partial_{z} f f^{3} v^{4} - \\partial_{z} f f v^{2}\\right) - \\dot{t} \\dot{x} \\partial_{x} f v \\left(f^{2} v^{2} + 1\\right) - \\dot{t} \\dot{y} \\partial_{y} f v \\left(f^{2} v^{2} + 1\\right) - 2 \\dot{t} \\dot{z} \\partial_{z} f f^{2} v^{3} + \\dot{x} \\dot{z} \\partial_{x} f f v^{2} + \\dot{y} \\dot{z} \\partial_{y} f f v^{2} + \\dot{z}^{2} \\partial_{z} f f v^{2} \n",
       "\\end{align*}$$"
      ],
      "text/plain": [
       "<IPython.core.display.Markdown object>"
      ]
     },
     "metadata": {},
     "output_type": "display_data"
    }
   ],
   "source": [
    "~Minkowski.geodesic_from_christoffel()\n",
    "~Schwarzschild.geodesic_from_christoffel()\n",
    "~FLRW.geodesic_from_christoffel()\n",
    "~Alcubierre.geodesic_from_christoffel()"
   ]
  },
  {
   "cell_type": "markdown",
   "id": "05f04937",
   "metadata": {},
   "source": [
    "Often, you will find that the Lagrangian method produces simpler equations, which can even be solved by inspection, as we did for the Alcubierre metric. This is due to the possibility of leaving the $\\lambda$ derivative unevaluated. However, in other cases, the Christoffel method might produce simpler equations. We can clearly see that by comparing the geodesics equations for the Schwarzschild metric obtained via the Lagrangian vs. Christoffel methods.\n",
    "\n",
    "The best thing to do is to try both methods and see which one produces simpler or nicer results for the specific metric in question. Note that the system of equations obtained using `geodesic_from_lagrangian()` will often be different from the one obtained using `geodesic_from_christoffel()`, but both systems will always have the same solutions.\n",
    "\n",
    "### Geodesics equations in terms of the time coordinate\n",
    "\n",
    "If the metric is a spacetime metric, it is often convenient to obtain the geodesic equations in terms of the time parameter, instead of an affine curve parameter. It can be shown that the geodesic equations in terms of the time coordinate are given by\n",
    "\n",
    "$$\n",
    "\\frac{\\mathrm{d}^{2} x^{\\sigma}}{\\mathrm{d} t^{2}} + \\left( \\Gamma^{\\sigma}_ {\\mu\\nu} - \\Gamma^{0}_ {\\mu\\nu} \\frac{\\mathrm{d} x^{\\sigma}}{\\mathrm{d} t} \\right) \\frac{\\mathrm{d} x^{\\mu}}{\\mathrm{d} t} \\frac{\\mathrm{d} x^{\\nu}}{\\mathrm{d} t} = 0,\n",
    "$$\n",
    "\n",
    "where we are assuming the time coordinate is $t$ and it is the first (zero) coordinate. These equations can be obtained using the `geodesic_time_param()` method of the `Metric` class. Note that `geodesic_time_param()` assumes time is the first coordinate, but the coordinate does not need to have the symbol $t$. As an example, the equations for the FLRW metric in Cartesian coordinates in terms of a curve parameter are:"
   ]
  },
  {
   "cell_type": "code",
   "execution_count": 164,
   "id": "f8953356",
   "metadata": {
    "execution": {
     "iopub.execute_input": "2025-02-04T05:47:52.539191Z",
     "iopub.status.busy": "2025-02-04T05:47:52.539067Z",
     "iopub.status.idle": "2025-02-04T05:47:55.913793Z",
     "shell.execute_reply": "2025-02-04T05:47:55.913503Z"
    }
   },
   "outputs": [
    {
     "data": {
      "text/markdown": [
       "$$\\begin{align*}\n",
       "    0{}^{t} &= \\ddot{t} + \\dot{x}^{2} \\partial_{t} a a + \\dot{y}^{2} \\partial_{t} a a + \\dot{z}^{2} \\partial_{t} a a \\\\\n",
       "    0{}^{x} &= \\ddot{x} + \\frac{2 \\dot{t} \\dot{x} \\partial_{t} a}{a} \\\\\n",
       "    0{}^{y} &= \\ddot{y} + \\frac{2 \\dot{t} \\dot{y} \\partial_{t} a}{a} \\\\\n",
       "    0{}^{z} &= \\ddot{z} + \\frac{2 \\dot{t} \\dot{z} \\partial_{t} a}{a} \n",
       "\\end{align*}$$"
      ],
      "text/plain": [
       "<IPython.core.display.Markdown object>"
      ]
     },
     "metadata": {},
     "output_type": "display_data"
    }
   ],
   "source": [
    "FLRW.geodesic_from_christoffel().list(coords=Cartesian)"
   ]
  },
  {
   "cell_type": "markdown",
   "id": "2ec3c362",
   "metadata": {},
   "source": [
    "But in terms of $t$, we only need 3 equations:"
   ]
  },
  {
   "cell_type": "code",
   "execution_count": 165,
   "id": "9f89213b",
   "metadata": {
    "execution": {
     "iopub.execute_input": "2025-02-04T05:47:55.914836Z",
     "iopub.status.busy": "2025-02-04T05:47:55.914718Z",
     "iopub.status.idle": "2025-02-04T05:47:57.356476Z",
     "shell.execute_reply": "2025-02-04T05:47:57.356166Z"
    }
   },
   "outputs": [
    {
     "data": {
      "text/markdown": [
       "$$\\begin{align*}\n",
       "    0{}^{x} &= \\ddot{x} - \\dot{x}^{3} \\partial_{t} \\left(a\\right) a - \\dot{x} \\dot{y}^{2} \\partial_{t} \\left(a\\right) a - \\dot{x} \\dot{z}^{2} \\partial_{t} \\left(a\\right) a + \\frac{2 \\dot{x} \\partial_{t} \\left(a\\right)}{a} \\\\\n",
       "    0{}^{y} &= \\ddot{y} - \\dot{x}^{2} \\dot{y} \\partial_{t} \\left(a\\right) a - \\dot{y}^{3} \\partial_{t} \\left(a\\right) a - \\dot{y} \\dot{z}^{2} \\partial_{t} \\left(a\\right) a + \\frac{2 \\dot{y} \\partial_{t} \\left(a\\right)}{a} \\\\\n",
       "    0{}^{z} &= \\ddot{z} - \\dot{x}^{2} \\dot{z} \\partial_{t} \\left(a\\right) a - \\dot{y}^{2} \\dot{z} \\partial_{t} \\left(a\\right) a - \\dot{z}^{3} \\partial_{t} \\left(a\\right) a + \\frac{2 \\dot{z} \\partial_{t} \\left(a\\right)}{a} \n",
       "\\end{align*}$$"
      ],
      "text/plain": [
       "<IPython.core.display.Markdown object>"
      ]
     },
     "metadata": {},
     "output_type": "display_data"
    }
   ],
   "source": [
    "FLRW.geodesic_time_param().list(coords=Cartesian)"
   ]
  },
  {
   "cell_type": "markdown",
   "id": "2e127dcc",
   "metadata": {},
   "source": [
    "These equations are easier to solve. For simplicity, assume that we are only moving along the x coordinate. Then we only have one equation to solve:"
   ]
  },
  {
   "cell_type": "code",
   "execution_count": 166,
   "id": "83900725",
   "metadata": {
    "execution": {
     "iopub.execute_input": "2025-02-04T05:47:57.357579Z",
     "iopub.status.busy": "2025-02-04T05:47:57.357461Z",
     "iopub.status.idle": "2025-02-04T05:47:57.361035Z",
     "shell.execute_reply": "2025-02-04T05:47:57.360712Z"
    }
   },
   "outputs": [
    {
     "data": {
      "text/latex": [
       "$\\displaystyle - a{\\left(t \\right)} \\frac{d}{d t} a{\\left(t \\right)} \\left(\\frac{d}{d t} x{\\left(t \\right)}\\right)^{3} - a{\\left(t \\right)} \\frac{d}{d t} a{\\left(t \\right)} \\frac{d}{d t} x{\\left(t \\right)} \\left(\\frac{d}{d t} y{\\left(t \\right)}\\right)^{2} - a{\\left(t \\right)} \\frac{d}{d t} a{\\left(t \\right)} \\frac{d}{d t} x{\\left(t \\right)} \\left(\\frac{d}{d t} z{\\left(t \\right)}\\right)^{2} + \\frac{d^{2}}{d t^{2}} x{\\left(t \\right)} + \\frac{2 \\frac{d}{d t} a{\\left(t \\right)} \\frac{d}{d t} x{\\left(t \\right)}}{a{\\left(t \\right)}}$"
      ],
      "text/plain": [
       "-a(t)*Derivative(a(t), t)*Derivative(x(t), t)**3 - a(t)*Derivative(a(t), t)*Derivative(x(t), t)*Derivative(y(t), t)**2 - a(t)*Derivative(a(t), t)*Derivative(x(t), t)*Derivative(z(t), t)**2 + Derivative(x(t), (t, 2)) + 2*Derivative(a(t), t)*Derivative(x(t), t)/a(t)"
      ]
     },
     "execution_count": 166,
     "metadata": {},
     "output_type": "execute_result"
    }
   ],
   "source": [
    "FLRW_eq = FLRW.geodesic_time_param().components(coords=Cartesian, indices=(1,))[1]"
   ]
  },
  {
   "cell_type": "markdown",
   "id": "3e09aea7",
   "metadata": {},
   "source": [
    "We are assuming that $\\dot{y}(t) = \\dot{z}(t) = 0$, so let us remove them from the equation. First, let us get dictionaries mapping the coordinates to functions of time. This is identical to what we did above for the Alcubierre metric, except that this time we pass $t$ to the `of_param` functions so we get functions of $t$ instead of $\\lambda$:"
   ]
  },
  {
   "cell_type": "code",
   "execution_count": 167,
   "id": "c1341b59",
   "metadata": {
    "execution": {
     "iopub.execute_input": "2025-02-04T05:47:57.362089Z",
     "iopub.status.busy": "2025-02-04T05:47:57.361977Z",
     "iopub.status.idle": "2025-02-04T05:47:57.364232Z",
     "shell.execute_reply": "2025-02-04T05:47:57.363948Z"
    }
   },
   "outputs": [
    {
     "data": {
      "text/plain": [
       "{t: t(t), x: x(t), y: y(t), z: z(t)}"
      ]
     },
     "execution_count": 167,
     "metadata": {},
     "output_type": "execute_result"
    }
   ],
   "source": [
    "param = Cartesian.of_param_dict(t)"
   ]
  },
  {
   "cell_type": "code",
   "execution_count": 168,
   "id": "556ce3a9",
   "metadata": {
    "execution": {
     "iopub.execute_input": "2025-02-04T05:47:57.365104Z",
     "iopub.status.busy": "2025-02-04T05:47:57.364988Z",
     "iopub.status.idle": "2025-02-04T05:47:57.367695Z",
     "shell.execute_reply": "2025-02-04T05:47:57.367441Z"
    }
   },
   "outputs": [
    {
     "data": {
      "text/plain": [
       "{t: Derivative(t(t), t),\n",
       " x: Derivative(x(t), t),\n",
       " y: Derivative(y(t), t),\n",
       " z: Derivative(z(t), t)}"
      ]
     },
     "execution_count": 168,
     "metadata": {},
     "output_type": "execute_result"
    }
   ],
   "source": [
    "dot = Cartesian.of_param_dot_dict(t)"
   ]
  },
  {
   "cell_type": "markdown",
   "id": "1c7bd08a",
   "metadata": {},
   "source": [
    "If we now substitute $\\dot{y}(t) = \\dot{z}(t) = 0$ in the equation, it simplifies considerably:"
   ]
  },
  {
   "cell_type": "code",
   "execution_count": 169,
   "id": "7d8aa36a",
   "metadata": {
    "execution": {
     "iopub.execute_input": "2025-02-04T05:47:57.368560Z",
     "iopub.status.busy": "2025-02-04T05:47:57.368445Z",
     "iopub.status.idle": "2025-02-04T05:47:57.372411Z",
     "shell.execute_reply": "2025-02-04T05:47:57.372076Z"
    }
   },
   "outputs": [
    {
     "data": {
      "text/latex": [
       "$\\displaystyle - a{\\left(t \\right)} \\frac{d}{d t} a{\\left(t \\right)} \\left(\\frac{d}{d t} x{\\left(t \\right)}\\right)^{3} + \\frac{d^{2}}{d t^{2}} x{\\left(t \\right)} + \\frac{2 \\frac{d}{d t} a{\\left(t \\right)} \\frac{d}{d t} x{\\left(t \\right)}}{a{\\left(t \\right)}}$"
      ],
      "text/plain": [
       "-a(t)*Derivative(a(t), t)*Derivative(x(t), t)**3 + Derivative(x(t), (t, 2)) + 2*Derivative(a(t), t)*Derivative(x(t), t)/a(t)"
      ]
     },
     "execution_count": 169,
     "metadata": {},
     "output_type": "execute_result"
    }
   ],
   "source": [
    "FLRW_eq.subs({dot[y]: 0, dot[z]: 0})"
   ]
  },
  {
   "cell_type": "markdown",
   "id": "8d586843",
   "metadata": {},
   "source": [
    "The solution can be obtained using `dsolve()` in terms of an integral over $a(t)$, passing $x(t)$ in the second argument as the function to solve for. The command to do that is `all_solutions = T.s.Array(T.s.dsolve(FLRWEq.subs({dot[y]: 0, dot[z]: 0}), param[x]))`, but I did not include it in the notebook because it takes a very long time to run. The solution found by SymPy is (after some beautification):\n",
    "\n",
    "$$\n",
    "x(t) = C_ {1} \\pm \\int \\frac{1}{a(t) \\sqrt{1 + C_ {2} a^{2}(t)}} \\mathrm{d}t\n",
    "$$\n",
    "\n",
    "We can use the `rhs` property to obtain the right-hand side of the equation, selecting the positive solution (at position 1 of the array): `all_solutions[1].rhs`. By taking the derivative with respect to $t$, `all_solutions[1].rhs.diff(t)`, we can get the coordinate velocity $\\dot{x}$ along $x$:\n",
    "\n",
    "$$\n",
    "\\dot{x}(t) = \\frac{1}{a(t) \\sqrt{1 + C_ {2} a^{2}(t)}}\n",
    "$$\n",
    "\n",
    "### Changing the curve parameter\n",
    "\n",
    "By default, the curve parameter is $\\lambda$. This can be seen by extracting the components of a tensor that uses the curve parameter, such as the Lagrangian:"
   ]
  },
  {
   "cell_type": "code",
   "execution_count": 170,
   "id": "f9946f79",
   "metadata": {
    "execution": {
     "iopub.execute_input": "2025-02-04T05:47:57.373327Z",
     "iopub.status.busy": "2025-02-04T05:47:57.373223Z",
     "iopub.status.idle": "2025-02-04T05:47:57.376947Z",
     "shell.execute_reply": "2025-02-04T05:47:57.376642Z"
    }
   },
   "outputs": [
    {
     "data": {
      "text/markdown": [
       "**OGRePy**: Using default coordinate system `Cartesian` and default index configuration ()."
      ],
      "text/plain": [
       "<IPython.core.display.Markdown object>"
      ]
     },
     "metadata": {},
     "output_type": "display_data"
    },
    {
     "data": {
      "text/latex": [
       "$\\displaystyle \\left[\\begin{matrix}- \\left(\\frac{d}{d \\lambda} t{\\left(\\lambda \\right)}\\right)^{2} + \\left(\\frac{d}{d \\lambda} x{\\left(\\lambda \\right)}\\right)^{2} + \\left(\\frac{d}{d \\lambda} y{\\left(\\lambda \\right)}\\right)^{2} + \\left(\\frac{d}{d \\lambda} z{\\left(\\lambda \\right)}\\right)^{2}\\end{matrix}\\right]$"
      ],
      "text/plain": [
       "[-Derivative(t(\\lambda), \\lambda)**2 + Derivative(x(\\lambda), \\lambda)**2 + Derivative(y(\\lambda), \\lambda)**2 + Derivative(z(\\lambda), \\lambda)**2]"
      ]
     },
     "execution_count": 170,
     "metadata": {},
     "output_type": "execute_result"
    }
   ],
   "source": [
    "Minkowski.lagrangian().components()"
   ]
  },
  {
   "cell_type": "markdown",
   "id": "b587b0f6",
   "metadata": {},
   "source": [
    "However, sometimes we want to use another parameter - for example, $\\tau$ for proper time. To change the parameter, we can set `T.options.curve_parameter` to a symbol of our choice, whether as a string, a TeX symbol, or a SymPy `Symbol`. As an example, let us change it to $\\tau$:"
   ]
  },
  {
   "cell_type": "code",
   "execution_count": 171,
   "id": "a60b50a4",
   "metadata": {
    "execution": {
     "iopub.execute_input": "2025-02-04T05:47:57.377875Z",
     "iopub.status.busy": "2025-02-04T05:47:57.377764Z",
     "iopub.status.idle": "2025-02-04T05:47:57.379346Z",
     "shell.execute_reply": "2025-02-04T05:47:57.379110Z"
    }
   },
   "outputs": [],
   "source": [
    "T.options.curve_parameter = \"tau\""
   ]
  },
  {
   "cell_type": "markdown",
   "id": "bddef3d6",
   "metadata": {},
   "source": [
    "Changing the curve parameter applies retroactively to any tensors previously calculated. Behind the scenes, the curve parameter is stored only as a placeholder, which is replaced dynamically with the user's chosen symbol when the components are displayed with `show()` or `list()` or extracted with `components()`. If we now display the components of the Lagrangian again, the curve parameter will be changed to $\\tau$:"
   ]
  },
  {
   "cell_type": "code",
   "execution_count": 172,
   "id": "b636b053",
   "metadata": {
    "execution": {
     "iopub.execute_input": "2025-02-04T05:47:57.380424Z",
     "iopub.status.busy": "2025-02-04T05:47:57.380309Z",
     "iopub.status.idle": "2025-02-04T05:47:57.384448Z",
     "shell.execute_reply": "2025-02-04T05:47:57.384207Z"
    }
   },
   "outputs": [
    {
     "data": {
      "text/markdown": [
       "**OGRePy**: Using default coordinate system `Cartesian` and default index configuration ()."
      ],
      "text/plain": [
       "<IPython.core.display.Markdown object>"
      ]
     },
     "metadata": {},
     "output_type": "display_data"
    },
    {
     "data": {
      "text/latex": [
       "$\\displaystyle \\left[\\begin{matrix}- \\left(\\frac{d}{d \\tau} t{\\left(\\tau \\right)}\\right)^{2} + \\left(\\frac{d}{d \\tau} x{\\left(\\tau \\right)}\\right)^{2} + \\left(\\frac{d}{d \\tau} y{\\left(\\tau \\right)}\\right)^{2} + \\left(\\frac{d}{d \\tau} z{\\left(\\tau \\right)}\\right)^{2}\\end{matrix}\\right]$"
      ],
      "text/plain": [
       "[-Derivative(t(\\tau), \\tau)**2 + Derivative(x(\\tau), \\tau)**2 + Derivative(y(\\tau), \\tau)**2 + Derivative(z(\\tau), \\tau)**2]"
      ]
     },
     "execution_count": 172,
     "metadata": {},
     "output_type": "execute_result"
    }
   ],
   "source": [
    "Minkowski.lagrangian().components()"
   ]
  },
  {
   "cell_type": "markdown",
   "id": "b8e92908",
   "metadata": {},
   "source": [
    "## About the project\n",
    "\n",
    "### Bug reports and feature requests\n",
    "\n",
    "This package is under continuous and active development. If you encounter any bugs, or if you would like to request any additional features, please feel free to [open a new issue on GitHub](https://github.com/bshoshany/OGRePy/issues) and I will look into it as soon as I can.\n",
    "\n",
    "### Contribution and pull request policy\n",
    "\n",
    "Contributions are always welcome. However, I release my projects in cumulative updates after editing and testing them locally on my system, so **my policy is to never accept any pull requests**. If you open a pull request, and I decide to incorporate your suggestion into the project, I will first modify your code to comply with the project's coding conventions (formatting, syntax, naming, comments, programming practices, etc.), and perform some tests to ensure that the change doesn't break anything. I will then merge it into the next release of the project, possibly together with some other changes. The new release will also include a note in `CHANGELOG.md` with a link to your pull request, and modifications to the documentation in `README.md` as needed.\n",
    "\n",
    "To create a development environment for this package, download the source code directly from the [GitHub repository](https://github.com/bshoshany/OGRePy), then create a virtual environment in the root folder of the repository [as explained above](#installing-in-a-virtual-environment), activate it, and run `pip install jupyterlab jupytext playwright sympy` to install the development packages, then run `playwright install` to install the browser binaries for HTML to PDF conversion (if desired).\n",
    "\n",
    "For your convenience, a Python script, [update_packages.py](https://github.com/bshoshany/OGRePy/blob/master/tasks/update_packages.py), is provided in the GitHub repository to allow easily updating all outdated packages. Another script, [compile_docs.py](https://github.com/bshoshany/OGRePy/blob/master/tasks/compile_docs.py), is used to compile the documentation in `README.md` to `.ipynb`, `.html`, and `.pdf` formats. Finally, [cleanup.py](https://github.com/bshoshany/OGRePy/blob/master/tasks/cleanup.py) is used to clean up Python and Jupyter cache folders.\n",
    "\n",
    "This package was developed in [Visual Studio Code](https://code.visualstudio.com/). The `.vscode` folder is provided in the GitHub repository for your convenience, including tasks for running the above scripts. It is highly recommended to install the following linters:\n",
    "\n",
    "* [Pyright](https://github.com/microsoft/pyright): install the Pylance [VS Code extension](https://marketplace.visualstudio.com/items?itemName=ms-python.vscode-pylance).\n",
    "* [Ruff](https://github.com/astral-sh/ruff): `pip install ruff` and install the [VS Code extension](https://marketplace.visualstudio.com/items?itemName=charliermarsh.ruff).\n",
    "* [Pylint](https://www.pylint.org/): `pip install pylint` and install the [VS Code extension](https://marketplace.visualstudio.com/items?itemName=ms-python.pylint).\n",
    "\n",
    "Configurations for all 3 linters are included in the `pyproject.toml` file in the GitHub repository.\n",
    "\n",
    "### Starring the repository\n",
    "\n",
    "If you found this project useful, please consider [starring it on GitHub](https://github.com/bshoshany/OGRePy/stargazers)! This allows me to see how many people are using my code, and motivates me to keep working to improve it.\n",
    "\n",
    "### Acknowledgements\n",
    "\n",
    "I would like to thank my student Jared Wogan, whose undergraduate research project, a preliminary Python port of my Mathematica package OGRe, motivated and inspired me to eventually write my own port, OGRePy. I acknowledge the support of the Natural Sciences and Engineering Research Council of Canada (NSERC), RGPIN-2024-04063.\n",
    "\n",
    "### Copyright and citing\n",
    "\n",
    "Copyright (c) 2025 [Barak Shoshany](https://baraksh.com/). Licensed under the [MIT license](https://github.com/bshoshany/OGRePy/blob/master/LICENSE.txt).\n",
    "\n",
    "If you use this package in software of any kind, please provide a link to [the GitHub repository](https://github.com/bshoshany/OGRePy) in the source code and documentation.\n",
    "\n",
    "If you use this package in published research, please cite it as follows:\n",
    "\n",
    "* Barak Shoshany, *\"OGRePy: An Object-Oriented General Relativity Package for Python\"*, [doi:10.48550/arXiv.2409.03803](https://doi.org/10.48550/arXiv.2409.03803), [arXiv:2409.03803](https://arxiv.org/abs/2409.03803) (September 2024)\n",
    "\n",
    "You can use the following BibTeX entry:\n",
    "\n",
    "```bibtex\n",
    "@article{Shoshany2024_OGRePy,\n",
    "    archiveprefix = {arXiv},\n",
    "    author        = {Barak Shoshany},\n",
    "    doi           = {10.48550/arXiv.2409.03803},\n",
    "    eprint        = {2409.03803},\n",
    "    title         = {{OGRePy: An Object-Oriented General Relativity Package for Python}},\n",
    "    year          = {2024}\n",
    "}\n",
    "```\n",
    "\n",
    "For your convenience, this citing information can always be obtained by executing the function `T.cite()`.\n",
    "\n",
    "Please note that the paper on [arXiv](https://arxiv.org/abs/2409.03803) is not up to date with the latest version of the package. It is only intended to facilitate discovery of this package by scientists, and to enable citing it in scientific research. Documentation for the latest version is always available in the [the GitHub repository](https://github.com/bshoshany/OGRePy).\n",
    "\n",
    "### Other projects to check out\n",
    "\n",
    "This package is a Python port of [OGRe](https://github.com/bshoshany/OGRe): An Object-Oriented General Relativity Package for Mathematica. You may also be interested in [`BS::thread_pool`](https://github.com/bshoshany/thread-pool): a fast, lightweight, modern, and easy-to-use C++17 / C++20 / C++23 thread pool library."
   ]
  }
 ],
 "metadata": {
  "jupytext": {
   "cell_metadata_filter": "-all",
   "main_language": "python",
   "notebook_metadata_filter": "-all"
  },
  "language_info": {
   "codemirror_mode": {
    "name": "ipython",
    "version": 3
   },
   "file_extension": ".py",
   "mimetype": "text/x-python",
   "name": "python",
   "nbconvert_exporter": "python",
   "pygments_lexer": "ipython3",
   "version": "3.13.1"
  }
 },
 "nbformat": 4,
 "nbformat_minor": 5
}
