{
 "cells": [
  {
   "cell_type": "code",
   "execution_count": null,
   "id": "2d0d9ef8",
   "metadata": {},
   "outputs": [],
   "source": [
    "# Run this cell to get started with OGRePy!\n",
    "# Once you see the welcome message, you're all set.\n",
    "# See the documentation for more details.\n",
    "\n",
    "%pip install OGRePy\n",
    "OGREPY_DISABLE_UPDATE_CHECK = True\n",
    "import OGRePy as T"
   ]
  }
 ],
 "metadata": {
  "kernelspec": {
   "display_name": ".OGRePy-env",
   "language": "python",
   "name": "python3"
  },
  "language_info": {
   "name": "python",
   "version": "3.13.5"
  }
 },
 "nbformat": 4,
 "nbformat_minor": 5
}
